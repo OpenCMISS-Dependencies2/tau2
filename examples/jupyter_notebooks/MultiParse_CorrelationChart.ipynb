{
 "cells": [
  {
   "cell_type": "code",
   "execution_count": null,
   "metadata": {},
   "outputs": [],
   "source": [
    "from itertools import islice, cycle\n",
    "from tau_profile_parser import TauProfileParser\n",
    "import pandas as pd\n",
    "import plotly.graph_objs as go\n",
    "import plotly.express as px\n",
    "import os\n",
    "import re\n",
    "import glob"
   ]
  },
  {
   "cell_type": "markdown",
   "metadata": {},
   "source": [
    "### Parsing MULTI__ files\n",
    "\n",
    "The TauProfileParser has been updated to parse MULTI files. However, by default it will look for profile.* files before looking for MULTI folders. By passing the `True` flag for MULTI it will automatically parse the MULTI folders."
   ]
  },
  {
   "cell_type": "code",
   "execution_count": null,
   "metadata": {},
   "outputs": [],
   "source": [
    "path_to_files = 'local/path/to/tau2/examples/jupyter_notebooks/ExampleData/theta_64_flash/nocall'\n",
    "multi_files = TauProfileParser.parse(path_to_files,MULTI=True)"
   ]
  },
  {
   "cell_type": "code",
   "execution_count": null,
   "metadata": {
    "scrolled": true
   },
   "outputs": [],
   "source": [
    "multi_files.metadata"
   ]
  },
  {
   "cell_type": "markdown",
   "metadata": {},
   "source": [
    "### Multi-level Column Names\n",
    "When MULTI files are parsed, the column names are organized with a hierarchy. The top level (level 0) are the Intervals. The second level is the the subdivision of exclusive and inclusive into the metrics. Since all metrics have the much of the same data, only the Exclusive and Inclusive are differentiated. The index of the dataframe is also multi index: `Node,Context,Thread,Timer` being the order."
   ]
  },
  {
   "cell_type": "code",
   "execution_count": null,
   "metadata": {
    "scrolled": true
   },
   "outputs": [],
   "source": [
    "multi_files.interval_data().head()"
   ]
  },
  {
   "cell_type": "code",
   "execution_count": null,
   "metadata": {},
   "outputs": [],
   "source": [
    "exclusive_df = multi_files.interval_data()['Exclusive']\n",
    "exclusive_df.head()"
   ]
  },
  {
   "cell_type": "code",
   "execution_count": null,
   "metadata": {},
   "outputs": [],
   "source": [
    "max_dict = exclusive_df.max().to_dict()"
   ]
  },
  {
   "cell_type": "code",
   "execution_count": null,
   "metadata": {},
   "outputs": [],
   "source": [
    "normalized_df = exclusive_df.copy()\n",
    "for columns in exclusive_df.columns:\n",
    "    normalized_df[columns] = normalized_df[columns].apply(lambda x: x/max_dict[columns])\n"
   ]
  },
  {
   "cell_type": "code",
   "execution_count": null,
   "metadata": {
    "scrolled": true
   },
   "outputs": [],
   "source": [
    "flat_index = normalized_df.index.to_flat_index()\n",
    "threads = [tup[2] for tup in flat_index]\n",
    "timer = [tup[3] for tup in flat_index]\n",
    "\n",
    "normalized_df.reset_index(inplace=True)\n",
    "normalized_df.sort_values(('TIME'), ascending=False)"
   ]
  },
  {
   "cell_type": "code",
   "execution_count": null,
   "metadata": {},
   "outputs": [],
   "source": [
    "fig = go.Figure()\n",
    "\n",
    "fig.add_trace(go.Scatter(\n",
    "    x=normalized_df['TIME'].sort_values(ascending=False), \n",
    "    y=normalized_df['PAPI_TOT_INS'].sort_values(ascending=False), \n",
    "    mode='markers'))\n",
    "\n",
    "fig.update_layout(updatemenus=\n",
    "                 [dict(\n",
    "                 buttons=list([\n",
    "                     dict(\n",
    "                     args=['y', [normalized_df.PAPI_L1_DCM]],\n",
    "                     label = 'PAPI_L1_DCM',\n",
    "                     method='restyle'),\n",
    "                     dict(\n",
    "                     args=['y', [normalized_df.PAPI_RES_STL]],\n",
    "                         label='PAPI_RES_STL',\n",
    "                         method='restyle'),\n",
    "                 dict(\n",
    "                     args=['y', [normalized_df.TIME]],\n",
    "                         label='TIME',\n",
    "                         method='restyle'),\n",
    "                 dict(\n",
    "                     args=['y', [normalized_df.PAPI_TOT_INS]],\n",
    "                         label='PAPI_TOT_INS',\n",
    "                         method='restyle')]),\n",
    "                     direction=\"down\",\n",
    "            pad={\"r\": 10, \"t\": 10},\n",
    "            showactive=True,\n",
    "            x=.3,\n",
    "            xanchor=\"left\",\n",
    "            y=1.1,\n",
    "            yanchor=\"top\",),\n",
    "                  \n",
    "                 dict(\n",
    "                 buttons=list([\n",
    "                     dict(\n",
    "                     args=['x', [normalized_df.PAPI_L1_DCM]],\n",
    "                     label = 'PAPI_L1_DCM',\n",
    "                     method='restyle'),\n",
    "                     dict(\n",
    "                     args=['x', [normalized_df.PAPI_RES_STL]],\n",
    "                         label='PAPI_RES_STL',\n",
    "                         method='restyle'),\n",
    "                 dict(\n",
    "                     args=['x', [normalized_df.TIME]],\n",
    "                         label='TIME',\n",
    "                         method='restyle'),\n",
    "                 dict(\n",
    "                     args=['x', [normalized_df.PAPI_TOT_INS]],\n",
    "                         label='PAPI_TOT_INS',\n",
    "                         method='restyle')]),\n",
    "                     direction=\"down\",\n",
    "            pad={\"r\": 10, \"t\": 10},\n",
    "            showactive=True,\n",
    "            x=1.3,\n",
    "            xanchor=\"left\",\n",
    "            y=1.1,\n",
    "            yanchor=\"top\",),])\n",
    "\n",
    "\n",
    "\n",
    "fig.update_layout(height=600, width=600,\n",
    "    annotations=[\n",
    "        dict(text=\"Y-axis data:\", showarrow=False,\n",
    "        x=0, y=1.085, yref=\"paper\", align=\"left\"),\n",
    "        dict(text=\"x-axis data:\", showarrow=False,\n",
    "        x=.6, y=1.085, yref=\"paper\", align=\"left\")\n",
    "    ]\n",
    ")\n",
    "\n",
    "fig.show()"
   ]
  },
  {
   "cell_type": "code",
   "execution_count": null,
   "metadata": {},
   "outputs": [],
   "source": [
    "fig = px.scatter(normalized_df, x=normalized_df.PAPI_TOT_INS, y=normalized_df.PAPI_RES_STL, size=normalized_df.Thread,\n",
    "                 hover_data=[normalized_df.Timer], trendline='ols')\n",
    "fig.show()"
   ]
  }
 ],
 "metadata": {
  "kernelspec": {
   "display_name": "Python 3",
   "language": "python",
   "name": "python3"
  },
  "language_info": {
   "codemirror_mode": {
    "name": "ipython",
    "version": 3
   },
   "file_extension": ".py",
   "mimetype": "text/x-python",
   "name": "python",
   "nbconvert_exporter": "python",
   "pygments_lexer": "ipython3",
   "version": "3.8.5"
  }
 },
 "nbformat": 4,
 "nbformat_minor": 4
}
