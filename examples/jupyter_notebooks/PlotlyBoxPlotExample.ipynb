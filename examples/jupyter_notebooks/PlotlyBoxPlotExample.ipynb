{
 "cells": [
  {
   "cell_type": "code",
   "execution_count": null,
   "metadata": {},
   "outputs": [],
   "source": [
    "from tau_profile_parser import TauProfileParser\n",
    "import pandas as pd\n",
    "import matplotlib.pyplot as plt\n",
    "import plotly.graph_objs as go\n",
    "import plotly as py\n",
    "import plotly.express as px\n",
    "from plotly.subplots import make_subplots"
   ]
  },
  {
   "cell_type": "code",
   "execution_count": null,
   "metadata": {},
   "outputs": [],
   "source": [
    "path_to_ExampleData = '/local/path/to/tau2/examples/jupyter_notebooks/ExampleData'"
   ]
  },
  {
   "cell_type": "code",
   "execution_count": null,
   "metadata": {},
   "outputs": [],
   "source": [
    "orig = TauProfileParser.parse(path_to_ExampleData+'/theta_64_flash/orig',MULTI=True)\n",
    "nc_static = TauProfileParser.parse(path_to_ExampleData+'/theta_64_flash/nocall_static',MULTI=True)\n",
    "nocall = TauProfileParser.parse(path_to_ExampleData+'/theta_64_flash/nocall',MULTI=True)"
   ]
  },
  {
   "cell_type": "code",
   "execution_count": null,
   "metadata": {},
   "outputs": [],
   "source": [
    "orig_df = orig.interval_data()\n",
    "nc_static_df = nc_static.interval_data()\n",
    "nocall_df = nocall.interval_data()"
   ]
  },
  {
   "cell_type": "code",
   "execution_count": null,
   "metadata": {},
   "outputs": [],
   "source": [
    "# number of nodes, 1 based indexing\n",
    "nodes_num = 10\n",
    "\n",
    "# for exclusive, time\n",
    "orig_time = pd.DataFrame()\n",
    "nc_static_time = pd.DataFrame()\n",
    "nocall_time = pd.DataFrame()\n",
    "for node in range(nodes_num):\n",
    "    orig_time = orig_time.append(orig_df.loc[(node,0,0),('Exclusive','TIME')].T)\n",
    "    nc_static_time = nc_static_time.append(nc_static_df.loc[(node,0,0),('Exclusive','TIME')].T)\n",
    "    nocall_time = nocall_time.append(nocall_df.loc[(node,0,0),('Exclusive','TIME')].T)  "
   ]
  },
  {
   "cell_type": "code",
   "execution_count": null,
   "metadata": {},
   "outputs": [],
   "source": [
    "# sort the timers by Exclusive, TIME\n",
    "orig_sums = orig_time.sum()\n",
    "orig_sums.sort_values(ascending=False, inplace=True)\n",
    "\n",
    "# drop the MPI TIMERS\n",
    "for timer in orig_sums.index:\n",
    "    if 'MPI' in timer:\n",
    "#         print(timer)\n",
    "        orig_sums.drop(labels=timer, inplace=True)\n",
    "    \n",
    "# the top timers\n",
    "orig_top = orig_sums.head(8)\n",
    "top_timers = [timer for timer in orig_top.index]"
   ]
  },
  {
   "cell_type": "code",
   "execution_count": null,
   "metadata": {},
   "outputs": [],
   "source": [
    "# normalize: top_diff = ((top_diff - top_diff.min())/(top_diff.max() - top_diff.min()))\n",
    "\n",
    "orig_time_norm = ((orig_time - orig_time.min())/(orig_time.max() - orig_time.min()))\n",
    "orig_time_norm['Node'] = orig_time_norm.index\n",
    "orig_time_norm['Method'] = ['Orig' for i in range(nodes_num)]\n",
    "\n",
    "nc_static_time_norm = ((nc_static_time - nc_static_time.min())/(nc_static_time.max() - nc_static_time.min()))\n",
    "nc_static_time_norm['Node'] = nc_static_time_norm.index\n",
    "nc_static_time_norm['Method'] = ['Static' for i in range(nodes_num)]\n",
    "\n",
    "nocall_time_norm = ((nocall_time - nocall_time.min())/(nocall_time.max() - nocall_time.min()))\n",
    "nocall_time_norm['Node'] = nocall_time_norm.index\n",
    "nocall_time_norm['Method'] = ['NoCall' for i in range(nodes_num)]\n"
   ]
  },
  {
   "cell_type": "code",
   "execution_count": null,
   "metadata": {},
   "outputs": [],
   "source": [
    "orig_time['Node'] = orig_time.index\n",
    "orig_time['Method'] = ['Orig' for i in range(nodes_num)]\n",
    "\n",
    "nc_static_time['Node'] = nc_static_time.index\n",
    "nc_static_time['Method'] = ['Static' for i in range(nodes_num)]\n",
    "\n",
    "nocall_time['Node'] = nocall_time.index\n",
    "nocall_time['Method'] = ['NoCall' for i in range(nodes_num)]"
   ]
  },
  {
   "cell_type": "code",
   "execution_count": null,
   "metadata": {},
   "outputs": [],
   "source": [
    "orig_time.reset_index(drop=True, inplace=True)\n",
    "nc_static_time.reset_index(drop=True, inplace=True)\n",
    "nocall_time.reset_index(drop=True, inplace=True)"
   ]
  },
  {
   "cell_type": "code",
   "execution_count": null,
   "metadata": {},
   "outputs": [],
   "source": [
    "non_normal_df = pd.concat([orig_time, nc_static_time, nocall_time])\n",
    "normal_df = pd.concat([orig_time_norm, nc_static_time_norm, nocall_time_norm])"
   ]
  },
  {
   "cell_type": "markdown",
   "metadata": {},
   "source": [
    "##### Box Plot with plotly: \n",
    "https://plotly.com/python/box-plots/"
   ]
  },
  {
   "cell_type": "code",
   "execution_count": null,
   "metadata": {},
   "outputs": [],
   "source": [
    "fig = make_subplots(rows=6, cols=1,shared_xaxes=False,\n",
    "                    vertical_spacing=0.02, subplot_titles=(\"Original Run\", \"Original Run - Normalized\",\n",
    "                                                    \"Static Run\", \"Static Run - Normalized\",\n",
    "                                                    'Nocall Run','Nocall - Normalized'))\n",
    "colors = ['#636EFA', '#EF553B', '#00CC96', '#AB63FA', '#FFA15A', '#19D3F3','#16E489','#BA764E']\n",
    "for name, color in zip(top_timers[:6],colors[:6]):\n",
    "    fig.add_trace(go.Box(y=orig_time[name], name=name, marker_color=color, legendgroup=name), row=1, col=1)\n",
    "    fig.add_trace(go.Box(y=orig_time_norm[name], name=name, marker_color=color, legendgroup=name, showlegend=False), row=2, col=1)\n",
    "    fig.add_trace(go.Box(y=nc_static_time[name], name=name, marker_color=color, legendgroup=name, showlegend=False), row=3, col=1)\n",
    "    fig.add_trace(go.Box(y=nc_static_time_norm[name], name=name, marker_color=color, legendgroup=name, showlegend=False), row=4, col=1)\n",
    "    fig.add_trace(go.Box(y=nocall_time[name], name=name, marker_color=color, legendgroup=name, showlegend=False), row=5, col=1)\n",
    "    fig.add_trace(go.Box(y=nocall_time_norm[name], name=name, marker_color=color, legendgroup=name, showlegend=False), row=6, col=1)\n",
    "\n",
    "# fig.update_layout(yaxis_title='TIME', title='Top 8 Timers on Original Run sorted by Exclusive TIME')\n",
    "\n",
    "# fig.show()\n",
    "\n",
    "fig.update_layout(height=2500, title='Showing TIME values <br> Top 6 timers sorted by TIME')\n",
    "    \n",
    "# fig.write_html(\"/home/users/MTrappett/Flash5_theta/BoxPlotCombine_TIME_Theta64.html\")\n",
    "fig.show()"
   ]
  },
  {
   "cell_type": "markdown",
   "metadata": {},
   "source": [
    "#### Papi Metrics Box Plots\n",
    "##### total Ins"
   ]
  },
  {
   "cell_type": "code",
   "execution_count": null,
   "metadata": {},
   "outputs": [],
   "source": [
    "orig_ins = pd.DataFrame()\n",
    "nc_static_ins = pd.DataFrame()\n",
    "nocall_ins = pd.DataFrame()\n",
    "for node in range(nodes_num):\n",
    "    orig_ins = orig_ins.append(orig_df.loc[(node,0,0),('Exclusive','PAPI_TOT_INS')].T)\n",
    "    nc_static_ins = nc_static_ins.append(nc_static_df.loc[(node,0,0),('Exclusive','PAPI_TOT_INS')].T)\n",
    "    nocall_ins = nocall_ins.append(nocall_df.loc[(node,0,0),('Exclusive','PAPI_TOT_INS')].T) \n",
    "\n",
    "# reset index to make it not a multi-index\n",
    "orig_ins.reset_index(drop=True, inplace=True)\n",
    "nc_static_ins.reset_index(drop=True, inplace=True)\n",
    "nocall_ins.reset_index(drop=True, inplace=True)\n",
    "\n",
    "# normalize: top_diff = ((top_diff - top_diff.min())/(top_diff.max() - top_diff.min()))\n",
    "\n",
    "orig_ins_norm = ((orig_ins - orig_ins.min())/(orig_ins.max() - orig_ins.min()))\n",
    "orig_ins_norm['Node'] = orig_ins_norm.index\n",
    "orig_ins_norm['Method'] = ['Orig' for i in range(nodes_num)]\n",
    "\n",
    "nc_static_ins_norm = ((nc_static_ins - nc_static_ins.min())/(nc_static_ins.max() - nc_static_ins.min()))\n",
    "nc_static_ins_norm['Node'] = nc_static_ins_norm.index\n",
    "nc_static_ins_norm['Method'] = ['Static' for i in range(nodes_num)]\n",
    "\n",
    "nocall_ins_norm = ((nocall_ins - nocall_ins.min())/(nocall_ins.max() - nocall_ins.min()))\n",
    "nocall_ins_norm['Node'] = nocall_ins_norm.index\n",
    "nocall_ins_norm['Method'] = ['NoCall' for i in range(nodes_num)]\n",
    "\n",
    "# add in the node and type columns\n",
    "orig_ins['Node'] = orig_ins.index\n",
    "orig_ins['Method'] = ['Orig' for i in range(nodes_num)]\n",
    "\n",
    "nc_static_ins['Node'] = nc_static_ins.index\n",
    "nc_static_ins['Method'] = ['Static' for i in range(nodes_num)]\n",
    "\n",
    "nocall_ins['Node'] = nocall_ins.index\n",
    "nocall_ins['Method'] = ['NoCall' for i in range(nodes_num)]\n",
    "\n",
    "non_normal_ins_df = pd.concat([orig_ins, nc_static_ins, nocall_ins])"
   ]
  },
  {
   "cell_type": "code",
   "execution_count": null,
   "metadata": {},
   "outputs": [],
   "source": [
    "fig = make_subplots(rows=6, cols=1,shared_xaxes=False,\n",
    "                    vertical_spacing=0.02, subplot_titles=(\"Original Run\", \"Original Run - Normalized\",\n",
    "                                                    \"Static Run\", \"Static Run - Normalized\",\n",
    "                                                    'Nocall Run','Nocall - Normalized'))\n",
    "colors = ['#636EFA', '#EF553B', '#00CC96', '#AB63FA', '#FFA15A', '#19D3F3']\n",
    "for name, color in zip(top_timers,colors):\n",
    "    fig.add_trace(go.Box(y=orig_ins[name], name=name, marker_color=color, legendgroup=name), row=1, col=1)\n",
    "    fig.add_trace(go.Box(y=orig_ins_norm[name], name=name, marker_color=color, legendgroup=name, showlegend=False), row=2, col=1)\n",
    "    fig.add_trace(go.Box(y=nc_static_ins[name], name=name, marker_color=color, legendgroup=name, showlegend=False), row=3, col=1)\n",
    "    fig.add_trace(go.Box(y=nc_static_ins_norm[name], name=name, marker_color=color, legendgroup=name, showlegend=False), row=4, col=1)\n",
    "    fig.add_trace(go.Box(y=nocall_ins[name], name=name, marker_color=color, legendgroup=name, showlegend=False), row=5, col=1)\n",
    "    fig.add_trace(go.Box(y=nocall_ins_norm[name], name=name, marker_color=color, legendgroup=name, showlegend=False), row=6, col=1)\n",
    "\n",
    "\n",
    "fig.update_layout(height=2500, title='Showing Papi_TOT_INS values w/o MPI <br> Top 6 timers sorted by TIME')\n",
    "    \n",
    "# fig.write_html(\"/home/users/MTrappett/Flash5_theta/BoxPlotCombine_PapiTotIns_noMPI_Theta64.html\")\n",
    "fig.show()"
   ]
  },
  {
   "cell_type": "markdown",
   "metadata": {},
   "source": [
    "##### l1 DCM"
   ]
  },
  {
   "cell_type": "code",
   "execution_count": null,
   "metadata": {},
   "outputs": [],
   "source": [
    "orig_ins = pd.DataFrame()\n",
    "nc_static_ins = pd.DataFrame()\n",
    "nocall_ins = pd.DataFrame()\n",
    "for node in range(nodes_num):\n",
    "    orig_ins = orig_ins.append(orig_df.loc[(node,0,0),('Exclusive','PAPI_L1_DCM')].T)\n",
    "    nc_static_ins = nc_static_ins.append(nc_static_df.loc[(node,0,0),('Exclusive','PAPI_L1_DCM')].T)\n",
    "    nocall_ins = nocall_ins.append(nocall_df.loc[(node,0,0),('Exclusive','PAPI_L1_DCM')].T) \n",
    "\n",
    "# reset index to make it not a multi-index\n",
    "orig_ins.reset_index(drop=True, inplace=True)\n",
    "nc_static_ins.reset_index(drop=True, inplace=True)\n",
    "nocall_ins.reset_index(drop=True, inplace=True)\n",
    "\n",
    "# normalize: top_diff = ((top_diff - top_diff.min())/(top_diff.max() - top_diff.min()))\n",
    "\n",
    "orig_ins_norm = ((orig_ins - orig_ins.min())/(orig_ins.max() - orig_ins.min()))\n",
    "orig_ins_norm['Node'] = orig_ins_norm.index\n",
    "orig_ins_norm['Method'] = ['Orig' for i in range(nodes_num)]\n",
    "\n",
    "nc_static_ins_norm = ((nc_static_ins - nc_static_ins.min())/(nc_static_ins.max() - nc_static_ins.min()))\n",
    "nc_static_ins_norm['Node'] = nc_static_ins_norm.index\n",
    "nc_static_ins_norm['Method'] = ['Static' for i in range(nodes_num)]\n",
    "\n",
    "nocall_ins_norm = ((nocall_ins - nocall_ins.min())/(nocall_ins.max() - nocall_ins.min()))\n",
    "nocall_ins_norm['Node'] = nocall_ins_norm.index\n",
    "nocall_ins_norm['Method'] = ['NoCall' for i in range(nodes_num)]\n",
    "\n",
    "# add in the node and type columns\n",
    "orig_ins['Node'] = orig_ins.index\n",
    "orig_ins['Method'] = ['Orig' for i in range(nodes_num)]\n",
    "\n",
    "nc_static_ins['Node'] = nc_static_ins.index\n",
    "nc_static_ins['Method'] = ['Static' for i in range(nodes_num)]\n",
    "\n",
    "nocall_ins['Node'] = nocall_ins.index\n",
    "nocall_ins['Method'] = ['NoCall' for i in range(nodes_num)]\n",
    "\n",
    "non_normal_ins_df = pd.concat([orig_ins, nc_static_ins, nocall_ins])\n",
    "\n",
    "\n",
    "fig = make_subplots(rows=6, cols=1,shared_xaxes=False,\n",
    "                    vertical_spacing=0.02, subplot_titles=(\"Original Run\", \"Original Run - Normalized\",\n",
    "                                                    \"Static Run\", \"Static Run - Normalized\",\n",
    "                                                    'Nocall Run','Nocall - Normalized'))\n",
    "\n",
    "colors = ['#636EFA', '#EF553B', '#00CC96', '#AB63FA', '#FFA15A', '#19D3F3']\n",
    "for name, color in zip(top_timers,colors):\n",
    "    fig.add_trace(go.Box(y=orig_ins[name], name=name, marker_color=color, legendgroup=name), row=1, col=1)\n",
    "    fig.add_trace(go.Box(y=orig_ins_norm[name], name=name, marker_color=color, legendgroup=name, showlegend=False), row=2, col=1)\n",
    "    fig.add_trace(go.Box(y=nc_static_ins[name], name=name, marker_color=color, legendgroup=name, showlegend=False), row=3, col=1)\n",
    "    fig.add_trace(go.Box(y=nc_static_ins_norm[name], name=name, marker_color=color, legendgroup=name, showlegend=False), row=4, col=1)\n",
    "    fig.add_trace(go.Box(y=nocall_ins[name], name=name, marker_color=color, legendgroup=name, showlegend=False), row=5, col=1)\n",
    "    fig.add_trace(go.Box(y=nocall_ins_norm[name], name=name, marker_color=color, legendgroup=name, showlegend=False), row=6, col=1)\n",
    "\n",
    "\n",
    "fig.update_layout(height=2500, title='Showing Papi_l1_DCM values w/o MPI <br> Top 6 timers sorted by TIME')\n",
    "    \n",
    "# fig.write_html(\"/home/users/MTrappett/Flash5_theta/BoxPlotCombine_Papi_L1_DCM_noMPI_Theta64.html\")\n",
    "fig.show()"
   ]
  },
  {
   "cell_type": "markdown",
   "metadata": {},
   "source": [
    "##### Papi RES STL"
   ]
  },
  {
   "cell_type": "code",
   "execution_count": null,
   "metadata": {},
   "outputs": [],
   "source": [
    "orig_ins = pd.DataFrame()\n",
    "nc_static_ins = pd.DataFrame()\n",
    "nocall_ins = pd.DataFrame()\n",
    "for node in range(nodes_num):\n",
    "    orig_ins = orig_ins.append(orig_df.loc[(node,0,0),('Exclusive','PAPI_RES_STL')].T)\n",
    "    nc_static_ins = nc_static_ins.append(nc_static_df.loc[(node,0,0),('Exclusive','PAPI_RES_STL')].T)\n",
    "    nocall_ins = nocall_ins.append(nocall_df.loc[(node,0,0),('Exclusive','PAPI_RES_STL')].T) \n",
    "\n",
    "# reset index to make it not a multi-index\n",
    "orig_ins.reset_index(drop=True, inplace=True)\n",
    "nc_static_ins.reset_index(drop=True, inplace=True)\n",
    "nocall_ins.reset_index(drop=True, inplace=True)\n",
    "\n",
    "# normalize: top_diff = ((top_diff - top_diff.min())/(top_diff.max() - top_diff.min()))\n",
    "\n",
    "orig_ins_norm = ((orig_ins - orig_ins.min())/(orig_ins.max() - orig_ins.min()))\n",
    "orig_ins_norm['Node'] = orig_ins_norm.index\n",
    "orig_ins_norm['Method'] = ['Orig' for i in range(nodes_num)]\n",
    "\n",
    "nc_static_ins_norm = ((nc_static_ins - nc_static_ins.min())/(nc_static_ins.max() - nc_static_ins.min()))\n",
    "nc_static_ins_norm['Node'] = nc_static_ins_norm.index\n",
    "nc_static_ins_norm['Method'] = ['Static' for i in range(nodes_num)]\n",
    "\n",
    "nocall_ins_norm = ((nocall_ins - nocall_ins.min())/(nocall_ins.max() - nocall_ins.min()))\n",
    "nocall_ins_norm['Node'] = nocall_ins_norm.index\n",
    "nocall_ins_norm['Method'] = ['NoCall' for i in range(nodes_num)]\n",
    "\n",
    "# add in the node and type columns\n",
    "orig_ins['Node'] = orig_ins.index\n",
    "orig_ins['Method'] = ['Orig' for i in range(nodes_num)]\n",
    "\n",
    "nc_static_ins['Node'] = nc_static_ins.index\n",
    "nc_static_ins['Method'] = ['Static' for i in range(nodes_num)]\n",
    "\n",
    "nocall_ins['Node'] = nocall_ins.index\n",
    "nocall_ins['Method'] = ['NoCall' for i in range(nodes_num)]\n",
    "\n",
    "non_normal_ins_df = pd.concat([orig_ins, nc_static_ins, nocall_ins])\n",
    "\n",
    "\n",
    "fig = make_subplots(rows=6, cols=1,shared_xaxes=False,\n",
    "                    vertical_spacing=0.02, subplot_titles=(\"Original Run\", \"Original Run - Normalized\",\n",
    "                                                    \"Static Run\", \"Static Run - Normalized\",\n",
    "                                                    'Nocall Run','Nocall - Normalized'))\n",
    "\n",
    "colors = ['#636EFA', '#EF553B', '#00CC96', '#AB63FA', '#FFA15A', '#19D3F3']\n",
    "for name, color in zip(top_timers,colors):\n",
    "    fig.add_trace(go.Box(y=orig_ins[name], name=name, marker_color=color, legendgroup=name), row=1, col=1)\n",
    "    fig.add_trace(go.Box(y=orig_ins_norm[name], name=name, marker_color=color, legendgroup=name, showlegend=False), row=2, col=1)\n",
    "    fig.add_trace(go.Box(y=nc_static_ins[name], name=name, marker_color=color, legendgroup=name, showlegend=False), row=3, col=1)\n",
    "    fig.add_trace(go.Box(y=nc_static_ins_norm[name], name=name, marker_color=color, legendgroup=name, showlegend=False), row=4, col=1)\n",
    "    fig.add_trace(go.Box(y=nocall_ins[name], name=name, marker_color=color, legendgroup=name, showlegend=False), row=5, col=1)\n",
    "    fig.add_trace(go.Box(y=nocall_ins_norm[name], name=name, marker_color=color, legendgroup=name, showlegend=False), row=6, col=1)\n",
    "\n",
    "# fig.update_layout(yaxis_title='TIME', title='Top 8 Timers on Original Run sorted by Exclusive TIME')\n",
    "\n",
    "# fig.show()\n",
    "\n",
    "fig.update_layout(height=2500, title='Showing PAPI_RES_STL values w/o MPI <br> Top 6 timers sorted by TIME')\n",
    "    \n",
    "# fig.write_html(\"/home/users/MTrappett/Flash5_theta/BoxPlotCombine_PAPI_RES_STL_noMPI_Theta64.html\")\n",
    "fig.show()"
   ]
  },
  {
   "cell_type": "code",
   "execution_count": null,
   "metadata": {},
   "outputs": [],
   "source": []
  }
 ],
 "metadata": {
  "kernelspec": {
   "display_name": "Python 3",
   "language": "python",
   "name": "python3"
  },
  "language_info": {
   "codemirror_mode": {
    "name": "ipython",
    "version": 3
   },
   "file_extension": ".py",
   "mimetype": "text/x-python",
   "name": "python",
   "nbconvert_exporter": "python",
   "pygments_lexer": "ipython3",
   "version": "3.8.5"
  }
 },
 "nbformat": 4,
 "nbformat_minor": 4
}
