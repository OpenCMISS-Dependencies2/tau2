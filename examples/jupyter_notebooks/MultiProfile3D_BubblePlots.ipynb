{
 "cells": [
  {
   "cell_type": "markdown",
   "metadata": {},
   "source": [
    "## 3D Bubble charts with plotly and MULTI__ Profile Data!\n",
    "Using the plotly's 3d bubble plots we can display 5 dimensions of data. Those can be node, context,thread with time and timer, or 3 mutli timers with the node and timer, etc. Gets to be a lot of options. \n",
    "\n",
    "We first import the data as normal, then flatten out the indexes. It will be easier to plot the threads if they are not longer part of the multi-index."
   ]
  },
  {
   "cell_type": "code",
   "execution_count": null,
   "metadata": {},
   "outputs": [],
   "source": [
    "from tau_profile_parser import TauProfileParser\n",
    "import pandas as pd\n",
    "import plotly.graph_objs as go\n",
    "import plotly.express as px"
   ]
  },
  {
   "cell_type": "code",
   "execution_count": null,
   "metadata": {},
   "outputs": [],
   "source": [
    "path_to_folder = 'path/to/ProfileFolder'\n",
    "\n",
    "multi_files = TauProfileParser.parse(path_to_folder)\n",
    "multi_files_df = multi_files.interval_data()"
   ]
  },
  {
   "cell_type": "code",
   "execution_count": null,
   "metadata": {},
   "outputs": [],
   "source": [
    "multi_files_df.head()"
   ]
  },
  {
   "cell_type": "markdown",
   "metadata": {},
   "source": [
    "Plotly Example\n",
    "Used this example as a template: https://plotly.com/python/3d-bubble-charts/ . "
   ]
  },
  {
   "cell_type": "code",
   "execution_count": null,
   "metadata": {},
   "outputs": [],
   "source": [
    "multi_files_df = multi_files_df.reset_index()\n",
    "# multi_files.metadata # uncomment to view details about experiment"
   ]
  },
  {
   "cell_type": "code",
   "execution_count": null,
   "metadata": {},
   "outputs": [],
   "source": [
    "multi_files_df.head(5) # uncomment to view dataframe and verify columns and rows"
   ]
  },
  {
   "cell_type": "code",
   "execution_count": null,
   "metadata": {},
   "outputs": [],
   "source": [
    "multi_files_df = pd.concat([multi_files_df,multi_files_df[multi_files_df['Timer Name'].str.match('OpenMP_Implicit_Task')],multi_files_df[multi_files_df['Timer Name'].str.match('OpenMP_Implicit_Task')]]).drop_duplicates(keep=False)"
   ]
  },
  {
   "cell_type": "code",
   "execution_count": null,
   "metadata": {},
   "outputs": [],
   "source": [
    "multi_files_df = pd.concat([multi_files_df,multi_files_df[multi_files_df['Timer Name'].str.match('.TAU application')],multi_files_df[multi_files_df['Timer Name'].str.match('.TAU application')]]).drop_duplicates(keep=False)"
   ]
  },
  {
   "cell_type": "code",
   "execution_count": null,
   "metadata": {},
   "outputs": [],
   "source": [
    "multi_files_df = pd.concat([multi_files_df,multi_files_df[multi_files_df['Timer Name'].str.match('OpenMP_Thread_Type_ompt_thread_worker')],multi_files_df[multi_files_df['Timer Name'].str.match('OpenMP_Thread_Type_ompt_thread_worker')]]).drop_duplicates(keep=False)"
   ]
  },
  {
   "cell_type": "code",
   "execution_count": null,
   "metadata": {},
   "outputs": [],
   "source": [
    "Metric = 'PAPI_TOT_INS'\n",
    "\n",
    "fig = go.Figure(data=go.Scatter3d(\n",
    "    x=multi_files_df[('Exclusive', Metric)],\n",
    "    y=multi_files_df['Timer Name'],\n",
    "    z=multi_files_df[('Exclusive','TIME')],\n",
    "    text=multi_files_df['Timer'],\n",
    "    mode='markers',\n",
    "    marker=dict(\n",
    "        sizemode='diameter',\n",
    "        sizeref=300,\n",
    "        size=multi_files_df['Calls'],\n",
    "        color=multi_files_df['Thread'],\n",
    "        colorbar_title = 'Number<br>of<br>Threads',\n",
    "        colorscale = 'Hot',\n",
    "        line_color='rgb(140, 140, 170)')\n",
    "    ))\n",
    "\n",
    "fig.update_layout(width=1000, height=1000, title = 'Investigation of PAPI metrics and 3D plotly scatter plot',\n",
    "                  scene = dict(xaxis=dict(title='Exclusive, PAPI_TOT_INS'),\n",
    "                               yaxis=dict(title='Timer Name'),\n",
    "                               zaxis=dict(title='Exclusive, TIME'),\n",
    "                               \n",
    "                           ))\n",
    "fig.show()"
   ]
  },
  {
   "cell_type": "code",
   "execution_count": null,
   "metadata": {},
   "outputs": [],
   "source": []
  },
  {
   "cell_type": "code",
   "execution_count": null,
   "metadata": {},
   "outputs": [],
   "source": []
  }
 ],
 "metadata": {
  "kernelspec": {
   "display_name": "Python 3",
   "language": "python",
   "name": "python3"
  },
  "language_info": {
   "codemirror_mode": {
    "name": "ipython",
    "version": 3
   },
   "file_extension": ".py",
   "mimetype": "text/x-python",
   "name": "python",
   "nbconvert_exporter": "python",
   "pygments_lexer": "ipython3",
   "version": "3.8.5"
  }
 },
 "nbformat": 4,
 "nbformat_minor": 4
}
