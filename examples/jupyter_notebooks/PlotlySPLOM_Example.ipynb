{
 "cells": [
  {
   "cell_type": "code",
   "execution_count": null,
   "metadata": {},
   "outputs": [],
   "source": [
    "from tau_profile_parser import TauProfileParser\n",
    "import pandas as pd\n",
    "import matplotlib.pyplot as plt\n",
    "import plotly.graph_objs as go\n",
    "import plotly as py\n",
    "import plotly.express as px\n",
    "pd.options.plotting.backend = \"plotly\""
   ]
  },
  {
   "cell_type": "code",
   "execution_count": null,
   "metadata": {},
   "outputs": [],
   "source": [
    "# user update path\n",
    "path_to_ExampleData = '/local/path/to/tau2/examples/jupyter_notebooks/ExampleData'"
   ]
  },
  {
   "cell_type": "code",
   "execution_count": null,
   "metadata": {},
   "outputs": [],
   "source": [
    "orig = TauProfileParser.parse(path_to_ExampleData+'/theta_64_flash/orig',MULTI=True)\n",
    "nc_static = TauProfileParser.parse(path_to_ExampleData+'/theta_64_flash/nocall_static',MULTI=True)\n",
    "nocall = TauProfileParser.parse(path_to_ExampleData+'/theta_64_flash/nocall',MULTI=True)"
   ]
  },
  {
   "cell_type": "markdown",
   "metadata": {},
   "source": [
    "Saving the dataframes from a tau profile object"
   ]
  },
  {
   "cell_type": "code",
   "execution_count": null,
   "metadata": {},
   "outputs": [],
   "source": [
    "orig_df = orig.interval_data()\n",
    "nc_static_df = nc_static.interval_data()\n",
    "nocall_df = nocall.interval_data()"
   ]
  },
  {
   "cell_type": "markdown",
   "metadata": {},
   "source": [
    "The DF has a multilevel index and column which can be helpful, but also difficult to work with."
   ]
  },
  {
   "cell_type": "code",
   "execution_count": null,
   "metadata": {},
   "outputs": [],
   "source": [
    "nocall_df.head(2)"
   ]
  },
  {
   "cell_type": "code",
   "execution_count": null,
   "metadata": {},
   "outputs": [],
   "source": [
    "# num of nodes, 1 based indexing\n",
    "nodes_num = 10\n",
    "# for exclusive, time\n",
    "orig_time = pd.DataFrame()\n",
    "nc_static_time = pd.DataFrame()\n",
    "nocall_time = pd.DataFrame()\n",
    "for node in range(nodes_num):\n",
    "    orig_time = orig_time.append(orig_df.loc[(node,0,0),('Exclusive','TIME')].T)\n",
    "    nc_static_time = nc_static_time.append(nc_static_df.loc[(node,0,0),('Exclusive','TIME')].T)\n",
    "    nocall_time = nocall_time.append(nocall_df.loc[(node,0,0),('Exclusive','TIME')].T)            "
   ]
  },
  {
   "cell_type": "code",
   "execution_count": null,
   "metadata": {},
   "outputs": [],
   "source": [
    "# sort the timers by Exclusive, TIME\n",
    "orig_sums = orig_time.sum()\n",
    "orig_sums.sort_values(ascending=False, inplace=True)\n",
    "\n",
    "# drop the MPI TIMERS\n",
    "for timer in orig_sums.index:\n",
    "    if 'MPI' in timer:\n",
    "#         print(timer)\n",
    "        orig_sums.drop(labels=timer, inplace=True)\n",
    "\n",
    "# the top timers\n",
    "orig_top = orig_sums.head(6)\n",
    "top_timers = [timer for timer in orig_top.index]"
   ]
  },
  {
   "cell_type": "code",
   "execution_count": null,
   "metadata": {},
   "outputs": [],
   "source": [
    "orig_time.reset_index(drop=True, inplace=True)\n",
    "nc_static_time.reset_index(drop=True, inplace=True)\n",
    "nocall_time.reset_index(drop=True, inplace=True)"
   ]
  },
  {
   "cell_type": "code",
   "execution_count": null,
   "metadata": {},
   "outputs": [],
   "source": [
    "orig_time.index"
   ]
  },
  {
   "cell_type": "code",
   "execution_count": null,
   "metadata": {},
   "outputs": [],
   "source": [
    "# normalize: top_diff = ((top_diff - top_diff.min())/(top_diff.max() - top_diff.min()))\n",
    "\n",
    "orig_time_norm = ((orig_time - orig_time.min())/(orig_time.max() - orig_time.min()))\n",
    "orig_time_norm['Node'] = orig_time_norm.index\n",
    "orig_time_norm['Method'] = ['Orig' for i in range(nodes_num)]\n",
    "\n",
    "nc_static_time_norm = ((nc_static_time - nc_static_time.min())/(nc_static_time.max() - nc_static_time.min()))\n",
    "nc_static_time_norm['Node'] = nc_static_time_norm.index\n",
    "nc_static_time_norm['Method'] = ['Static' for i in range(nodes_num)]\n",
    "\n",
    "nocall_time_norm = ((nocall_time - nocall_time.min())/(nocall_time.max() - nocall_time.min()))\n",
    "nocall_time_norm['Node'] = nocall_time_norm.index\n",
    "nocall_time_norm['Method'] = ['NoCall' for i in range(nodes_num)]\n",
    "# nocall_time_norm.sample(5)"
   ]
  },
  {
   "cell_type": "markdown",
   "metadata": {},
   "source": [
    "### add the method to the orig_time data frames to plot non-normalized dataframes"
   ]
  },
  {
   "cell_type": "code",
   "execution_count": null,
   "metadata": {},
   "outputs": [],
   "source": [
    "orig_time['Node'] = orig_time.index\n",
    "orig_time['Method'] = ['Orig' for i in range(nodes_num)]\n",
    "\n",
    "nc_static_time['Node'] = nc_static_time.index\n",
    "nc_static_time['Method'] = ['Static' for i in range(nodes_num)]\n",
    "\n",
    "nocall_time['Node'] = nocall_time.index\n",
    "nocall_time['Method'] = ['NoCall' for i in range(nodes_num)]"
   ]
  },
  {
   "cell_type": "raw",
   "metadata": {},
   "source": [
    "scatterplot matrices: https://plotly.com/python/splom/"
   ]
  },
  {
   "cell_type": "code",
   "execution_count": null,
   "metadata": {},
   "outputs": [],
   "source": [
    "total_df = pd.concat([orig_time_norm, nc_static_time_norm, nocall_time_norm])\n",
    "non_normal_df = pd.concat([orig_time, nc_static_time, nocall_time])\n"
   ]
  },
  {
   "cell_type": "code",
   "execution_count": null,
   "metadata": {},
   "outputs": [],
   "source": [
    "pd.options.plotting.backend = \"plotly\"\n",
    "\n",
    "\n",
    "title = 'Top 6 Timers on Original Run sorted by Exclusive TIME'\n",
    "\n",
    "fig = px.scatter_matrix(non_normal_df, dimensions=top_timers, color='Method', hover_data=['Node'])\n",
    "fig.update_layout(height=1500, width=1500, title=title)\n",
    "# fig.write_html(\"/home/users/MTrappett/Flash5_theta/splom_orig_nocall_noMPI_non_norm.html\")\n",
    "\n",
    "fig.show()"
   ]
  },
  {
   "cell_type": "markdown",
   "metadata": {},
   "source": [
    "### Non-normalized papi sploms\n"
   ]
  },
  {
   "cell_type": "code",
   "execution_count": null,
   "metadata": {},
   "outputs": [],
   "source": [
    "orig_ins = pd.DataFrame()\n",
    "nc_static_ins = pd.DataFrame()\n",
    "nocall_ins = pd.DataFrame()\n",
    "for node in range(nodes_num):\n",
    "    orig_ins = orig_ins.append(orig_df.loc[(node,0,0),('Exclusive','PAPI_TOT_INS')].T)\n",
    "    nc_static_ins = nc_static_ins.append(nc_static_df.loc[(node,0,0),('Exclusive','PAPI_TOT_INS')].T)\n",
    "    nocall_ins = nocall_ins.append(nocall_df.loc[(node,0,0),('Exclusive','PAPI_TOT_INS')].T) \n",
    "\n",
    "# reset index to make it not a multi-index\n",
    "orig_ins.reset_index(drop=True, inplace=True)\n",
    "nc_static_ins.reset_index(drop=True, inplace=True)\n",
    "nocall_ins.reset_index(drop=True, inplace=True)\n",
    "\n",
    "# add in the node and type columns\n",
    "orig_ins['Node'] = orig_ins.index\n",
    "orig_ins['Method'] = ['Orig' for i in range(nodes_num)]\n",
    "\n",
    "nc_static_ins['Node'] = nc_static_ins.index\n",
    "nc_static_ins['Method'] = ['Static' for i in range(nodes_num)]\n",
    "\n",
    "nocall_ins['Node'] = nocall_ins.index\n",
    "nocall_ins['Method'] = ['NoCall' for i in range(nodes_num)]\n",
    "\n",
    "non_normal_ins_df = pd.concat([orig_ins, nc_static_ins, nocall_ins])"
   ]
  },
  {
   "cell_type": "code",
   "execution_count": null,
   "metadata": {},
   "outputs": [],
   "source": [
    "title = 'Papi Total Instructions w/o MPI <br> Top 6 Timers on sorted by Exclusive TIME'\n",
    "\n",
    "fig = px.scatter_matrix(non_normal_ins_df, dimensions=top_timers, color='Method', hover_data=['Node'], size_max=10)\n",
    "fig.update_layout(height=1500, width=1500, title=title)\n",
    "# fig.write_html(\"/home/users/MTrappett/Flash5_theta/splom_tot_ins_noMPI_non_norm.html\")\n",
    "\n",
    "fig.show()"
   ]
  },
  {
   "cell_type": "markdown",
   "metadata": {},
   "source": [
    "#### DCM SPLOM"
   ]
  },
  {
   "cell_type": "code",
   "execution_count": null,
   "metadata": {},
   "outputs": [],
   "source": [
    "orig_ins = pd.DataFrame()\n",
    "nc_static_ins = pd.DataFrame()\n",
    "nocall_ins = pd.DataFrame()\n",
    "for node in range(nodes_num):\n",
    "    orig_ins = orig_ins.append(orig_df.loc[(node,0,0),('Exclusive','PAPI_L1_DCM')].T)\n",
    "    nc_static_ins = nc_static_ins.append(nc_static_df.loc[(node,0,0),('Exclusive','PAPI_L1_DCM')].T)\n",
    "    nocall_ins = nocall_ins.append(nocall_df.loc[(node,0,0),('Exclusive','PAPI_L1_DCM')].T) \n",
    "\n",
    "# reset index to make it not a multi-index\n",
    "orig_ins.reset_index(drop=True, inplace=True)\n",
    "nc_static_ins.reset_index(drop=True, inplace=True)\n",
    "nocall_ins.reset_index(drop=True, inplace=True)\n",
    "\n",
    "# add in the node and type columns\n",
    "orig_ins['Node'] = orig_ins.index\n",
    "orig_ins['Method'] = ['Orig' for i in range(nodes_num)]\n",
    "\n",
    "nc_static_ins['Node'] = nc_static_ins.index\n",
    "nc_static_ins['Method'] = ['Static' for i in range(nodes_num)]\n",
    "\n",
    "nocall_ins['Node'] = nocall_ins.index\n",
    "nocall_ins['Method'] = ['NoCall' for i in range(nodes_num)]\n",
    "\n",
    "non_normal_ins_df = pd.concat([orig_ins, nc_static_ins, nocall_ins])"
   ]
  },
  {
   "cell_type": "code",
   "execution_count": null,
   "metadata": {},
   "outputs": [],
   "source": [
    "title = 'PAPI_L1_DCM w/o MPI <br> Top 6 Timers on sorted by Exclusive TIME'\n",
    "\n",
    "fig = px.scatter_matrix(non_normal_ins_df, dimensions=top_timers, color='Method', hover_data=['Node'], size_max=10)\n",
    "fig.update_layout(height=1500, width=1500, title=title)\n",
    "# fig.write_html(\"/home/users/MTrappett/Flash5_theta/splom_l1_DCM_noMPI_non_norm.html\")\n",
    "\n",
    "fig.show()"
   ]
  },
  {
   "cell_type": "markdown",
   "metadata": {},
   "source": [
    "#### RES STL SPLOM"
   ]
  },
  {
   "cell_type": "code",
   "execution_count": null,
   "metadata": {},
   "outputs": [],
   "source": [
    "orig_ins = pd.DataFrame()\n",
    "nc_static_ins = pd.DataFrame()\n",
    "nocall_ins = pd.DataFrame()\n",
    "for node in range(nodes_num):\n",
    "    orig_ins = orig_ins.append(orig_df.loc[(node,0,0),('Exclusive','PAPI_RES_STL')].T)\n",
    "    nc_static_ins = nc_static_ins.append(nc_static_df.loc[(node,0,0),('Exclusive','PAPI_RES_STL')].T)\n",
    "    nocall_ins = nocall_ins.append(nocall_df.loc[(node,0,0),('Exclusive','PAPI_RES_STL')].T) \n",
    "\n",
    "# reset index to make it not a multi-index\n",
    "orig_ins.reset_index(drop=True, inplace=True)\n",
    "nc_static_ins.reset_index(drop=True, inplace=True)\n",
    "nocall_ins.reset_index(drop=True, inplace=True)\n",
    "\n",
    "# add in the node and type columns\n",
    "orig_ins['Node'] = orig_ins.index\n",
    "orig_ins['Method'] = ['Orig' for i in range(nodes_num)]\n",
    "\n",
    "nc_static_ins['Node'] = nc_static_ins.index\n",
    "nc_static_ins['Method'] = ['Static' for i in range(nodes_num)]\n",
    "\n",
    "nocall_ins['Node'] = nocall_ins.index\n",
    "nocall_ins['Method'] = ['NoCall' for i in range(nodes_num)]\n",
    "\n",
    "non_normal_ins_df = pd.concat([orig_ins, nc_static_ins, nocall_ins])"
   ]
  },
  {
   "cell_type": "code",
   "execution_count": null,
   "metadata": {},
   "outputs": [],
   "source": [
    "title = 'PAPI_RES_STL w/o MPI <br> Top 8 Timers on sorted by Exclusive TIME'\n",
    "\n",
    "fig = px.scatter_matrix(non_normal_ins_df, dimensions=top_timers, color='Method', hover_data=['Node'], size_max=10)\n",
    "fig.update_layout(height=1500, width=1500, title=title)\n",
    "# fig.write_html(\"/home/users/MTrappett/Flash5_theta/splom_res_stl_noMPI_non_norm.html\")\n",
    "\n",
    "fig.show()"
   ]
  }
 ],
 "metadata": {
  "kernelspec": {
   "display_name": "Python 3",
   "language": "python",
   "name": "python3"
  },
  "language_info": {
   "codemirror_mode": {
    "name": "ipython",
    "version": 3
   },
   "file_extension": ".py",
   "mimetype": "text/x-python",
   "name": "python",
   "nbconvert_exporter": "python",
   "pygments_lexer": "ipython3",
   "version": "3.8.5"
  }
 },
 "nbformat": 4,
 "nbformat_minor": 4
}
