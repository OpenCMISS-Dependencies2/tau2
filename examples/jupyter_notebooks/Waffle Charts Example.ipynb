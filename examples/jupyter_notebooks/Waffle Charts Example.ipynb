{
 "cells": [
  {
   "cell_type": "code",
   "execution_count": null,
   "metadata": {},
   "outputs": [],
   "source": [
    "from itertools import islice, cycle\n",
    "from tau_profile_parser import TauProfileParser\n",
    "import pandas as pd\n",
    "import plotly.graph_objs as go\n",
    "import plotly.express as px\n"
   ]
  },
  {
   "cell_type": "code",
   "execution_count": null,
   "metadata": {},
   "outputs": [],
   "source": [
    "path_to_multi_files = 'path/to/files'\n",
    "multi_files = TauProfileParser.parse(path_to_multi_files,MULTI=True)"
   ]
  },
  {
   "cell_type": "code",
   "execution_count": null,
   "metadata": {},
   "outputs": [],
   "source": [
    "time_sorted = multi_files.interval_data().sort_values(by=[('Exclusive','TIME')], ascending=False)"
   ]
  },
  {
   "cell_type": "code",
   "execution_count": null,
   "metadata": {},
   "outputs": [],
   "source": [
    "time_sorted[time_sorted['Timer Name'].str.match('OpenMP_Implicit_Task')]"
   ]
  },
  {
   "cell_type": "markdown",
   "metadata": {},
   "source": [
    "### Removing Timers\n",
    "I removed OpenMP_Thread_Type_ompt_thread_worker, .TAU application, and OpenMP_Implicity_Task from the data so that we can just work with smaller functions. \n",
    "I used a method of just taking 2 sub DF's from the time_sorted, concat them together and then drop_duplicates(). The logic for finding which lines is demonstrated above. This was an example I found on stack overflow: https://stackoverflow.com/questions/37313691/how-to-remove-a-pandas-dataframe-from-another-dataframe combined with this example: https://davidhamann.de/2017/06/26/pandas-select-elements-by-string/ .\n",
    "\n"
   ]
  },
  {
   "cell_type": "code",
   "execution_count": null,
   "metadata": {},
   "outputs": [],
   "source": [
    "time_sorted = pd.concat([time_sorted,time_sorted[time_sorted['Timer Name'].str.match('OpenMP_Implicit_Task')],time_sorted[time_sorted['Timer Name'].str.match('OpenMP_Implicit_Task')]]).drop_duplicates(keep=False)"
   ]
  },
  {
   "cell_type": "code",
   "execution_count": null,
   "metadata": {},
   "outputs": [],
   "source": [
    "time_sorted = pd.concat([time_sorted,time_sorted[time_sorted['Timer Name'].str.match('.TAU application')],time_sorted[time_sorted['Timer Name'].str.match('.TAU application')]]).drop_duplicates(keep=False)"
   ]
  },
  {
   "cell_type": "code",
   "execution_count": null,
   "metadata": {},
   "outputs": [],
   "source": [
    "time_sorted = pd.concat([time_sorted,time_sorted[time_sorted['Timer Name'].str.match('OpenMP_Thread_Type_ompt_thread_worker')],time_sorted[time_sorted['Timer Name'].str.match('OpenMP_Thread_Type_ompt_thread_worker')]]).drop_duplicates(keep=False)"
   ]
  },
  {
   "cell_type": "markdown",
   "metadata": {},
   "source": [
    "# Selecting Columns for Waffle Plot\n",
    "We can select any of the columns we would like to analyze. Waffle plot would only be useful for a few Items at best."
   ]
  },
  {
   "cell_type": "code",
   "execution_count": null,
   "metadata": {},
   "outputs": [],
   "source": [
    "import matplotlib.pyplot as plt \n",
    "from pywaffle import Waffle"
   ]
  },
  {
   "cell_type": "code",
   "execution_count": null,
   "metadata": {},
   "outputs": [],
   "source": [
    "slimmed = pd.concat([time_sorted[['Timer Name']],time_sorted[('Exclusive','TIME')]], axis=1)\n",
    "slimmed_wo_index = slimmed.reset_index()\n",
    "slim_timer = slimmed_wo_index['Timer Name']\n",
    "slim_TIME = slimmed_wo_index[('Exclusive', 'TIME')]\n"
   ]
  },
  {
   "cell_type": "code",
   "execution_count": null,
   "metadata": {},
   "outputs": [],
   "source": [
    "slim_timer_time = pd.concat([slimmed_wo_index['Timer Name'],slimmed_wo_index[('Exclusive', 'TIME')]],axis=1)\n",
    "slim_timer_time.head(10)"
   ]
  },
  {
   "cell_type": "markdown",
   "metadata": {},
   "source": [
    "#### We want the (Exclusive,TIME) column to be a smaller amount to compare them."
   ]
  },
  {
   "cell_type": "code",
   "execution_count": null,
   "metadata": {},
   "outputs": [],
   "source": [
    "reducing_factor = 10000\n",
    "slim_timer_time[('Exclusive','TIME')] = slim_timer_time[('Exclusive','TIME')].apply(lambda x: x/reducing_factor)\n"
   ]
  },
  {
   "cell_type": "markdown",
   "metadata": {},
   "source": [
    "Calculating the `other` if we wanted to include it for comparison of functions, but it is so big that it would drown out our analysis of the top functions.\n"
   ]
  },
  {
   "cell_type": "code",
   "execution_count": null,
   "metadata": {},
   "outputs": [],
   "source": [
    "other = slim_timer_time[5:].sum()\n"
   ]
  },
  {
   "cell_type": "markdown",
   "metadata": {},
   "source": [
    "### Waffle Plot\n",
    "The library pyWaffle can be downloaded using `pip install pywaffle`. Some other examples are found on their GitHub: https://github.com/gyli/PyWaffle. Waffle plots get increasingly difficult to read when there are more than a few elements in the plot. I selected the top five functions based on time to demonstrate. "
   ]
  },
  {
   "cell_type": "code",
   "execution_count": null,
   "metadata": {},
   "outputs": [],
   "source": [
    "fig = plt.figure( \n",
    "    FigureClass = Waffle, \n",
    "    rows = 3, \n",
    "    values = slim_timer_time[('Exclusive','TIME')][:5], \n",
    "    labels = list(slim_timer_time['Timer Name'][:5]) ,\n",
    "    legend={'loc': 'best','bbox_to_anchor': (2.7,1.1)},\n",
    "    title={'label': 'Time for top 5 functions', 'loc': 'left'},\n",
    ") "
   ]
  },
  {
   "cell_type": "code",
   "execution_count": null,
   "metadata": {},
   "outputs": [],
   "source": []
  },
  {
   "cell_type": "code",
   "execution_count": null,
   "metadata": {},
   "outputs": [],
   "source": []
  },
  {
   "cell_type": "code",
   "execution_count": null,
   "metadata": {},
   "outputs": [],
   "source": []
  }
 ],
 "metadata": {
  "kernelspec": {
   "display_name": "Python 3",
   "language": "python",
   "name": "python3"
  },
  "language_info": {
   "codemirror_mode": {
    "name": "ipython",
    "version": 3
   },
   "file_extension": ".py",
   "mimetype": "text/x-python",
   "name": "python",
   "nbconvert_exporter": "python",
   "pygments_lexer": "ipython3",
   "version": "3.8.5"
  }
 },
 "nbformat": 4,
 "nbformat_minor": 4
}
