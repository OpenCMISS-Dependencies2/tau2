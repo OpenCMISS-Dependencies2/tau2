{
 "cells": [
  {
   "cell_type": "code",
   "execution_count": null,
   "metadata": {},
   "outputs": [],
   "source": [
    "from tau_profile_parser import TauProfileParser\n",
    "import pandas as pd\n",
    "import matplotlib.pyplot as plt\n",
    "import plotly.graph_objs as go\n",
    "import plotly as py\n",
    "import plotly.express as px\n",
    "from plotly.subplots import make_subplots\n",
    "pd.options.plotting.backend = \"plotly\""
   ]
  },
  {
   "cell_type": "code",
   "execution_count": null,
   "metadata": {},
   "outputs": [],
   "source": [
    "# user update path\n",
    "path_to_ExampleData = '/local/path/to/tau2/examples/jupyter_notebooks/ExampleData'"
   ]
  },
  {
   "cell_type": "code",
   "execution_count": null,
   "metadata": {},
   "outputs": [],
   "source": [
    "orig = TauProfileParser.parse(path_to_ExampleData+'/theta_64_flash/orig',MULTI=True)\n",
    "nc_static = TauProfileParser.parse(path_to_ExampleData+'/theta_64_flash/nocall_static',MULTI=True)\n",
    "nocall = TauProfileParser.parse(path_to_ExampleData+'/theta_64_flash/nocall',MULTI=True)"
   ]
  },
  {
   "cell_type": "code",
   "execution_count": null,
   "metadata": {},
   "outputs": [],
   "source": [
    "orig_df = orig.interval_data()\n",
    "nc_static_df = nc_static.interval_data()\n",
    "nocall_df = nocall.interval_data()"
   ]
  },
  {
   "cell_type": "code",
   "execution_count": null,
   "metadata": {},
   "outputs": [],
   "source": [
    "# number of nodes, 1 based indexing\n",
    "nodes_num = 10\n",
    "\n",
    "# for exclusive, time\n",
    "orig_time = pd.DataFrame()\n",
    "nc_static_time = pd.DataFrame()\n",
    "nocall_time = pd.DataFrame()\n",
    "for node in range(nodes_num):\n",
    "    orig_time = orig_time.append(orig_df.loc[(node,0,0),('Exclusive','TIME')].T)\n",
    "    nc_static_time = nc_static_time.append(nc_static_df.loc[(node,0,0),('Exclusive','TIME')].T)\n",
    "    nocall_time = nocall_time.append(nocall_df.loc[(node,0,0),('Exclusive','TIME')].T)  "
   ]
  },
  {
   "cell_type": "code",
   "execution_count": null,
   "metadata": {},
   "outputs": [],
   "source": [
    "# sort the timers by Exclusive, TIME\n",
    "orig_sums = orig_time.sum()\n",
    "orig_sums.sort_values(ascending=False, inplace=True)\n",
    "# drop the MPI TIMERS\n",
    "for timer in orig_sums.index:\n",
    "    if 'MPI' in timer:\n",
    "#         print(timer)\n",
    "        orig_sums.drop(labels=timer, inplace=True)\n",
    "# the top timers\n",
    "orig_top = orig_sums.head(6)\n",
    "top_timers = [timer for timer in orig_top.index]"
   ]
  },
  {
   "cell_type": "code",
   "execution_count": null,
   "metadata": {},
   "outputs": [],
   "source": [
    "orig_time.reset_index(drop=True, inplace=True)\n",
    "nc_static_time.reset_index(drop=True, inplace=True)\n",
    "nocall_time.reset_index(drop=True, inplace=True)"
   ]
  },
  {
   "cell_type": "code",
   "execution_count": null,
   "metadata": {},
   "outputs": [],
   "source": [
    "# normalize: top_diff = ((top_diff - top_diff.min())/(top_diff.max() - top_diff.min()))\n",
    "\n",
    "orig_time_norm = ((orig_time - orig_time.min())/(orig_time.max() - orig_time.min()))\n",
    "orig_time_norm['Node'] = orig_time_norm.index\n",
    "orig_time_norm['Method'] = ['Orig' for i in range(nodes_num)]\n",
    "\n",
    "nc_static_time_norm = ((nc_static_time - nc_static_time.min())/(nc_static_time.max() - nc_static_time.min()))\n",
    "nc_static_time_norm['Node'] = nc_static_time_norm.index\n",
    "nc_static_time_norm['Method'] = ['Static' for i in range(nodes_num)]\n",
    "\n",
    "nocall_time_norm = ((nocall_time - nocall_time.min())/(nocall_time.max() - nocall_time.min()))\n",
    "nocall_time_norm['Node'] = nocall_time_norm.index\n",
    "nocall_time_norm['Method'] = ['NoCall' for i in range(nodes_num)]\n",
    "# nocall_time_norm.sample(5)"
   ]
  },
  {
   "cell_type": "code",
   "execution_count": null,
   "metadata": {},
   "outputs": [],
   "source": [
    "orig_time['Node'] = orig_time.index\n",
    "orig_time['Method'] = ['Orig' for i in range(nodes_num)]\n",
    "\n",
    "nc_static_time['Node'] = nc_static_time.index\n",
    "nc_static_time['Method'] = ['Static' for i in range(nodes_num)]\n",
    "\n",
    "nocall_time['Node'] = nocall_time.index\n",
    "nocall_time['Method'] = ['NoCall' for i in range(nodes_num)]"
   ]
  },
  {
   "cell_type": "code",
   "execution_count": null,
   "metadata": {},
   "outputs": [],
   "source": [
    "total_df = pd.concat([orig_time_norm, nc_static_time_norm, nocall_time_norm])\n",
    "non_normal_df = pd.concat([orig_time, nc_static_time, nocall_time])"
   ]
  },
  {
   "cell_type": "markdown",
   "metadata": {},
   "source": [
    "## Papi Metrics"
   ]
  },
  {
   "cell_type": "code",
   "execution_count": null,
   "metadata": {},
   "outputs": [],
   "source": [
    "orig_ins = pd.DataFrame()\n",
    "nc_static_ins = pd.DataFrame()\n",
    "nocall_ins = pd.DataFrame()\n",
    "for node in range(nodes_num):\n",
    "    orig_ins = orig_ins.append(orig_df.loc[(node,0,0),('Exclusive','PAPI_TOT_INS')].T)\n",
    "    nc_static_ins = nc_static_ins.append(nc_static_df.loc[(node,0,0),('Exclusive','PAPI_TOT_INS')].T)\n",
    "    nocall_ins = nocall_ins.append(nocall_df.loc[(node,0,0),('Exclusive','PAPI_TOT_INS')].T) \n",
    "\n",
    "# reset index to make it not a multi-index\n",
    "orig_ins.reset_index(drop=True, inplace=True)\n",
    "nc_static_ins.reset_index(drop=True, inplace=True)\n",
    "nocall_ins.reset_index(drop=True, inplace=True)\n",
    "\n",
    "# add in the node and type columns\n",
    "orig_ins['Node'] = orig_ins.index\n",
    "orig_ins['Method'] = ['Orig' for i in range(nodes_num)]\n",
    "\n",
    "nc_static_ins['Node'] = nc_static_ins.index\n",
    "nc_static_ins['Method'] = ['Static' for i in range(nodes_num)]\n",
    "\n",
    "nocall_ins['Node'] = nocall_ins.index\n",
    "nocall_ins['Method'] = ['NoCall' for i in range(nodes_num)]\n",
    "\n",
    "non_normal_ins_df = pd.concat([orig_ins, nc_static_ins, nocall_ins])"
   ]
  },
  {
   "cell_type": "code",
   "execution_count": null,
   "metadata": {},
   "outputs": [],
   "source": [
    "orig_DCM = pd.DataFrame()\n",
    "nc_static_DCM = pd.DataFrame()\n",
    "nocall_DCM = pd.DataFrame()\n",
    "for node in range(nodes_num):\n",
    "    orig_DCM = orig_DCM.append(orig_df.loc[(node,0,0),('Exclusive','PAPI_L1_DCM')].T)\n",
    "    nc_static_DCM = nc_static_DCM.append(nc_static_df.loc[(node,0,0),('Exclusive','PAPI_L1_DCM')].T)\n",
    "    nocall_DCM = nocall_DCM.append(nocall_df.loc[(node,0,0),('Exclusive','PAPI_L1_DCM')].T) \n",
    "\n",
    "# reset index to make it not a multi-index\n",
    "orig_DCM.reset_index(drop=True, inplace=True)\n",
    "nc_static_DCM.reset_index(drop=True, inplace=True)\n",
    "nocall_DCM.reset_index(drop=True, inplace=True)\n",
    "\n",
    "# add in the node and type columns\n",
    "orig_DCM['Node'] = orig_DCM.index\n",
    "orig_DCM['Method'] = ['Orig' for i in range(nodes_num)]\n",
    "\n",
    "nc_static_DCM['Node'] = nc_static_DCM.index\n",
    "nc_static_DCM['Method'] = ['Static' for i in range(nodes_num)]\n",
    "\n",
    "nocall_DCM['Node'] = nocall_DCM.index\n",
    "nocall_DCM['Method'] = ['NoCall' for i in range(nodes_num)]\n",
    "\n",
    "non_normal_DCM_df = pd.concat([orig_DCM, nc_static_DCM, nocall_DCM])"
   ]
  },
  {
   "cell_type": "code",
   "execution_count": null,
   "metadata": {},
   "outputs": [],
   "source": [
    "orig_STL = pd.DataFrame()\n",
    "nc_static_STL = pd.DataFrame()\n",
    "nocall_STL = pd.DataFrame()\n",
    "for node in range(nodes_num):\n",
    "    orig_STL = orig_STL.append(orig_df.loc[(node,0,0),('Exclusive','PAPI_RES_STL')].T)\n",
    "    nc_static_STL = nc_static_STL.append(nc_static_df.loc[(node,0,0),('Exclusive','PAPI_RES_STL')].T)\n",
    "    nocall_STL = nocall_STL.append(nocall_df.loc[(node,0,0),('Exclusive','PAPI_RES_STL')].T) \n",
    "\n",
    "# reset index to make it not a multi-index\n",
    "orig_STL.reset_index(drop=True, inplace=True)\n",
    "nc_static_STL.reset_index(drop=True, inplace=True)\n",
    "nocall_STL.reset_index(drop=True, inplace=True)\n",
    "\n",
    "# add in the node and type columns\n",
    "orig_STL['Node'] = orig_STL.index\n",
    "orig_STL['Method'] = ['Orig' for i in range(nodes_num)]\n",
    "\n",
    "nc_static_STL['Node'] = nc_static_STL.index\n",
    "nc_static_STL['Method'] = ['Static' for i in range(nodes_num)]\n",
    "\n",
    "nocall_STL['Node'] = nocall_STL.index\n",
    "nocall_ins['Method'] = ['NoCall' for i in range(nodes_num)]\n",
    "\n",
    "non_normal_STL_df = pd.concat([orig_STL, nc_static_STL, nocall_STL])"
   ]
  },
  {
   "cell_type": "markdown",
   "metadata": {},
   "source": [
    "non_normal_STL_df, non_normal_ins_DCM, non_normal_ins_df, non_normal_df, "
   ]
  },
  {
   "cell_type": "code",
   "execution_count": null,
   "metadata": {},
   "outputs": [],
   "source": [
    "metrics = {'PAPI_L1_DCM':non_normal_DCM_df, 'PAPI_RES_STL':non_normal_STL_df,'PAPI_TOT_INS': non_normal_ins_df, 'TIME':non_normal_df}\n",
    "fig = make_subplots(rows=len(top_timers), cols=4, vertical_spacing=0.03, horizontal_spacing=0.04)\n",
    "colors = ['#636EFA', '#EF553B', '#00CC96']\n",
    "legend_bool = True\n",
    "\n",
    "row = 1\n",
    "for timer in top_timers:\n",
    "    m_keys = list(metrics)\n",
    "#     print(m_keys, type(m_keys))\n",
    "    m1 = m_keys[0]\n",
    "    col = 1\n",
    "    timer_text = timer.replace('*** custom:', '')\n",
    "    fig.update_yaxes(title_text=timer_text + ' <br> ' +  m1, row=row, col=col, title_standoff = 5)\n",
    "    for m2 in m_keys:\n",
    "        fig.add_trace(go.Scatter(x=metrics[m2][timer][0:nodes_num-1], y=metrics[m1][timer][0:nodes_num-1], mode='markers', marker_color=colors[0], marker_size=5,\n",
    "                                 name='orig', legendgroup='orig', showlegend=legend_bool, text=non_normal_df['Node'][0:nodes_num-1]), row=row, col=col)\n",
    "        fig.add_trace(go.Scatter(x=metrics[m2][timer][nodes_num:2*nodes_num-1], y=metrics[m1][timer][nodes_num:2*nodes_num-1], mode='markers', marker_color=colors[1], marker_size=5,\n",
    "                                 name='nc_static', legendgroup='nc_static', showlegend=legend_bool, text=non_normal_df['Node'][nodes_num:2*nodes_num-1],), row=row, col=col)\n",
    "        fig.add_trace(go.Scatter(x=metrics[m2][timer][2*nodes_num:3*nodes_num-1], y=metrics[m1][timer][2*nodes_num:3*nodes_num-1], mode='markers', marker_color=colors[2], marker_size=5,\n",
    "                                 name='nocall', legendgroup='nocall', showlegend=legend_bool, text=non_normal_df['Node'][2*nodes_num:3*nodes_num-1],), row=row, col=col)\n",
    "        \n",
    "        fig.update_xaxes(title_text=m2, row=row, col=col, title_standoff = 5)\n",
    "\n",
    "        \n",
    "        legend_bool = False\n",
    "        col+=1\n",
    "    \n",
    "    row+=1\n",
    "\n",
    "title= 'Metric X Metrix Scatter Plots --- Top '+str(len(top_timers)) +' Timers sort by TIME in Original Run <br> MPI and TAU ommitted & \"***custom:\" Removed from timer strings'\n",
    "fig.update_layout(height=2200, width=1500, title=title)\n",
    "# fig.write_html(\"/home/users/MTrappett/Flash5_theta/MetricXMetric_scatter_plots_Theta64.html\")\n",
    "fig.show()          "
   ]
  },
  {
   "cell_type": "code",
   "execution_count": null,
   "metadata": {},
   "outputs": [],
   "source": []
  },
  {
   "cell_type": "code",
   "execution_count": null,
   "metadata": {},
   "outputs": [],
   "source": []
  }
 ],
 "metadata": {
  "kernelspec": {
   "display_name": "Python 3",
   "language": "python",
   "name": "python3"
  },
  "language_info": {
   "codemirror_mode": {
    "name": "ipython",
    "version": 3
   },
   "file_extension": ".py",
   "mimetype": "text/x-python",
   "name": "python",
   "nbconvert_exporter": "python",
   "pygments_lexer": "ipython3",
   "version": "3.8.5"
  }
 },
 "nbformat": 4,
 "nbformat_minor": 4
}
