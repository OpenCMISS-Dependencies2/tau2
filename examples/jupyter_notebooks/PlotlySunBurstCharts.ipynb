{
 "cells": [
  {
   "cell_type": "code",
   "execution_count": 66,
   "metadata": {},
   "outputs": [],
   "source": [
    "from itertools import islice, cycle\n",
    "from tau_profile_parser import TauProfileParser\n",
    "import pandas as pd\n",
    "import plotly.graph_objs as go\n",
    "import plotly as py\n",
    "import plotly.express as px"
   ]
  },
  {
   "cell_type": "markdown",
   "metadata": {},
   "source": [
    "Turn on offline mode"
   ]
  },
  {
   "cell_type": "code",
   "execution_count": 67,
   "metadata": {},
   "outputs": [
    {
     "data": {
      "text/html": [
       "        <script type=\"text/javascript\">\n",
       "        window.PlotlyConfig = {MathJaxConfig: 'local'};\n",
       "        if (window.MathJax) {MathJax.Hub.Config({SVG: {font: \"STIX-Web\"}});}\n",
       "        if (typeof require !== 'undefined') {\n",
       "        require.undef(\"plotly\");\n",
       "        requirejs.config({\n",
       "            paths: {\n",
       "                'plotly': ['https://cdn.plot.ly/plotly-latest.min']\n",
       "            }\n",
       "        });\n",
       "        require(['plotly'], function(Plotly) {\n",
       "            window._Plotly = Plotly;\n",
       "        });\n",
       "        }\n",
       "        </script>\n",
       "        "
      ]
     },
     "metadata": {},
     "output_type": "display_data"
    }
   ],
   "source": [
    "py.offline.init_notebook_mode(connected=True)"
   ]
  },
  {
   "cell_type": "markdown",
   "metadata": {},
   "source": [
    "Plotly Bar Plot Examples\n",
    "========================"
   ]
  },
  {
   "cell_type": "markdown",
   "metadata": {},
   "source": [
    "This notebook demonstrates using the TauProfileParser to parse TAU profile.x.y.z files and using Plotly to generate ParaProf-style bar plots from them."
   ]
  },
  {
   "cell_type": "markdown",
   "metadata": {},
   "source": [
    "The TAU Profile Parser\n",
    "----------------------"
   ]
  },
  {
   "cell_type": "markdown",
   "metadata": {},
   "source": [
    "First, we call `TauProfileParser.parse` on the path to a directory containing TAU profile files. \n",
    "\n",
    "Note that the parser does not currently have any native support for MULTI_ directories, so if you have those\n",
    "you'll have to call parse multiple times and then, if you wish, merge the resulting dataframes. This functionality should be added to the parser."
   ]
  },
  {
   "cell_type": "code",
   "execution_count": 68,
   "metadata": {},
   "outputs": [],
   "source": [
    "lulesh_data = TauProfileParser.parse('lulesh_profile')"
   ]
  },
  {
   "cell_type": "markdown",
   "metadata": {},
   "source": [
    "This returns an object that provides access to the metric name, metadata, and the interval and atomic/userevent data.\n",
    "\n",
    "The `metric` attribute contains the metric that values in this profile represent. (This representation will need to change when multi-metric data can be read in directly)\n"
   ]
  },
  {
   "cell_type": "code",
   "execution_count": 69,
   "metadata": {},
   "outputs": [
    {
     "data": {
      "text/plain": [
       "b'TIME'"
      ]
     },
     "execution_count": 69,
     "metadata": {},
     "output_type": "execute_result"
    }
   ],
   "source": [
    "lulesh_data.metric"
   ]
  },
  {
   "cell_type": "markdown",
   "metadata": {},
   "source": [
    "The `metadata` attribute contains a Python dictionary of the metadata recorded in the profile.0.0.0 file"
   ]
  },
  {
   "cell_type": "code",
   "execution_count": 70,
   "metadata": {
    "scrolled": true
   },
   "outputs": [
    {
     "data": {
      "text/plain": [
       "{'Metric Name': 'TIME',\n",
       " 'CPU Cores': '18',\n",
       " 'CPU MHz': '1292.907',\n",
       " 'CPU Type': 'Intel(R) Xeon(R) CPU E5-2697 v4 @ 2.30GHz',\n",
       " 'CPU Vendor': 'GenuineIntel',\n",
       " 'CWD': '/home/nchaimov/LULESH/build',\n",
       " 'Cache Size': '46080 KB',\n",
       " 'Command Line': './lulesh2.0 -p -i 1000',\n",
       " 'Ending Timestamp': '1594670306715723',\n",
       " 'Executable': '/home/nchaimov/LULESH/build/lulesh2.0',\n",
       " 'Hostname': 'delphi',\n",
       " 'Local Time': '2020-07-13T12:58:14-07:00',\n",
       " 'Memory Size': '131624740 kB',\n",
       " 'Node Name': 'delphi',\n",
       " 'OMP_CHUNK_SIZE': '0',\n",
       " 'OMP_DEFAULT_DEVICE': '0',\n",
       " 'OMP_DYNAMIC': 'FALSE',\n",
       " 'OMP_MAX_ACTIVE_LEVELS': '2147483647',\n",
       " 'OMP_MAX_TASK_PRIORITY': '0',\n",
       " 'OMP_MAX_THREADS': '16',\n",
       " 'OMP_NUM_PLACES': '1',\n",
       " 'OMP_NUM_PROCS': '72',\n",
       " 'OMP_PLACE_NUM_PROCS': '{0:72}',\n",
       " 'OMP_PLACE_PROC_IDS': '{0:[0,1,2,3,4,5,6,7,8,9,10,11,12,13,14,15,16,17,18,19,20,21,22,23,24,25,26,27,28,29,30,31,32,33,34,35,36,37,38,39,40,41,42,43,44,45,46,47,48,49,50,51,52,53,54,55,56,57,58,59,60,61,62,63,64,65,66,67,68,69,70,71]}',\n",
       " 'OMP_PROC_BIND': 'FALSE',\n",
       " 'OMP_SCHEDULE': 'STATIC',\n",
       " 'OMP_THREAD_LIMIT': '2147483647',\n",
       " 'OS Machine': 'x86_64',\n",
       " 'OS Name': 'Linux',\n",
       " 'OS Release': '3.10.0-1062.9.1.el7.x86_64',\n",
       " 'OS Version': '#1 SMP Fri Dec 6 15:49:49 UTC 2019',\n",
       " 'OpenMP Version': '4.5',\n",
       " 'OpenMP Version String': '201511',\n",
       " 'Starting Timestamp': '1594670294192156',\n",
       " 'TAU Architecture': 'default',\n",
       " 'TAU Config': ' -bfd=download -unwind=download -dwarf=download -ompt',\n",
       " 'TAU Makefile': '/home/nchaimov/tau2/x86_64/lib/Makefile.tau-ompt-v5-openmp',\n",
       " 'TAU Version': '2.28.2-git',\n",
       " 'TAU_BFD_LOOKUP': 'on',\n",
       " 'TAU_CALLPATH': 'off',\n",
       " 'TAU_CALLPATH_DEPTH': '2',\n",
       " 'TAU_CALLSITE_DEPTH': '1',\n",
       " 'TAU_COMPENSATE': 'off',\n",
       " 'TAU_CUDA_BINARY_EXE': None,\n",
       " 'TAU_CUPTI_API': 'runtime',\n",
       " 'TAU_EBS_INCLUSIVE': '0 usec',\n",
       " 'TAU_EBS_KEEP_UNRESOLVED_ADDR': 'off',\n",
       " 'TAU_EBS_PERIOD': '1000',\n",
       " 'TAU_EBS_SAMPLES_DROPPED_SUSPENDED_0': '0',\n",
       " 'TAU_EBS_SAMPLES_DROPPED_SUSPENDED_1': '0',\n",
       " 'TAU_EBS_SAMPLES_DROPPED_SUSPENDED_10': '0',\n",
       " 'TAU_EBS_SAMPLES_DROPPED_SUSPENDED_11': '0',\n",
       " 'TAU_EBS_SAMPLES_DROPPED_SUSPENDED_12': '0',\n",
       " 'TAU_EBS_SAMPLES_DROPPED_SUSPENDED_13': '0',\n",
       " 'TAU_EBS_SAMPLES_DROPPED_SUSPENDED_14': '0',\n",
       " 'TAU_EBS_SAMPLES_DROPPED_SUSPENDED_15': '0',\n",
       " 'TAU_EBS_SAMPLES_DROPPED_SUSPENDED_2': '0',\n",
       " 'TAU_EBS_SAMPLES_DROPPED_SUSPENDED_3': '0',\n",
       " 'TAU_EBS_SAMPLES_DROPPED_SUSPENDED_4': '0',\n",
       " 'TAU_EBS_SAMPLES_DROPPED_SUSPENDED_5': '0',\n",
       " 'TAU_EBS_SAMPLES_DROPPED_SUSPENDED_6': '0',\n",
       " 'TAU_EBS_SAMPLES_DROPPED_SUSPENDED_7': '0',\n",
       " 'TAU_EBS_SAMPLES_DROPPED_SUSPENDED_8': '0',\n",
       " 'TAU_EBS_SAMPLES_DROPPED_SUSPENDED_9': '0',\n",
       " 'TAU_EBS_SAMPLES_DROPPED_TAU_0': '6296',\n",
       " 'TAU_EBS_SAMPLES_DROPPED_TAU_1': '6296',\n",
       " 'TAU_EBS_SAMPLES_DROPPED_TAU_10': '6296',\n",
       " 'TAU_EBS_SAMPLES_DROPPED_TAU_11': '6296',\n",
       " 'TAU_EBS_SAMPLES_DROPPED_TAU_12': '6296',\n",
       " 'TAU_EBS_SAMPLES_DROPPED_TAU_13': '6296',\n",
       " 'TAU_EBS_SAMPLES_DROPPED_TAU_14': '6296',\n",
       " 'TAU_EBS_SAMPLES_DROPPED_TAU_15': '6296',\n",
       " 'TAU_EBS_SAMPLES_DROPPED_TAU_2': '6296',\n",
       " 'TAU_EBS_SAMPLES_DROPPED_TAU_3': '6296',\n",
       " 'TAU_EBS_SAMPLES_DROPPED_TAU_4': '6296',\n",
       " 'TAU_EBS_SAMPLES_DROPPED_TAU_5': '6296',\n",
       " 'TAU_EBS_SAMPLES_DROPPED_TAU_6': '6296',\n",
       " 'TAU_EBS_SAMPLES_DROPPED_TAU_7': '6296',\n",
       " 'TAU_EBS_SAMPLES_DROPPED_TAU_8': '6296',\n",
       " 'TAU_EBS_SAMPLES_DROPPED_TAU_9': '6296',\n",
       " 'TAU_EBS_SAMPLES_TAKEN_0': '12497',\n",
       " 'TAU_EBS_SAMPLES_TAKEN_1': '12497',\n",
       " 'TAU_EBS_SAMPLES_TAKEN_10': '12497',\n",
       " 'TAU_EBS_SAMPLES_TAKEN_11': '12497',\n",
       " 'TAU_EBS_SAMPLES_TAKEN_12': '12497',\n",
       " 'TAU_EBS_SAMPLES_TAKEN_13': '12497',\n",
       " 'TAU_EBS_SAMPLES_TAKEN_14': '12497',\n",
       " 'TAU_EBS_SAMPLES_TAKEN_15': '12497',\n",
       " 'TAU_EBS_SAMPLES_TAKEN_2': '12497',\n",
       " 'TAU_EBS_SAMPLES_TAKEN_3': '12497',\n",
       " 'TAU_EBS_SAMPLES_TAKEN_4': '12497',\n",
       " 'TAU_EBS_SAMPLES_TAKEN_5': '12497',\n",
       " 'TAU_EBS_SAMPLES_TAKEN_6': '12497',\n",
       " 'TAU_EBS_SAMPLES_TAKEN_7': '12497',\n",
       " 'TAU_EBS_SAMPLES_TAKEN_8': '12497',\n",
       " 'TAU_EBS_SAMPLES_TAKEN_9': '12497',\n",
       " 'TAU_EBS_UNWIND': 'off',\n",
       " 'TAU_ENABLE_THREAD_CONTEXT': 'off',\n",
       " 'TAU_IBM_BG_HWP_COUNTERS': 'off',\n",
       " 'TAU_MAX_THREADS': '128',\n",
       " 'TAU_MEASURE_TAU': 'off',\n",
       " 'TAU_MEMDBG_PROTECT_ABOVE': 'off',\n",
       " 'TAU_MEMDBG_PROTECT_BELOW': 'off',\n",
       " 'TAU_MEMDBG_PROTECT_FREE': 'off',\n",
       " 'TAU_OMPT_RESOLVE_ADDRESS_EAGERLY': 'on',\n",
       " 'TAU_OMPT_SUPPORT_LEVEL': 'full',\n",
       " 'TAU_OPENMP_RUNTIME': 'on',\n",
       " 'TAU_OPENMP_RUNTIME_EVENTS': 'on',\n",
       " 'TAU_OPENMP_RUNTIME_STATES': 'off',\n",
       " 'TAU_OUTPUT_CUDA_CSV': 'off',\n",
       " 'TAU_PAPI_MULTIPLEXING': 'off',\n",
       " 'TAU_PROFILE': 'on',\n",
       " 'TAU_PROFILE_FORMAT': 'profile',\n",
       " 'TAU_RECYCLE_THREADS': 'off',\n",
       " 'TAU_REGION_ADDRESSES': 'off',\n",
       " 'TAU_SAMPLING': 'on',\n",
       " 'TAU_SHOW_MEMORY_FUNCTIONS': 'off',\n",
       " 'TAU_SIGNALS_GDB': 'off',\n",
       " 'TAU_THROTTLE': 'on',\n",
       " 'TAU_THROTTLE_NUMCALLS': '100000',\n",
       " 'TAU_THROTTLE_PERCALL': '10',\n",
       " 'TAU_TRACE': 'off',\n",
       " 'TAU_TRACE_FORMAT': 'tau',\n",
       " 'TAU_TRACK_CUDA_CDP': 'off',\n",
       " 'TAU_TRACK_CUDA_ENV': 'off',\n",
       " 'TAU_TRACK_CUDA_INSTRUCTIONS': None,\n",
       " 'TAU_TRACK_CUDA_SASS': 'off',\n",
       " 'TAU_TRACK_HEADROOM': 'off',\n",
       " 'TAU_TRACK_HEAP': 'off',\n",
       " 'TAU_TRACK_IO_PARAMS': 'off',\n",
       " 'TAU_TRACK_MEMORY_FOOTPRINT': 'off',\n",
       " 'TAU_TRACK_MEMORY_LEAKS': 'off',\n",
       " 'TAU_TRACK_SIGNALS': 'off',\n",
       " 'TAU_TRACK_UNIFIED_MEMORY': 'off',\n",
       " 'Timestamp': '1594670294192352',\n",
       " 'UTC Time': '2020-07-13T19:58:14Z',\n",
       " 'pid': '70527',\n",
       " 'tid': '70527',\n",
       " 'username': 'nchaimov'}"
      ]
     },
     "execution_count": 70,
     "metadata": {},
     "output_type": "execute_result"
    }
   ],
   "source": [
    "lulesh_data.metadata"
   ]
  },
  {
   "cell_type": "markdown",
   "metadata": {},
   "source": [
    "The `indices` attribute contains the (node, context, thread) tuples that are present in this profile."
   ]
  },
  {
   "cell_type": "code",
   "execution_count": 71,
   "metadata": {},
   "outputs": [
    {
     "data": {
      "text/plain": [
       "[(0, 0, 0),\n",
       " (0, 0, 1),\n",
       " (0, 0, 2),\n",
       " (0, 0, 3),\n",
       " (0, 0, 4),\n",
       " (0, 0, 5),\n",
       " (0, 0, 6),\n",
       " (0, 0, 7),\n",
       " (0, 0, 8),\n",
       " (0, 0, 9),\n",
       " (0, 0, 10),\n",
       " (0, 0, 11),\n",
       " (0, 0, 12),\n",
       " (0, 0, 13),\n",
       " (0, 0, 14),\n",
       " (0, 0, 15)]"
      ]
     },
     "execution_count": 71,
     "metadata": {},
     "output_type": "execute_result"
    }
   ],
   "source": [
    "lulesh_data.indices"
   ]
  },
  {
   "cell_type": "markdown",
   "metadata": {},
   "source": [
    "The `atomic_data()` function returns a Pandas dataframe containing the atomic events (user and context events). This is a multi-index dataframe with Node, Context, Thread, and Timer as the indices.\n",
    "\n",
    "(This profile was collected with an instrumented version of Open MPI which collects memory allocations for different object sizes.)"
   ]
  },
  {
   "cell_type": "code",
   "execution_count": 72,
   "metadata": {
    "scrolled": true
   },
   "outputs": [
    {
     "data": {
      "text/html": [
       "<div>\n",
       "<style scoped>\n",
       "    .dataframe tbody tr th:only-of-type {\n",
       "        vertical-align: middle;\n",
       "    }\n",
       "\n",
       "    .dataframe tbody tr th {\n",
       "        vertical-align: top;\n",
       "    }\n",
       "\n",
       "    .dataframe thead th {\n",
       "        text-align: right;\n",
       "    }\n",
       "</style>\n",
       "<table border=\"1\" class=\"dataframe\">\n",
       "  <thead>\n",
       "    <tr style=\"text-align: right;\">\n",
       "      <th></th>\n",
       "      <th></th>\n",
       "      <th></th>\n",
       "      <th></th>\n",
       "      <th>Count</th>\n",
       "      <th>Maximum</th>\n",
       "      <th>Minimum</th>\n",
       "      <th>Mean</th>\n",
       "      <th>SumSq</th>\n",
       "    </tr>\n",
       "    <tr>\n",
       "      <th>Node</th>\n",
       "      <th>Context</th>\n",
       "      <th>Thread</th>\n",
       "      <th>Timer</th>\n",
       "      <th></th>\n",
       "      <th></th>\n",
       "      <th></th>\n",
       "      <th></th>\n",
       "      <th></th>\n",
       "    </tr>\n",
       "  </thead>\n",
       "  <tbody>\n",
       "    <tr>\n",
       "      <th rowspan=\"54\" valign=\"top\">0</th>\n",
       "      <th rowspan=\"54\" valign=\"top\">0</th>\n",
       "      <th rowspan=\"54\" valign=\"top\">0</th>\n",
       "      <th>alloc opal_thread_t</th>\n",
       "      <td>1</td>\n",
       "      <td>40</td>\n",
       "      <td>40</td>\n",
       "      <td>40</td>\n",
       "      <td>1600</td>\n",
       "    </tr>\n",
       "    <tr>\n",
       "      <th>alloc mca_base_component_list_item_t</th>\n",
       "      <td>66</td>\n",
       "      <td>48</td>\n",
       "      <td>48</td>\n",
       "      <td>48</td>\n",
       "      <td>152064</td>\n",
       "    </tr>\n",
       "    <tr>\n",
       "      <th>alloc mca_base_var_group_t</th>\n",
       "      <td>152</td>\n",
       "      <td>280</td>\n",
       "      <td>280</td>\n",
       "      <td>280</td>\n",
       "      <td>11916800</td>\n",
       "    </tr>\n",
       "    <tr>\n",
       "      <th>alloc mca_base_var_t</th>\n",
       "      <td>691</td>\n",
       "      <td>168</td>\n",
       "      <td>168</td>\n",
       "      <td>168</td>\n",
       "      <td>19502784</td>\n",
       "    </tr>\n",
       "    <tr>\n",
       "      <th>alloc mca_base_var_enum_t</th>\n",
       "      <td>17</td>\n",
       "      <td>88</td>\n",
       "      <td>88</td>\n",
       "      <td>88</td>\n",
       "      <td>131648</td>\n",
       "    </tr>\n",
       "    <tr>\n",
       "      <th>alloc opal_dss_type_info_t</th>\n",
       "      <td>46</td>\n",
       "      <td>80</td>\n",
       "      <td>80</td>\n",
       "      <td>80</td>\n",
       "      <td>294400</td>\n",
       "    </tr>\n",
       "    <tr>\n",
       "      <th>alloc opal_list_t</th>\n",
       "      <td>57</td>\n",
       "      <td>64</td>\n",
       "      <td>64</td>\n",
       "      <td>64</td>\n",
       "      <td>233472</td>\n",
       "    </tr>\n",
       "    <tr>\n",
       "      <th>alloc mca_base_component_repository_item_t</th>\n",
       "      <td>101</td>\n",
       "      <td>176</td>\n",
       "      <td>176</td>\n",
       "      <td>176</td>\n",
       "      <td>3128576</td>\n",
       "    </tr>\n",
       "    <tr>\n",
       "      <th>alloc opal_if_t</th>\n",
       "      <td>7</td>\n",
       "      <td>224</td>\n",
       "      <td>224</td>\n",
       "      <td>224</td>\n",
       "      <td>351232</td>\n",
       "    </tr>\n",
       "    <tr>\n",
       "      <th>alloc orte_schizo_base_active_module_t</th>\n",
       "      <td>1</td>\n",
       "      <td>64</td>\n",
       "      <td>64</td>\n",
       "      <td>64</td>\n",
       "      <td>4096</td>\n",
       "    </tr>\n",
       "    <tr>\n",
       "      <th>alloc opal_progress_tracker_t</th>\n",
       "      <td>1</td>\n",
       "      <td>256</td>\n",
       "      <td>256</td>\n",
       "      <td>256</td>\n",
       "      <td>65536</td>\n",
       "    </tr>\n",
       "    <tr>\n",
       "      <th>alloc opal_pmix_evar_t</th>\n",
       "      <td>17</td>\n",
       "      <td>80</td>\n",
       "      <td>80</td>\n",
       "      <td>80</td>\n",
       "      <td>108800</td>\n",
       "    </tr>\n",
       "    <tr>\n",
       "      <th>alloc opal_pmix2x_jobid_trkr_t</th>\n",
       "      <td>1</td>\n",
       "      <td>304</td>\n",
       "      <td>304</td>\n",
       "      <td>304</td>\n",
       "      <td>92416</td>\n",
       "    </tr>\n",
       "    <tr>\n",
       "      <th>alloc opal_pmix2x_event_t</th>\n",
       "      <td>3</td>\n",
       "      <td>184</td>\n",
       "      <td>184</td>\n",
       "      <td>184</td>\n",
       "      <td>101568</td>\n",
       "    </tr>\n",
       "    <tr>\n",
       "      <th>alloc opal_value_t</th>\n",
       "      <td>7</td>\n",
       "      <td>136</td>\n",
       "      <td>136</td>\n",
       "      <td>136</td>\n",
       "      <td>129472</td>\n",
       "    </tr>\n",
       "    <tr>\n",
       "      <th>alloc orte_state_t</th>\n",
       "      <td>2</td>\n",
       "      <td>64</td>\n",
       "      <td>64</td>\n",
       "      <td>64</td>\n",
       "      <td>8192</td>\n",
       "    </tr>\n",
       "    <tr>\n",
       "      <th>alloc orte_routed_base_active_t</th>\n",
       "      <td>4</td>\n",
       "      <td>64</td>\n",
       "      <td>64</td>\n",
       "      <td>64</td>\n",
       "      <td>16384</td>\n",
       "    </tr>\n",
       "    <tr>\n",
       "      <th>alloc orte_rml_pathway_t</th>\n",
       "      <td>1</td>\n",
       "      <td>176</td>\n",
       "      <td>176</td>\n",
       "      <td>176</td>\n",
       "      <td>30976</td>\n",
       "    </tr>\n",
       "    <tr>\n",
       "      <th>alloc orte_attribute_t</th>\n",
       "      <td>5</td>\n",
       "      <td>112</td>\n",
       "      <td>112</td>\n",
       "      <td>112</td>\n",
       "      <td>62720</td>\n",
       "    </tr>\n",
       "    <tr>\n",
       "      <th>alloc orte_rml_base_active_t</th>\n",
       "      <td>1</td>\n",
       "      <td>56</td>\n",
       "      <td>56</td>\n",
       "      <td>56</td>\n",
       "      <td>3136</td>\n",
       "    </tr>\n",
       "    <tr>\n",
       "      <th>alloc mca_oob_uri_req_t</th>\n",
       "      <td>1</td>\n",
       "      <td>160</td>\n",
       "      <td>160</td>\n",
       "      <td>160</td>\n",
       "      <td>25600</td>\n",
       "    </tr>\n",
       "    <tr>\n",
       "      <th>alloc orte_oob_base_peer_t</th>\n",
       "      <td>1</td>\n",
       "      <td>56</td>\n",
       "      <td>56</td>\n",
       "      <td>56</td>\n",
       "      <td>3136</td>\n",
       "    </tr>\n",
       "    <tr>\n",
       "      <th>alloc mca_oob_tcp_peer_t</th>\n",
       "      <td>1</td>\n",
       "      <td>664</td>\n",
       "      <td>664</td>\n",
       "      <td>664</td>\n",
       "      <td>440896</td>\n",
       "    </tr>\n",
       "    <tr>\n",
       "      <th>alloc mca_oob_tcp_addr_t</th>\n",
       "      <td>5</td>\n",
       "      <td>176</td>\n",
       "      <td>176</td>\n",
       "      <td>176</td>\n",
       "      <td>154880</td>\n",
       "    </tr>\n",
       "    <tr>\n",
       "      <th>alloc pmix2x_opcaddy_t</th>\n",
       "      <td>7</td>\n",
       "      <td>744</td>\n",
       "      <td>744</td>\n",
       "      <td>744</td>\n",
       "      <td>3874752</td>\n",
       "    </tr>\n",
       "    <tr>\n",
       "      <th>alloc orte_rml_posted_recv_t</th>\n",
       "      <td>5</td>\n",
       "      <td>80</td>\n",
       "      <td>80</td>\n",
       "      <td>80</td>\n",
       "      <td>32000</td>\n",
       "    </tr>\n",
       "    <tr>\n",
       "      <th>alloc orte_rml_posted_recv_t &lt;= orte_rml_recv_request_t</th>\n",
       "      <td>5</td>\n",
       "      <td>80</td>\n",
       "      <td>80</td>\n",
       "      <td>80</td>\n",
       "      <td>32000</td>\n",
       "    </tr>\n",
       "    <tr>\n",
       "      <th>alloc orte_rml_recv_request_t</th>\n",
       "      <td>5</td>\n",
       "      <td>168</td>\n",
       "      <td>168</td>\n",
       "      <td>168</td>\n",
       "      <td>141120</td>\n",
       "    </tr>\n",
       "    <tr>\n",
       "      <th>alloc orte_grpcomm_base_active_t</th>\n",
       "      <td>1</td>\n",
       "      <td>64</td>\n",
       "      <td>64</td>\n",
       "      <td>64</td>\n",
       "      <td>4096</td>\n",
       "    </tr>\n",
       "    <tr>\n",
       "      <th>alloc ompi_datatype_t</th>\n",
       "      <td>11</td>\n",
       "      <td>288</td>\n",
       "      <td>288</td>\n",
       "      <td>288</td>\n",
       "      <td>912384</td>\n",
       "    </tr>\n",
       "    <tr>\n",
       "      <th>alloc opal_convertor_t</th>\n",
       "      <td>2</td>\n",
       "      <td>248</td>\n",
       "      <td>248</td>\n",
       "      <td>248</td>\n",
       "      <td>123008</td>\n",
       "    </tr>\n",
       "    <tr>\n",
       "      <th>alloc ompi_proc_t</th>\n",
       "      <td>1</td>\n",
       "      <td>96</td>\n",
       "      <td>96</td>\n",
       "      <td>96</td>\n",
       "      <td>9216</td>\n",
       "    </tr>\n",
       "    <tr>\n",
       "      <th>alloc opal_pointer_array_t</th>\n",
       "      <td>1</td>\n",
       "      <td>112</td>\n",
       "      <td>112</td>\n",
       "      <td>112</td>\n",
       "      <td>12544</td>\n",
       "    </tr>\n",
       "    <tr>\n",
       "      <th>alloc ompi_op_base_module_t</th>\n",
       "      <td>12</td>\n",
       "      <td>656</td>\n",
       "      <td>656</td>\n",
       "      <td>656</td>\n",
       "      <td>5164032</td>\n",
       "    </tr>\n",
       "    <tr>\n",
       "      <th>alloc mca_base_pvar_t</th>\n",
       "      <td>5</td>\n",
       "      <td>168</td>\n",
       "      <td>168</td>\n",
       "      <td>168</td>\n",
       "      <td>141120</td>\n",
       "    </tr>\n",
       "    <tr>\n",
       "      <th>alloc mca_mpool_hugepage_hugepage_t</th>\n",
       "      <td>1</td>\n",
       "      <td>64</td>\n",
       "      <td>64</td>\n",
       "      <td>64</td>\n",
       "      <td>4096</td>\n",
       "    </tr>\n",
       "    <tr>\n",
       "      <th>alloc mca_base_var_enum_flag_t</th>\n",
       "      <td>3</td>\n",
       "      <td>96</td>\n",
       "      <td>96</td>\n",
       "      <td>96</td>\n",
       "      <td>27648</td>\n",
       "    </tr>\n",
       "    <tr>\n",
       "      <th>alloc mca_btl_base_selected_module_t</th>\n",
       "      <td>7</td>\n",
       "      <td>56</td>\n",
       "      <td>56</td>\n",
       "      <td>56</td>\n",
       "      <td>21952</td>\n",
       "    </tr>\n",
       "    <tr>\n",
       "      <th>alloc opal_mutex_t</th>\n",
       "      <td>2</td>\n",
       "      <td>64</td>\n",
       "      <td>64</td>\n",
       "      <td>64</td>\n",
       "      <td>8192</td>\n",
       "    </tr>\n",
       "    <tr>\n",
       "      <th>alloc ompi_info_entry_t</th>\n",
       "      <td>8</td>\n",
       "      <td>88</td>\n",
       "      <td>88</td>\n",
       "      <td>88</td>\n",
       "      <td>61952</td>\n",
       "    </tr>\n",
       "    <tr>\n",
       "      <th>alloc ompi_group_t</th>\n",
       "      <td>2</td>\n",
       "      <td>72</td>\n",
       "      <td>72</td>\n",
       "      <td>72</td>\n",
       "      <td>10368</td>\n",
       "    </tr>\n",
       "    <tr>\n",
       "      <th>alloc opal_hash_table_t</th>\n",
       "      <td>2</td>\n",
       "      <td>72</td>\n",
       "      <td>72</td>\n",
       "      <td>72</td>\n",
       "      <td>10368</td>\n",
       "    </tr>\n",
       "    <tr>\n",
       "      <th>alloc opal_bitmap_t</th>\n",
       "      <td>1</td>\n",
       "      <td>32</td>\n",
       "      <td>32</td>\n",
       "      <td>32</td>\n",
       "      <td>1024</td>\n",
       "    </tr>\n",
       "    <tr>\n",
       "      <th>alloc ompi_attribute_keyval_t</th>\n",
       "      <td>12</td>\n",
       "      <td>64</td>\n",
       "      <td>64</td>\n",
       "      <td>64</td>\n",
       "      <td>49152</td>\n",
       "    </tr>\n",
       "    <tr>\n",
       "      <th>alloc attribute_value_t</th>\n",
       "      <td>7</td>\n",
       "      <td>64</td>\n",
       "      <td>64</td>\n",
       "      <td>64</td>\n",
       "      <td>28672</td>\n",
       "    </tr>\n",
       "    <tr>\n",
       "      <th>alloc mca_bml_base_endpoint_t</th>\n",
       "      <td>1</td>\n",
       "      <td>232</td>\n",
       "      <td>232</td>\n",
       "      <td>232</td>\n",
       "      <td>53824</td>\n",
       "    </tr>\n",
       "    <tr>\n",
       "      <th>alloc mca_pml_ob1_comm_t</th>\n",
       "      <td>2</td>\n",
       "      <td>240</td>\n",
       "      <td>240</td>\n",
       "      <td>240</td>\n",
       "      <td>115200</td>\n",
       "    </tr>\n",
       "    <tr>\n",
       "      <th>alloc mca_pml_ob1_comm_proc_t</th>\n",
       "      <td>2</td>\n",
       "      <td>8</td>\n",
       "      <td>8</td>\n",
       "      <td>8</td>\n",
       "      <td>128</td>\n",
       "    </tr>\n",
       "    <tr>\n",
       "      <th>alloc mca_pml_ob1_comm_proc_t &lt;= mca_pml_ob1_comm_t</th>\n",
       "      <td>2</td>\n",
       "      <td>8</td>\n",
       "      <td>8</td>\n",
       "      <td>8</td>\n",
       "      <td>128</td>\n",
       "    </tr>\n",
       "    <tr>\n",
       "      <th>alloc mca_coll_basic_module_t</th>\n",
       "      <td>2</td>\n",
       "      <td>408</td>\n",
       "      <td>408</td>\n",
       "      <td>408</td>\n",
       "      <td>332928</td>\n",
       "    </tr>\n",
       "    <tr>\n",
       "      <th>alloc avail_coll_t</th>\n",
       "      <td>6</td>\n",
       "      <td>64</td>\n",
       "      <td>64</td>\n",
       "      <td>64</td>\n",
       "      <td>24576</td>\n",
       "    </tr>\n",
       "    <tr>\n",
       "      <th>alloc ompi_coll_libnbc_module_t</th>\n",
       "      <td>2</td>\n",
       "      <td>480</td>\n",
       "      <td>480</td>\n",
       "      <td>480</td>\n",
       "      <td>460800</td>\n",
       "    </tr>\n",
       "    <tr>\n",
       "      <th>alloc mca_coll_self_module_t</th>\n",
       "      <td>2</td>\n",
       "      <td>408</td>\n",
       "      <td>408</td>\n",
       "      <td>408</td>\n",
       "      <td>332928</td>\n",
       "    </tr>\n",
       "    <tr>\n",
       "      <th>alloc mca_coll_base_comm_t</th>\n",
       "      <td>2</td>\n",
       "      <td>136</td>\n",
       "      <td>136</td>\n",
       "      <td>136</td>\n",
       "      <td>36992</td>\n",
       "    </tr>\n",
       "  </tbody>\n",
       "</table>\n",
       "</div>"
      ],
      "text/plain": [
       "                                                                       Count  \\\n",
       "Node Context Thread Timer                                                      \n",
       "0    0       0      alloc opal_thread_t                                    1   \n",
       "                    alloc mca_base_component_list_item_t                  66   \n",
       "                    alloc mca_base_var_group_t                           152   \n",
       "                    alloc mca_base_var_t                                 691   \n",
       "                    alloc mca_base_var_enum_t                             17   \n",
       "                    alloc opal_dss_type_info_t                            46   \n",
       "                    alloc opal_list_t                                     57   \n",
       "                    alloc mca_base_component_repository_item_t           101   \n",
       "                    alloc opal_if_t                                        7   \n",
       "                    alloc orte_schizo_base_active_module_t                 1   \n",
       "                    alloc opal_progress_tracker_t                          1   \n",
       "                    alloc opal_pmix_evar_t                                17   \n",
       "                    alloc opal_pmix2x_jobid_trkr_t                         1   \n",
       "                    alloc opal_pmix2x_event_t                              3   \n",
       "                    alloc opal_value_t                                     7   \n",
       "                    alloc orte_state_t                                     2   \n",
       "                    alloc orte_routed_base_active_t                        4   \n",
       "                    alloc orte_rml_pathway_t                               1   \n",
       "                    alloc orte_attribute_t                                 5   \n",
       "                    alloc orte_rml_base_active_t                           1   \n",
       "                    alloc mca_oob_uri_req_t                                1   \n",
       "                    alloc orte_oob_base_peer_t                             1   \n",
       "                    alloc mca_oob_tcp_peer_t                               1   \n",
       "                    alloc mca_oob_tcp_addr_t                               5   \n",
       "                    alloc pmix2x_opcaddy_t                                 7   \n",
       "                    alloc orte_rml_posted_recv_t                           5   \n",
       "                    alloc orte_rml_posted_recv_t <= orte_rml_recv_r...     5   \n",
       "                    alloc orte_rml_recv_request_t                          5   \n",
       "                    alloc orte_grpcomm_base_active_t                       1   \n",
       "                    alloc ompi_datatype_t                                 11   \n",
       "                    alloc opal_convertor_t                                 2   \n",
       "                    alloc ompi_proc_t                                      1   \n",
       "                    alloc opal_pointer_array_t                             1   \n",
       "                    alloc ompi_op_base_module_t                           12   \n",
       "                    alloc mca_base_pvar_t                                  5   \n",
       "                    alloc mca_mpool_hugepage_hugepage_t                    1   \n",
       "                    alloc mca_base_var_enum_flag_t                         3   \n",
       "                    alloc mca_btl_base_selected_module_t                   7   \n",
       "                    alloc opal_mutex_t                                     2   \n",
       "                    alloc ompi_info_entry_t                                8   \n",
       "                    alloc ompi_group_t                                     2   \n",
       "                    alloc opal_hash_table_t                                2   \n",
       "                    alloc opal_bitmap_t                                    1   \n",
       "                    alloc ompi_attribute_keyval_t                         12   \n",
       "                    alloc attribute_value_t                                7   \n",
       "                    alloc mca_bml_base_endpoint_t                          1   \n",
       "                    alloc mca_pml_ob1_comm_t                               2   \n",
       "                    alloc mca_pml_ob1_comm_proc_t                          2   \n",
       "                    alloc mca_pml_ob1_comm_proc_t <= mca_pml_ob1_co...     2   \n",
       "                    alloc mca_coll_basic_module_t                          2   \n",
       "                    alloc avail_coll_t                                     6   \n",
       "                    alloc ompi_coll_libnbc_module_t                        2   \n",
       "                    alloc mca_coll_self_module_t                           2   \n",
       "                    alloc mca_coll_base_comm_t                             2   \n",
       "\n",
       "                                                                       Maximum  \\\n",
       "Node Context Thread Timer                                                        \n",
       "0    0       0      alloc opal_thread_t                                     40   \n",
       "                    alloc mca_base_component_list_item_t                    48   \n",
       "                    alloc mca_base_var_group_t                             280   \n",
       "                    alloc mca_base_var_t                                   168   \n",
       "                    alloc mca_base_var_enum_t                               88   \n",
       "                    alloc opal_dss_type_info_t                              80   \n",
       "                    alloc opal_list_t                                       64   \n",
       "                    alloc mca_base_component_repository_item_t             176   \n",
       "                    alloc opal_if_t                                        224   \n",
       "                    alloc orte_schizo_base_active_module_t                  64   \n",
       "                    alloc opal_progress_tracker_t                          256   \n",
       "                    alloc opal_pmix_evar_t                                  80   \n",
       "                    alloc opal_pmix2x_jobid_trkr_t                         304   \n",
       "                    alloc opal_pmix2x_event_t                              184   \n",
       "                    alloc opal_value_t                                     136   \n",
       "                    alloc orte_state_t                                      64   \n",
       "                    alloc orte_routed_base_active_t                         64   \n",
       "                    alloc orte_rml_pathway_t                               176   \n",
       "                    alloc orte_attribute_t                                 112   \n",
       "                    alloc orte_rml_base_active_t                            56   \n",
       "                    alloc mca_oob_uri_req_t                                160   \n",
       "                    alloc orte_oob_base_peer_t                              56   \n",
       "                    alloc mca_oob_tcp_peer_t                               664   \n",
       "                    alloc mca_oob_tcp_addr_t                               176   \n",
       "                    alloc pmix2x_opcaddy_t                                 744   \n",
       "                    alloc orte_rml_posted_recv_t                            80   \n",
       "                    alloc orte_rml_posted_recv_t <= orte_rml_recv_r...      80   \n",
       "                    alloc orte_rml_recv_request_t                          168   \n",
       "                    alloc orte_grpcomm_base_active_t                        64   \n",
       "                    alloc ompi_datatype_t                                  288   \n",
       "                    alloc opal_convertor_t                                 248   \n",
       "                    alloc ompi_proc_t                                       96   \n",
       "                    alloc opal_pointer_array_t                             112   \n",
       "                    alloc ompi_op_base_module_t                            656   \n",
       "                    alloc mca_base_pvar_t                                  168   \n",
       "                    alloc mca_mpool_hugepage_hugepage_t                     64   \n",
       "                    alloc mca_base_var_enum_flag_t                          96   \n",
       "                    alloc mca_btl_base_selected_module_t                    56   \n",
       "                    alloc opal_mutex_t                                      64   \n",
       "                    alloc ompi_info_entry_t                                 88   \n",
       "                    alloc ompi_group_t                                      72   \n",
       "                    alloc opal_hash_table_t                                 72   \n",
       "                    alloc opal_bitmap_t                                     32   \n",
       "                    alloc ompi_attribute_keyval_t                           64   \n",
       "                    alloc attribute_value_t                                 64   \n",
       "                    alloc mca_bml_base_endpoint_t                          232   \n",
       "                    alloc mca_pml_ob1_comm_t                               240   \n",
       "                    alloc mca_pml_ob1_comm_proc_t                            8   \n",
       "                    alloc mca_pml_ob1_comm_proc_t <= mca_pml_ob1_co...       8   \n",
       "                    alloc mca_coll_basic_module_t                          408   \n",
       "                    alloc avail_coll_t                                      64   \n",
       "                    alloc ompi_coll_libnbc_module_t                        480   \n",
       "                    alloc mca_coll_self_module_t                           408   \n",
       "                    alloc mca_coll_base_comm_t                             136   \n",
       "\n",
       "                                                                       Minimum  \\\n",
       "Node Context Thread Timer                                                        \n",
       "0    0       0      alloc opal_thread_t                                     40   \n",
       "                    alloc mca_base_component_list_item_t                    48   \n",
       "                    alloc mca_base_var_group_t                             280   \n",
       "                    alloc mca_base_var_t                                   168   \n",
       "                    alloc mca_base_var_enum_t                               88   \n",
       "                    alloc opal_dss_type_info_t                              80   \n",
       "                    alloc opal_list_t                                       64   \n",
       "                    alloc mca_base_component_repository_item_t             176   \n",
       "                    alloc opal_if_t                                        224   \n",
       "                    alloc orte_schizo_base_active_module_t                  64   \n",
       "                    alloc opal_progress_tracker_t                          256   \n",
       "                    alloc opal_pmix_evar_t                                  80   \n",
       "                    alloc opal_pmix2x_jobid_trkr_t                         304   \n",
       "                    alloc opal_pmix2x_event_t                              184   \n",
       "                    alloc opal_value_t                                     136   \n",
       "                    alloc orte_state_t                                      64   \n",
       "                    alloc orte_routed_base_active_t                         64   \n",
       "                    alloc orte_rml_pathway_t                               176   \n",
       "                    alloc orte_attribute_t                                 112   \n",
       "                    alloc orte_rml_base_active_t                            56   \n",
       "                    alloc mca_oob_uri_req_t                                160   \n",
       "                    alloc orte_oob_base_peer_t                              56   \n",
       "                    alloc mca_oob_tcp_peer_t                               664   \n",
       "                    alloc mca_oob_tcp_addr_t                               176   \n",
       "                    alloc pmix2x_opcaddy_t                                 744   \n",
       "                    alloc orte_rml_posted_recv_t                            80   \n",
       "                    alloc orte_rml_posted_recv_t <= orte_rml_recv_r...      80   \n",
       "                    alloc orte_rml_recv_request_t                          168   \n",
       "                    alloc orte_grpcomm_base_active_t                        64   \n",
       "                    alloc ompi_datatype_t                                  288   \n",
       "                    alloc opal_convertor_t                                 248   \n",
       "                    alloc ompi_proc_t                                       96   \n",
       "                    alloc opal_pointer_array_t                             112   \n",
       "                    alloc ompi_op_base_module_t                            656   \n",
       "                    alloc mca_base_pvar_t                                  168   \n",
       "                    alloc mca_mpool_hugepage_hugepage_t                     64   \n",
       "                    alloc mca_base_var_enum_flag_t                          96   \n",
       "                    alloc mca_btl_base_selected_module_t                    56   \n",
       "                    alloc opal_mutex_t                                      64   \n",
       "                    alloc ompi_info_entry_t                                 88   \n",
       "                    alloc ompi_group_t                                      72   \n",
       "                    alloc opal_hash_table_t                                 72   \n",
       "                    alloc opal_bitmap_t                                     32   \n",
       "                    alloc ompi_attribute_keyval_t                           64   \n",
       "                    alloc attribute_value_t                                 64   \n",
       "                    alloc mca_bml_base_endpoint_t                          232   \n",
       "                    alloc mca_pml_ob1_comm_t                               240   \n",
       "                    alloc mca_pml_ob1_comm_proc_t                            8   \n",
       "                    alloc mca_pml_ob1_comm_proc_t <= mca_pml_ob1_co...       8   \n",
       "                    alloc mca_coll_basic_module_t                          408   \n",
       "                    alloc avail_coll_t                                      64   \n",
       "                    alloc ompi_coll_libnbc_module_t                        480   \n",
       "                    alloc mca_coll_self_module_t                           408   \n",
       "                    alloc mca_coll_base_comm_t                             136   \n",
       "\n",
       "                                                                       Mean  \\\n",
       "Node Context Thread Timer                                                     \n",
       "0    0       0      alloc opal_thread_t                                  40   \n",
       "                    alloc mca_base_component_list_item_t                 48   \n",
       "                    alloc mca_base_var_group_t                          280   \n",
       "                    alloc mca_base_var_t                                168   \n",
       "                    alloc mca_base_var_enum_t                            88   \n",
       "                    alloc opal_dss_type_info_t                           80   \n",
       "                    alloc opal_list_t                                    64   \n",
       "                    alloc mca_base_component_repository_item_t          176   \n",
       "                    alloc opal_if_t                                     224   \n",
       "                    alloc orte_schizo_base_active_module_t               64   \n",
       "                    alloc opal_progress_tracker_t                       256   \n",
       "                    alloc opal_pmix_evar_t                               80   \n",
       "                    alloc opal_pmix2x_jobid_trkr_t                      304   \n",
       "                    alloc opal_pmix2x_event_t                           184   \n",
       "                    alloc opal_value_t                                  136   \n",
       "                    alloc orte_state_t                                   64   \n",
       "                    alloc orte_routed_base_active_t                      64   \n",
       "                    alloc orte_rml_pathway_t                            176   \n",
       "                    alloc orte_attribute_t                              112   \n",
       "                    alloc orte_rml_base_active_t                         56   \n",
       "                    alloc mca_oob_uri_req_t                             160   \n",
       "                    alloc orte_oob_base_peer_t                           56   \n",
       "                    alloc mca_oob_tcp_peer_t                            664   \n",
       "                    alloc mca_oob_tcp_addr_t                            176   \n",
       "                    alloc pmix2x_opcaddy_t                              744   \n",
       "                    alloc orte_rml_posted_recv_t                         80   \n",
       "                    alloc orte_rml_posted_recv_t <= orte_rml_recv_r...   80   \n",
       "                    alloc orte_rml_recv_request_t                       168   \n",
       "                    alloc orte_grpcomm_base_active_t                     64   \n",
       "                    alloc ompi_datatype_t                               288   \n",
       "                    alloc opal_convertor_t                              248   \n",
       "                    alloc ompi_proc_t                                    96   \n",
       "                    alloc opal_pointer_array_t                          112   \n",
       "                    alloc ompi_op_base_module_t                         656   \n",
       "                    alloc mca_base_pvar_t                               168   \n",
       "                    alloc mca_mpool_hugepage_hugepage_t                  64   \n",
       "                    alloc mca_base_var_enum_flag_t                       96   \n",
       "                    alloc mca_btl_base_selected_module_t                 56   \n",
       "                    alloc opal_mutex_t                                   64   \n",
       "                    alloc ompi_info_entry_t                              88   \n",
       "                    alloc ompi_group_t                                   72   \n",
       "                    alloc opal_hash_table_t                              72   \n",
       "                    alloc opal_bitmap_t                                  32   \n",
       "                    alloc ompi_attribute_keyval_t                        64   \n",
       "                    alloc attribute_value_t                              64   \n",
       "                    alloc mca_bml_base_endpoint_t                       232   \n",
       "                    alloc mca_pml_ob1_comm_t                            240   \n",
       "                    alloc mca_pml_ob1_comm_proc_t                         8   \n",
       "                    alloc mca_pml_ob1_comm_proc_t <= mca_pml_ob1_co...    8   \n",
       "                    alloc mca_coll_basic_module_t                       408   \n",
       "                    alloc avail_coll_t                                   64   \n",
       "                    alloc ompi_coll_libnbc_module_t                     480   \n",
       "                    alloc mca_coll_self_module_t                        408   \n",
       "                    alloc mca_coll_base_comm_t                          136   \n",
       "\n",
       "                                                                           SumSq  \n",
       "Node Context Thread Timer                                                         \n",
       "0    0       0      alloc opal_thread_t                                     1600  \n",
       "                    alloc mca_base_component_list_item_t                  152064  \n",
       "                    alloc mca_base_var_group_t                          11916800  \n",
       "                    alloc mca_base_var_t                                19502784  \n",
       "                    alloc mca_base_var_enum_t                             131648  \n",
       "                    alloc opal_dss_type_info_t                            294400  \n",
       "                    alloc opal_list_t                                     233472  \n",
       "                    alloc mca_base_component_repository_item_t           3128576  \n",
       "                    alloc opal_if_t                                       351232  \n",
       "                    alloc orte_schizo_base_active_module_t                  4096  \n",
       "                    alloc opal_progress_tracker_t                          65536  \n",
       "                    alloc opal_pmix_evar_t                                108800  \n",
       "                    alloc opal_pmix2x_jobid_trkr_t                         92416  \n",
       "                    alloc opal_pmix2x_event_t                             101568  \n",
       "                    alloc opal_value_t                                    129472  \n",
       "                    alloc orte_state_t                                      8192  \n",
       "                    alloc orte_routed_base_active_t                        16384  \n",
       "                    alloc orte_rml_pathway_t                               30976  \n",
       "                    alloc orte_attribute_t                                 62720  \n",
       "                    alloc orte_rml_base_active_t                            3136  \n",
       "                    alloc mca_oob_uri_req_t                                25600  \n",
       "                    alloc orte_oob_base_peer_t                              3136  \n",
       "                    alloc mca_oob_tcp_peer_t                              440896  \n",
       "                    alloc mca_oob_tcp_addr_t                              154880  \n",
       "                    alloc pmix2x_opcaddy_t                               3874752  \n",
       "                    alloc orte_rml_posted_recv_t                           32000  \n",
       "                    alloc orte_rml_posted_recv_t <= orte_rml_recv_r...     32000  \n",
       "                    alloc orte_rml_recv_request_t                         141120  \n",
       "                    alloc orte_grpcomm_base_active_t                        4096  \n",
       "                    alloc ompi_datatype_t                                 912384  \n",
       "                    alloc opal_convertor_t                                123008  \n",
       "                    alloc ompi_proc_t                                       9216  \n",
       "                    alloc opal_pointer_array_t                             12544  \n",
       "                    alloc ompi_op_base_module_t                          5164032  \n",
       "                    alloc mca_base_pvar_t                                 141120  \n",
       "                    alloc mca_mpool_hugepage_hugepage_t                     4096  \n",
       "                    alloc mca_base_var_enum_flag_t                         27648  \n",
       "                    alloc mca_btl_base_selected_module_t                   21952  \n",
       "                    alloc opal_mutex_t                                      8192  \n",
       "                    alloc ompi_info_entry_t                                61952  \n",
       "                    alloc ompi_group_t                                     10368  \n",
       "                    alloc opal_hash_table_t                                10368  \n",
       "                    alloc opal_bitmap_t                                     1024  \n",
       "                    alloc ompi_attribute_keyval_t                          49152  \n",
       "                    alloc attribute_value_t                                28672  \n",
       "                    alloc mca_bml_base_endpoint_t                          53824  \n",
       "                    alloc mca_pml_ob1_comm_t                              115200  \n",
       "                    alloc mca_pml_ob1_comm_proc_t                            128  \n",
       "                    alloc mca_pml_ob1_comm_proc_t <= mca_pml_ob1_co...       128  \n",
       "                    alloc mca_coll_basic_module_t                         332928  \n",
       "                    alloc avail_coll_t                                     24576  \n",
       "                    alloc ompi_coll_libnbc_module_t                       460800  \n",
       "                    alloc mca_coll_self_module_t                          332928  \n",
       "                    alloc mca_coll_base_comm_t                             36992  "
      ]
     },
     "execution_count": 72,
     "metadata": {},
     "output_type": "execute_result"
    }
   ],
   "source": [
    "lulesh_data.atomic_data()"
   ]
  },
  {
   "cell_type": "markdown",
   "metadata": {},
   "source": [
    "The `interval_data()` function returns the timer data. As with atomic_data(), it is returned as a multi-index Pandas dataframe with Node, Context, Thread, and Timer as the indices."
   ]
  },
  {
   "cell_type": "code",
   "execution_count": 73,
   "metadata": {},
   "outputs": [
    {
     "data": {
      "text/html": [
       "<div>\n",
       "<style scoped>\n",
       "    .dataframe tbody tr th:only-of-type {\n",
       "        vertical-align: middle;\n",
       "    }\n",
       "\n",
       "    .dataframe tbody tr th {\n",
       "        vertical-align: top;\n",
       "    }\n",
       "\n",
       "    .dataframe thead th {\n",
       "        text-align: right;\n",
       "    }\n",
       "</style>\n",
       "<table border=\"1\" class=\"dataframe\">\n",
       "  <thead>\n",
       "    <tr style=\"text-align: right;\">\n",
       "      <th></th>\n",
       "      <th></th>\n",
       "      <th></th>\n",
       "      <th></th>\n",
       "      <th>Calls</th>\n",
       "      <th>Subcalls</th>\n",
       "      <th>Exclusive</th>\n",
       "      <th>Inclusive</th>\n",
       "      <th>ProfileCalls</th>\n",
       "      <th>Group</th>\n",
       "      <th>Timer Name</th>\n",
       "      <th>Timer Location</th>\n",
       "      <th>Timer Type</th>\n",
       "    </tr>\n",
       "    <tr>\n",
       "      <th>Node</th>\n",
       "      <th>Context</th>\n",
       "      <th>Thread</th>\n",
       "      <th>Timer</th>\n",
       "      <th></th>\n",
       "      <th></th>\n",
       "      <th></th>\n",
       "      <th></th>\n",
       "      <th></th>\n",
       "      <th></th>\n",
       "      <th></th>\n",
       "      <th></th>\n",
       "      <th></th>\n",
       "    </tr>\n",
       "  </thead>\n",
       "  <tbody>\n",
       "    <tr>\n",
       "      <th rowspan=\"11\" valign=\"top\">0</th>\n",
       "      <th rowspan=\"11\" valign=\"top\">0</th>\n",
       "      <th rowspan=\"5\" valign=\"top\">0</th>\n",
       "      <th>.TAU application</th>\n",
       "      <td>1</td>\n",
       "      <td>458544</td>\n",
       "      <td>1396259</td>\n",
       "      <td>12513680</td>\n",
       "      <td>0</td>\n",
       "      <td>GROUP=\"TAU_DEFAULT\"</td>\n",
       "      <td>.TAU application</td>\n",
       "      <td>None</td>\n",
       "      <td>None</td>\n",
       "    </tr>\n",
       "    <tr>\n",
       "      <th>OpenMP_Parallel_Region CalcVolumeForceForElems [{/home/nchaimov/LULESH/lulesh.cc} {1064, 0}]</th>\n",
       "      <td>932</td>\n",
       "      <td>932</td>\n",
       "      <td>5711</td>\n",
       "      <td>32948</td>\n",
       "      <td>0</td>\n",
       "      <td>GROUP=\"TAU_OPENMP\"</td>\n",
       "      <td>OpenMP_Parallel_Region CalcVolumeForceForElems</td>\n",
       "      <td>{/home/nchaimov/LULESH/lulesh.cc} {1064, 0}</td>\n",
       "      <td>None</td>\n",
       "    </tr>\n",
       "    <tr>\n",
       "      <th>OpenMP_Implicit_Task</th>\n",
       "      <td>458544</td>\n",
       "      <td>512600</td>\n",
       "      <td>7493651</td>\n",
       "      <td>10124249</td>\n",
       "      <td>0</td>\n",
       "      <td>GROUP=\"TAU_OPENMP\"</td>\n",
       "      <td>OpenMP_Implicit_Task</td>\n",
       "      <td>None</td>\n",
       "      <td>None</td>\n",
       "    </tr>\n",
       "    <tr>\n",
       "      <th>OpenMP_Sync_Region_Barrier CalcVolumeForceForElems [{/home/nchaimov/LULESH/lulesh.cc} {1064, 0}]</th>\n",
       "      <td>932</td>\n",
       "      <td>0</td>\n",
       "      <td>6781</td>\n",
       "      <td>6781</td>\n",
       "      <td>0</td>\n",
       "      <td>GROUP=\"TAU_OPENMP\"</td>\n",
       "      <td>OpenMP_Sync_Region_Barrier CalcVolumeForceForE...</td>\n",
       "      <td>{/home/nchaimov/LULESH/lulesh.cc} {1064, 0}</td>\n",
       "      <td>None</td>\n",
       "    </tr>\n",
       "    <tr>\n",
       "      <th>OpenMP_Parallel_Region CalcVolumeForceForElems [{/home/nchaimov/LULESH/lulesh.cc} {1077, 0}]</th>\n",
       "      <td>932</td>\n",
       "      <td>932</td>\n",
       "      <td>2208</td>\n",
       "      <td>35503</td>\n",
       "      <td>0</td>\n",
       "      <td>GROUP=\"TAU_OPENMP\"</td>\n",
       "      <td>OpenMP_Parallel_Region CalcVolumeForceForElems</td>\n",
       "      <td>{/home/nchaimov/LULESH/lulesh.cc} {1077, 0}</td>\n",
       "      <td>None</td>\n",
       "    </tr>\n",
       "    <tr>\n",
       "      <th>...</th>\n",
       "      <th>...</th>\n",
       "      <td>...</td>\n",
       "      <td>...</td>\n",
       "      <td>...</td>\n",
       "      <td>...</td>\n",
       "      <td>...</td>\n",
       "      <td>...</td>\n",
       "      <td>...</td>\n",
       "      <td>...</td>\n",
       "      <td>...</td>\n",
       "    </tr>\n",
       "    <tr>\n",
       "      <th rowspan=\"5\" valign=\"top\">15</th>\n",
       "      <th>[SAMPLE] CalcFBHourglassForceForElems(Domain&amp;, double*, double*, double*, double*, double*, double*, double*, double, int, int) [clone ._omp_fn.7] [{/home/nchaimov/LULESH/lulesh.cc} {880}]</th>\n",
       "      <td>1</td>\n",
       "      <td>0</td>\n",
       "      <td>1001</td>\n",
       "      <td>1001</td>\n",
       "      <td>0</td>\n",
       "      <td>GROUP=\"TAU_SAMPLE\"</td>\n",
       "      <td>CalcFBHourglassForceForElems(Domain&amp;, double*,...</td>\n",
       "      <td>{/home/nchaimov/LULESH/lulesh.cc} {880}</td>\n",
       "      <td>SAMPLE</td>\n",
       "    </tr>\n",
       "    <tr>\n",
       "      <th>OpenMP_Implicit_Task  =&gt; [CONTEXT] OpenMP_Implicit_Task  =&gt; [SAMPLE] CalcFBHourglassForceForElems(Domain&amp;, double*, double*, double*, double*, double*, double*, double*, double, int, int) [clone ._omp_fn.7] [{/home/nchaimov/LULESH/lulesh.cc} {880}]</th>\n",
       "      <td>1</td>\n",
       "      <td>0</td>\n",
       "      <td>1001</td>\n",
       "      <td>1001</td>\n",
       "      <td>0</td>\n",
       "      <td>GROUP=\"TAU_SAMPLE|TAU_CALLPATH\"</td>\n",
       "      <td>OpenMP_Implicit_Task  =&gt; [CONTEXT] OpenMP_Impl...</td>\n",
       "      <td>{/home/nchaimov/LULESH/lulesh.cc} {880}</td>\n",
       "      <td>None</td>\n",
       "    </tr>\n",
       "    <tr>\n",
       "      <th>[SAMPLE] UpdateVolumesForElems(Domain&amp;, double, int) [clone ._omp_fn.27] [{/home/nchaimov/LULESH/lulesh.cc} {2415}]</th>\n",
       "      <td>1</td>\n",
       "      <td>0</td>\n",
       "      <td>1000</td>\n",
       "      <td>1000</td>\n",
       "      <td>0</td>\n",
       "      <td>GROUP=\"TAU_SAMPLE\"</td>\n",
       "      <td>UpdateVolumesForElems(Domain&amp;, double, int) [c...</td>\n",
       "      <td>{/home/nchaimov/LULESH/lulesh.cc} {2415}</td>\n",
       "      <td>SAMPLE</td>\n",
       "    </tr>\n",
       "    <tr>\n",
       "      <th>OpenMP_Implicit_Task  =&gt; [CONTEXT] OpenMP_Implicit_Task  =&gt; [SAMPLE] UpdateVolumesForElems(Domain&amp;, double, int) [clone ._omp_fn.27] [{/home/nchaimov/LULESH/lulesh.cc} {2415}]</th>\n",
       "      <td>1</td>\n",
       "      <td>0</td>\n",
       "      <td>1000</td>\n",
       "      <td>1000</td>\n",
       "      <td>0</td>\n",
       "      <td>GROUP=\"TAU_SAMPLE|TAU_CALLPATH\"</td>\n",
       "      <td>OpenMP_Implicit_Task  =&gt; [CONTEXT] OpenMP_Impl...</td>\n",
       "      <td>{/home/nchaimov/LULESH/lulesh.cc} {2415}</td>\n",
       "      <td>None</td>\n",
       "    </tr>\n",
       "    <tr>\n",
       "      <th>OpenMP_Thread_Type_ompt_thread_worker  =&gt; [CONTEXT] OpenMP_Thread_Type_ompt_thread_worker  =&gt; [SAMPLE] Tau_global_decr_insideTAU [{/home/nchaimov/tau2/src/Profile/TauCAPI.cpp} {344}]</th>\n",
       "      <td>1</td>\n",
       "      <td>0</td>\n",
       "      <td>1001</td>\n",
       "      <td>1001</td>\n",
       "      <td>0</td>\n",
       "      <td>GROUP=\"TAU_SAMPLE|TAU_CALLPATH\"</td>\n",
       "      <td>OpenMP_Thread_Type_ompt_thread_worker  =&gt; [CON...</td>\n",
       "      <td>{/home/nchaimov/tau2/src/Profile/TauCAPI.cpp} ...</td>\n",
       "      <td>None</td>\n",
       "    </tr>\n",
       "  </tbody>\n",
       "</table>\n",
       "<p>16155 rows × 9 columns</p>\n",
       "</div>"
      ],
      "text/plain": [
       "                                                                         Calls  \\\n",
       "Node Context Thread Timer                                                        \n",
       "0    0       0      .TAU application                                         1   \n",
       "                    OpenMP_Parallel_Region CalcVolumeForceForElems ...     932   \n",
       "                    OpenMP_Implicit_Task                                458544   \n",
       "                    OpenMP_Sync_Region_Barrier CalcVolumeForceForEl...     932   \n",
       "                    OpenMP_Parallel_Region CalcVolumeForceForElems ...     932   \n",
       "...                                                                        ...   \n",
       "             15     [SAMPLE] CalcFBHourglassForceForElems(Domain&, ...       1   \n",
       "                    OpenMP_Implicit_Task  => [CONTEXT] OpenMP_Impli...       1   \n",
       "                    [SAMPLE] UpdateVolumesForElems(Domain&, double,...       1   \n",
       "                    OpenMP_Implicit_Task  => [CONTEXT] OpenMP_Impli...       1   \n",
       "                    OpenMP_Thread_Type_ompt_thread_worker  => [CONT...       1   \n",
       "\n",
       "                                                                        Subcalls  \\\n",
       "Node Context Thread Timer                                                          \n",
       "0    0       0      .TAU application                                      458544   \n",
       "                    OpenMP_Parallel_Region CalcVolumeForceForElems ...       932   \n",
       "                    OpenMP_Implicit_Task                                  512600   \n",
       "                    OpenMP_Sync_Region_Barrier CalcVolumeForceForEl...         0   \n",
       "                    OpenMP_Parallel_Region CalcVolumeForceForElems ...       932   \n",
       "...                                                                          ...   \n",
       "             15     [SAMPLE] CalcFBHourglassForceForElems(Domain&, ...         0   \n",
       "                    OpenMP_Implicit_Task  => [CONTEXT] OpenMP_Impli...         0   \n",
       "                    [SAMPLE] UpdateVolumesForElems(Domain&, double,...         0   \n",
       "                    OpenMP_Implicit_Task  => [CONTEXT] OpenMP_Impli...         0   \n",
       "                    OpenMP_Thread_Type_ompt_thread_worker  => [CONT...         0   \n",
       "\n",
       "                                                                        Exclusive  \\\n",
       "Node Context Thread Timer                                                           \n",
       "0    0       0      .TAU application                                      1396259   \n",
       "                    OpenMP_Parallel_Region CalcVolumeForceForElems ...       5711   \n",
       "                    OpenMP_Implicit_Task                                  7493651   \n",
       "                    OpenMP_Sync_Region_Barrier CalcVolumeForceForEl...       6781   \n",
       "                    OpenMP_Parallel_Region CalcVolumeForceForElems ...       2208   \n",
       "...                                                                           ...   \n",
       "             15     [SAMPLE] CalcFBHourglassForceForElems(Domain&, ...       1001   \n",
       "                    OpenMP_Implicit_Task  => [CONTEXT] OpenMP_Impli...       1001   \n",
       "                    [SAMPLE] UpdateVolumesForElems(Domain&, double,...       1000   \n",
       "                    OpenMP_Implicit_Task  => [CONTEXT] OpenMP_Impli...       1000   \n",
       "                    OpenMP_Thread_Type_ompt_thread_worker  => [CONT...       1001   \n",
       "\n",
       "                                                                        Inclusive  \\\n",
       "Node Context Thread Timer                                                           \n",
       "0    0       0      .TAU application                                     12513680   \n",
       "                    OpenMP_Parallel_Region CalcVolumeForceForElems ...      32948   \n",
       "                    OpenMP_Implicit_Task                                 10124249   \n",
       "                    OpenMP_Sync_Region_Barrier CalcVolumeForceForEl...       6781   \n",
       "                    OpenMP_Parallel_Region CalcVolumeForceForElems ...      35503   \n",
       "...                                                                           ...   \n",
       "             15     [SAMPLE] CalcFBHourglassForceForElems(Domain&, ...       1001   \n",
       "                    OpenMP_Implicit_Task  => [CONTEXT] OpenMP_Impli...       1001   \n",
       "                    [SAMPLE] UpdateVolumesForElems(Domain&, double,...       1000   \n",
       "                    OpenMP_Implicit_Task  => [CONTEXT] OpenMP_Impli...       1000   \n",
       "                    OpenMP_Thread_Type_ompt_thread_worker  => [CONT...       1001   \n",
       "\n",
       "                                                                        ProfileCalls  \\\n",
       "Node Context Thread Timer                                                              \n",
       "0    0       0      .TAU application                                               0   \n",
       "                    OpenMP_Parallel_Region CalcVolumeForceForElems ...             0   \n",
       "                    OpenMP_Implicit_Task                                           0   \n",
       "                    OpenMP_Sync_Region_Barrier CalcVolumeForceForEl...             0   \n",
       "                    OpenMP_Parallel_Region CalcVolumeForceForElems ...             0   \n",
       "...                                                                              ...   \n",
       "             15     [SAMPLE] CalcFBHourglassForceForElems(Domain&, ...             0   \n",
       "                    OpenMP_Implicit_Task  => [CONTEXT] OpenMP_Impli...             0   \n",
       "                    [SAMPLE] UpdateVolumesForElems(Domain&, double,...             0   \n",
       "                    OpenMP_Implicit_Task  => [CONTEXT] OpenMP_Impli...             0   \n",
       "                    OpenMP_Thread_Type_ompt_thread_worker  => [CONT...             0   \n",
       "\n",
       "                                                                                                  Group  \\\n",
       "Node Context Thread Timer                                                                                 \n",
       "0    0       0      .TAU application                                                GROUP=\"TAU_DEFAULT\"   \n",
       "                    OpenMP_Parallel_Region CalcVolumeForceForElems ...               GROUP=\"TAU_OPENMP\"   \n",
       "                    OpenMP_Implicit_Task                                             GROUP=\"TAU_OPENMP\"   \n",
       "                    OpenMP_Sync_Region_Barrier CalcVolumeForceForEl...               GROUP=\"TAU_OPENMP\"   \n",
       "                    OpenMP_Parallel_Region CalcVolumeForceForElems ...               GROUP=\"TAU_OPENMP\"   \n",
       "...                                                                                                 ...   \n",
       "             15     [SAMPLE] CalcFBHourglassForceForElems(Domain&, ...               GROUP=\"TAU_SAMPLE\"   \n",
       "                    OpenMP_Implicit_Task  => [CONTEXT] OpenMP_Impli...  GROUP=\"TAU_SAMPLE|TAU_CALLPATH\"   \n",
       "                    [SAMPLE] UpdateVolumesForElems(Domain&, double,...               GROUP=\"TAU_SAMPLE\"   \n",
       "                    OpenMP_Implicit_Task  => [CONTEXT] OpenMP_Impli...  GROUP=\"TAU_SAMPLE|TAU_CALLPATH\"   \n",
       "                    OpenMP_Thread_Type_ompt_thread_worker  => [CONT...  GROUP=\"TAU_SAMPLE|TAU_CALLPATH\"   \n",
       "\n",
       "                                                                                                               Timer Name  \\\n",
       "Node Context Thread Timer                                                                                                   \n",
       "0    0       0      .TAU application                                                                     .TAU application   \n",
       "                    OpenMP_Parallel_Region CalcVolumeForceForElems ...    OpenMP_Parallel_Region CalcVolumeForceForElems    \n",
       "                    OpenMP_Implicit_Task                                                             OpenMP_Implicit_Task   \n",
       "                    OpenMP_Sync_Region_Barrier CalcVolumeForceForEl...  OpenMP_Sync_Region_Barrier CalcVolumeForceForE...   \n",
       "                    OpenMP_Parallel_Region CalcVolumeForceForElems ...    OpenMP_Parallel_Region CalcVolumeForceForElems    \n",
       "...                                                                                                                   ...   \n",
       "             15     [SAMPLE] CalcFBHourglassForceForElems(Domain&, ...  CalcFBHourglassForceForElems(Domain&, double*,...   \n",
       "                    OpenMP_Implicit_Task  => [CONTEXT] OpenMP_Impli...  OpenMP_Implicit_Task  => [CONTEXT] OpenMP_Impl...   \n",
       "                    [SAMPLE] UpdateVolumesForElems(Domain&, double,...  UpdateVolumesForElems(Domain&, double, int) [c...   \n",
       "                    OpenMP_Implicit_Task  => [CONTEXT] OpenMP_Impli...  OpenMP_Implicit_Task  => [CONTEXT] OpenMP_Impl...   \n",
       "                    OpenMP_Thread_Type_ompt_thread_worker  => [CONT...  OpenMP_Thread_Type_ompt_thread_worker  => [CON...   \n",
       "\n",
       "                                                                                                           Timer Location  \\\n",
       "Node Context Thread Timer                                                                                                   \n",
       "0    0       0      .TAU application                                                                                 None   \n",
       "                    OpenMP_Parallel_Region CalcVolumeForceForElems ...        {/home/nchaimov/LULESH/lulesh.cc} {1064, 0}   \n",
       "                    OpenMP_Implicit_Task                                                                             None   \n",
       "                    OpenMP_Sync_Region_Barrier CalcVolumeForceForEl...        {/home/nchaimov/LULESH/lulesh.cc} {1064, 0}   \n",
       "                    OpenMP_Parallel_Region CalcVolumeForceForElems ...        {/home/nchaimov/LULESH/lulesh.cc} {1077, 0}   \n",
       "...                                                                                                                   ...   \n",
       "             15     [SAMPLE] CalcFBHourglassForceForElems(Domain&, ...            {/home/nchaimov/LULESH/lulesh.cc} {880}   \n",
       "                    OpenMP_Implicit_Task  => [CONTEXT] OpenMP_Impli...            {/home/nchaimov/LULESH/lulesh.cc} {880}   \n",
       "                    [SAMPLE] UpdateVolumesForElems(Domain&, double,...           {/home/nchaimov/LULESH/lulesh.cc} {2415}   \n",
       "                    OpenMP_Implicit_Task  => [CONTEXT] OpenMP_Impli...           {/home/nchaimov/LULESH/lulesh.cc} {2415}   \n",
       "                    OpenMP_Thread_Type_ompt_thread_worker  => [CONT...  {/home/nchaimov/tau2/src/Profile/TauCAPI.cpp} ...   \n",
       "\n",
       "                                                                       Timer Type  \n",
       "Node Context Thread Timer                                                          \n",
       "0    0       0      .TAU application                                         None  \n",
       "                    OpenMP_Parallel_Region CalcVolumeForceForElems ...       None  \n",
       "                    OpenMP_Implicit_Task                                     None  \n",
       "                    OpenMP_Sync_Region_Barrier CalcVolumeForceForEl...       None  \n",
       "                    OpenMP_Parallel_Region CalcVolumeForceForElems ...       None  \n",
       "...                                                                           ...  \n",
       "             15     [SAMPLE] CalcFBHourglassForceForElems(Domain&, ...     SAMPLE  \n",
       "                    OpenMP_Implicit_Task  => [CONTEXT] OpenMP_Impli...       None  \n",
       "                    [SAMPLE] UpdateVolumesForElems(Domain&, double,...     SAMPLE  \n",
       "                    OpenMP_Implicit_Task  => [CONTEXT] OpenMP_Impli...       None  \n",
       "                    OpenMP_Thread_Type_ompt_thread_worker  => [CONT...       None  \n",
       "\n",
       "[16155 rows x 9 columns]"
      ]
     },
     "execution_count": 73,
     "metadata": {},
     "output_type": "execute_result"
    }
   ],
   "source": [
    "lulesh_data.interval_data()"
   ]
  },
  {
   "cell_type": "markdown",
   "metadata": {},
   "source": [
    "We can manipulate this using normal Pandas functions. For example, here are the timers on (0,0,0) sorted by number of calls descending."
   ]
  },
  {
   "cell_type": "code",
   "execution_count": 74,
   "metadata": {},
   "outputs": [
    {
     "data": {
      "text/html": [
       "<div>\n",
       "<style scoped>\n",
       "    .dataframe tbody tr th:only-of-type {\n",
       "        vertical-align: middle;\n",
       "    }\n",
       "\n",
       "    .dataframe tbody tr th {\n",
       "        vertical-align: top;\n",
       "    }\n",
       "\n",
       "    .dataframe thead th {\n",
       "        text-align: right;\n",
       "    }\n",
       "</style>\n",
       "<table border=\"1\" class=\"dataframe\">\n",
       "  <thead>\n",
       "    <tr style=\"text-align: right;\">\n",
       "      <th></th>\n",
       "      <th>Calls</th>\n",
       "      <th>Subcalls</th>\n",
       "      <th>Exclusive</th>\n",
       "      <th>Inclusive</th>\n",
       "      <th>ProfileCalls</th>\n",
       "      <th>Group</th>\n",
       "      <th>Timer Name</th>\n",
       "      <th>Timer Location</th>\n",
       "      <th>Timer Type</th>\n",
       "    </tr>\n",
       "    <tr>\n",
       "      <th>Timer</th>\n",
       "      <th></th>\n",
       "      <th></th>\n",
       "      <th></th>\n",
       "      <th></th>\n",
       "      <th></th>\n",
       "      <th></th>\n",
       "      <th></th>\n",
       "      <th></th>\n",
       "      <th></th>\n",
       "    </tr>\n",
       "  </thead>\n",
       "  <tbody>\n",
       "    <tr>\n",
       "      <th>OpenMP_Implicit_Task</th>\n",
       "      <td>458544</td>\n",
       "      <td>512600</td>\n",
       "      <td>7493651</td>\n",
       "      <td>10124249</td>\n",
       "      <td>0</td>\n",
       "      <td>GROUP=\"TAU_OPENMP\"</td>\n",
       "      <td>OpenMP_Implicit_Task</td>\n",
       "      <td>None</td>\n",
       "      <td>None</td>\n",
       "    </tr>\n",
       "    <tr>\n",
       "      <th>OpenMP_Parallel_Region CalcPressureForElems [{/home/nchaimov/LULESH/lulesh.cc} {2022, 0}]</th>\n",
       "      <td>97860</td>\n",
       "      <td>97860</td>\n",
       "      <td>218060</td>\n",
       "      <td>1634266</td>\n",
       "      <td>0</td>\n",
       "      <td>GROUP=\"TAU_OPENMP\"</td>\n",
       "      <td>OpenMP_Parallel_Region CalcPressureForElems</td>\n",
       "      <td>{/home/nchaimov/LULESH/lulesh.cc} {2022, 0}</td>\n",
       "      <td>None</td>\n",
       "    </tr>\n",
       "    <tr>\n",
       "      <th>OpenMP_Sync_Region_Barrier CalcPressureForElems [{/home/nchaimov/LULESH/lulesh.cc} {2022, 0}]</th>\n",
       "      <td>97860</td>\n",
       "      <td>0</td>\n",
       "      <td>291080</td>\n",
       "      <td>291080</td>\n",
       "      <td>0</td>\n",
       "      <td>GROUP=\"TAU_OPENMP\"</td>\n",
       "      <td>OpenMP_Sync_Region_Barrier CalcPressureForElems</td>\n",
       "      <td>{/home/nchaimov/LULESH/lulesh.cc} {2022, 0}</td>\n",
       "      <td>None</td>\n",
       "    </tr>\n",
       "    <tr>\n",
       "      <th>OpenMP_Parallel_Region CalcPressureForElems [{/home/nchaimov/LULESH/lulesh.cc} {2029, 0}]</th>\n",
       "      <td>97860</td>\n",
       "      <td>97860</td>\n",
       "      <td>210603</td>\n",
       "      <td>1619691</td>\n",
       "      <td>0</td>\n",
       "      <td>GROUP=\"TAU_OPENMP\"</td>\n",
       "      <td>OpenMP_Parallel_Region CalcPressureForElems</td>\n",
       "      <td>{/home/nchaimov/LULESH/lulesh.cc} {2029, 0}</td>\n",
       "      <td>None</td>\n",
       "    </tr>\n",
       "    <tr>\n",
       "      <th>OpenMP_Sync_Region_Barrier CalcPressureForElems [{/home/nchaimov/LULESH/lulesh.cc} {2029, 0}]</th>\n",
       "      <td>97860</td>\n",
       "      <td>0</td>\n",
       "      <td>300433</td>\n",
       "      <td>300433</td>\n",
       "      <td>0</td>\n",
       "      <td>GROUP=\"TAU_OPENMP\"</td>\n",
       "      <td>OpenMP_Sync_Region_Barrier CalcPressureForElems</td>\n",
       "      <td>{/home/nchaimov/LULESH/lulesh.cc} {2029, 0}</td>\n",
       "      <td>None</td>\n",
       "    </tr>\n",
       "    <tr>\n",
       "      <th>...</th>\n",
       "      <td>...</td>\n",
       "      <td>...</td>\n",
       "      <td>...</td>\n",
       "      <td>...</td>\n",
       "      <td>...</td>\n",
       "      <td>...</td>\n",
       "      <td>...</td>\n",
       "      <td>...</td>\n",
       "      <td>...</td>\n",
       "    </tr>\n",
       "    <tr>\n",
       "      <th>[SAMPLE] Domain::nodeElemCount(int) [{/home/nchaimov/LULESH/lulesh.h} {369}]</th>\n",
       "      <td>1</td>\n",
       "      <td>0</td>\n",
       "      <td>2001</td>\n",
       "      <td>2001</td>\n",
       "      <td>0</td>\n",
       "      <td>GROUP=\"TAU_SAMPLE\"</td>\n",
       "      <td>Domain::nodeElemCount(int)</td>\n",
       "      <td>{/home/nchaimov/LULESH/lulesh.h} {369}</td>\n",
       "      <td>SAMPLE</td>\n",
       "    </tr>\n",
       "    <tr>\n",
       "      <th>OpenMP_Implicit_Task  =&gt; [CONTEXT] OpenMP_Implicit_Task  =&gt; [SAMPLE] Domain::nodeElemCount(int) [{/home/nchaimov/LULESH/lulesh.h} {369}]</th>\n",
       "      <td>1</td>\n",
       "      <td>0</td>\n",
       "      <td>2001</td>\n",
       "      <td>2001</td>\n",
       "      <td>0</td>\n",
       "      <td>GROUP=\"TAU_SAMPLE|TAU_CALLPATH\"</td>\n",
       "      <td>OpenMP_Implicit_Task  =&gt; [CONTEXT] OpenMP_Impl...</td>\n",
       "      <td>{/home/nchaimov/LULESH/lulesh.h} {369}</td>\n",
       "      <td>None</td>\n",
       "    </tr>\n",
       "    <tr>\n",
       "      <th>OpenMP_Parallel_Region CalcHourglassControlForElems [{/home/nchaimov/LULESH/lulesh.cc} {1043, 0}]  =&gt; [CONTEXT] OpenMP_Parallel_Region CalcHourglassControlForElems [{/home/nchaimov/LULESH/lulesh.cc} {1043, 0}]  =&gt; [SAMPLE] __kmp_join_call [{} {0}]</th>\n",
       "      <td>1</td>\n",
       "      <td>0</td>\n",
       "      <td>6000</td>\n",
       "      <td>6000</td>\n",
       "      <td>0</td>\n",
       "      <td>GROUP=\"TAU_SAMPLE|TAU_CALLPATH\"</td>\n",
       "      <td>OpenMP_Parallel_Region CalcHourglassControlFor...</td>\n",
       "      <td>{} {0}</td>\n",
       "      <td>None</td>\n",
       "    </tr>\n",
       "    <tr>\n",
       "      <th>OpenMP_Parallel_Region CalcHourglassControlForElems [{/home/nchaimov/LULESH/lulesh.cc} {1043, 0}]  =&gt; [CONTEXT] OpenMP_Parallel_Region CalcHourglassControlForElems [{/home/nchaimov/LULESH/lulesh.cc} {1043, 0}]  =&gt; [SAMPLE] __kmp_release_ticket_lock [{} {0}]</th>\n",
       "      <td>1</td>\n",
       "      <td>0</td>\n",
       "      <td>1000</td>\n",
       "      <td>1000</td>\n",
       "      <td>0</td>\n",
       "      <td>GROUP=\"TAU_SAMPLE|TAU_CALLPATH\"</td>\n",
       "      <td>OpenMP_Parallel_Region CalcHourglassControlFor...</td>\n",
       "      <td>{} {0}</td>\n",
       "      <td>None</td>\n",
       "    </tr>\n",
       "    <tr>\n",
       "      <th>.TAU application</th>\n",
       "      <td>1</td>\n",
       "      <td>458544</td>\n",
       "      <td>1396259</td>\n",
       "      <td>12513680</td>\n",
       "      <td>0</td>\n",
       "      <td>GROUP=\"TAU_DEFAULT\"</td>\n",
       "      <td>.TAU application</td>\n",
       "      <td>None</td>\n",
       "      <td>None</td>\n",
       "    </tr>\n",
       "  </tbody>\n",
       "</table>\n",
       "<p>1423 rows × 9 columns</p>\n",
       "</div>"
      ],
      "text/plain": [
       "                                                     Calls  Subcalls  \\\n",
       "Timer                                                                  \n",
       "OpenMP_Implicit_Task                                458544    512600   \n",
       "OpenMP_Parallel_Region CalcPressureForElems [{/...   97860     97860   \n",
       "OpenMP_Sync_Region_Barrier CalcPressureForElems...   97860         0   \n",
       "OpenMP_Parallel_Region CalcPressureForElems [{/...   97860     97860   \n",
       "OpenMP_Sync_Region_Barrier CalcPressureForElems...   97860         0   \n",
       "...                                                    ...       ...   \n",
       "[SAMPLE] Domain::nodeElemCount(int) [{/home/nch...       1         0   \n",
       "OpenMP_Implicit_Task  => [CONTEXT] OpenMP_Impli...       1         0   \n",
       "OpenMP_Parallel_Region CalcHourglassControlForE...       1         0   \n",
       "OpenMP_Parallel_Region CalcHourglassControlForE...       1         0   \n",
       ".TAU application                                         1    458544   \n",
       "\n",
       "                                                    Exclusive  Inclusive  \\\n",
       "Timer                                                                      \n",
       "OpenMP_Implicit_Task                                  7493651   10124249   \n",
       "OpenMP_Parallel_Region CalcPressureForElems [{/...     218060    1634266   \n",
       "OpenMP_Sync_Region_Barrier CalcPressureForElems...     291080     291080   \n",
       "OpenMP_Parallel_Region CalcPressureForElems [{/...     210603    1619691   \n",
       "OpenMP_Sync_Region_Barrier CalcPressureForElems...     300433     300433   \n",
       "...                                                       ...        ...   \n",
       "[SAMPLE] Domain::nodeElemCount(int) [{/home/nch...       2001       2001   \n",
       "OpenMP_Implicit_Task  => [CONTEXT] OpenMP_Impli...       2001       2001   \n",
       "OpenMP_Parallel_Region CalcHourglassControlForE...       6000       6000   \n",
       "OpenMP_Parallel_Region CalcHourglassControlForE...       1000       1000   \n",
       ".TAU application                                      1396259   12513680   \n",
       "\n",
       "                                                    ProfileCalls  \\\n",
       "Timer                                                              \n",
       "OpenMP_Implicit_Task                                           0   \n",
       "OpenMP_Parallel_Region CalcPressureForElems [{/...             0   \n",
       "OpenMP_Sync_Region_Barrier CalcPressureForElems...             0   \n",
       "OpenMP_Parallel_Region CalcPressureForElems [{/...             0   \n",
       "OpenMP_Sync_Region_Barrier CalcPressureForElems...             0   \n",
       "...                                                          ...   \n",
       "[SAMPLE] Domain::nodeElemCount(int) [{/home/nch...             0   \n",
       "OpenMP_Implicit_Task  => [CONTEXT] OpenMP_Impli...             0   \n",
       "OpenMP_Parallel_Region CalcHourglassControlForE...             0   \n",
       "OpenMP_Parallel_Region CalcHourglassControlForE...             0   \n",
       ".TAU application                                               0   \n",
       "\n",
       "                                                                              Group  \\\n",
       "Timer                                                                                 \n",
       "OpenMP_Implicit_Task                                             GROUP=\"TAU_OPENMP\"   \n",
       "OpenMP_Parallel_Region CalcPressureForElems [{/...               GROUP=\"TAU_OPENMP\"   \n",
       "OpenMP_Sync_Region_Barrier CalcPressureForElems...               GROUP=\"TAU_OPENMP\"   \n",
       "OpenMP_Parallel_Region CalcPressureForElems [{/...               GROUP=\"TAU_OPENMP\"   \n",
       "OpenMP_Sync_Region_Barrier CalcPressureForElems...               GROUP=\"TAU_OPENMP\"   \n",
       "...                                                                             ...   \n",
       "[SAMPLE] Domain::nodeElemCount(int) [{/home/nch...               GROUP=\"TAU_SAMPLE\"   \n",
       "OpenMP_Implicit_Task  => [CONTEXT] OpenMP_Impli...  GROUP=\"TAU_SAMPLE|TAU_CALLPATH\"   \n",
       "OpenMP_Parallel_Region CalcHourglassControlForE...  GROUP=\"TAU_SAMPLE|TAU_CALLPATH\"   \n",
       "OpenMP_Parallel_Region CalcHourglassControlForE...  GROUP=\"TAU_SAMPLE|TAU_CALLPATH\"   \n",
       ".TAU application                                                GROUP=\"TAU_DEFAULT\"   \n",
       "\n",
       "                                                                                           Timer Name  \\\n",
       "Timer                                                                                                   \n",
       "OpenMP_Implicit_Task                                                             OpenMP_Implicit_Task   \n",
       "OpenMP_Parallel_Region CalcPressureForElems [{/...       OpenMP_Parallel_Region CalcPressureForElems    \n",
       "OpenMP_Sync_Region_Barrier CalcPressureForElems...   OpenMP_Sync_Region_Barrier CalcPressureForElems    \n",
       "OpenMP_Parallel_Region CalcPressureForElems [{/...       OpenMP_Parallel_Region CalcPressureForElems    \n",
       "OpenMP_Sync_Region_Barrier CalcPressureForElems...   OpenMP_Sync_Region_Barrier CalcPressureForElems    \n",
       "...                                                                                               ...   \n",
       "[SAMPLE] Domain::nodeElemCount(int) [{/home/nch...                        Domain::nodeElemCount(int)    \n",
       "OpenMP_Implicit_Task  => [CONTEXT] OpenMP_Impli...  OpenMP_Implicit_Task  => [CONTEXT] OpenMP_Impl...   \n",
       "OpenMP_Parallel_Region CalcHourglassControlForE...  OpenMP_Parallel_Region CalcHourglassControlFor...   \n",
       "OpenMP_Parallel_Region CalcHourglassControlForE...  OpenMP_Parallel_Region CalcHourglassControlFor...   \n",
       ".TAU application                                                                     .TAU application   \n",
       "\n",
       "                                                                                 Timer Location  \\\n",
       "Timer                                                                                             \n",
       "OpenMP_Implicit_Task                                                                       None   \n",
       "OpenMP_Parallel_Region CalcPressureForElems [{/...  {/home/nchaimov/LULESH/lulesh.cc} {2022, 0}   \n",
       "OpenMP_Sync_Region_Barrier CalcPressureForElems...  {/home/nchaimov/LULESH/lulesh.cc} {2022, 0}   \n",
       "OpenMP_Parallel_Region CalcPressureForElems [{/...  {/home/nchaimov/LULESH/lulesh.cc} {2029, 0}   \n",
       "OpenMP_Sync_Region_Barrier CalcPressureForElems...  {/home/nchaimov/LULESH/lulesh.cc} {2029, 0}   \n",
       "...                                                                                         ...   \n",
       "[SAMPLE] Domain::nodeElemCount(int) [{/home/nch...       {/home/nchaimov/LULESH/lulesh.h} {369}   \n",
       "OpenMP_Implicit_Task  => [CONTEXT] OpenMP_Impli...       {/home/nchaimov/LULESH/lulesh.h} {369}   \n",
       "OpenMP_Parallel_Region CalcHourglassControlForE...                                       {} {0}   \n",
       "OpenMP_Parallel_Region CalcHourglassControlForE...                                       {} {0}   \n",
       ".TAU application                                                                           None   \n",
       "\n",
       "                                                   Timer Type  \n",
       "Timer                                                          \n",
       "OpenMP_Implicit_Task                                     None  \n",
       "OpenMP_Parallel_Region CalcPressureForElems [{/...       None  \n",
       "OpenMP_Sync_Region_Barrier CalcPressureForElems...       None  \n",
       "OpenMP_Parallel_Region CalcPressureForElems [{/...       None  \n",
       "OpenMP_Sync_Region_Barrier CalcPressureForElems...       None  \n",
       "...                                                       ...  \n",
       "[SAMPLE] Domain::nodeElemCount(int) [{/home/nch...     SAMPLE  \n",
       "OpenMP_Implicit_Task  => [CONTEXT] OpenMP_Impli...       None  \n",
       "OpenMP_Parallel_Region CalcHourglassControlForE...       None  \n",
       "OpenMP_Parallel_Region CalcHourglassControlForE...       None  \n",
       ".TAU application                                         None  \n",
       "\n",
       "[1423 rows x 9 columns]"
      ]
     },
     "execution_count": 74,
     "metadata": {},
     "output_type": "execute_result"
    }
   ],
   "source": [
    "lulesh_data.interval_data().loc[0,0,0].sort_values('Calls', ascending=False)"
   ]
  },
  {
   "cell_type": "markdown",
   "metadata": {},
   "source": [
    "## Sunburst chart\n",
    "\n",
    "The data to create a sunburst chart is within the timers that are in TAU_CALLPATH group. These timers specify callpaths, where calls are seperated by ' => '. We create a new dataframe. We split them by ' => ' and add a new column for each call in the dataframe. Since the depth of the call path might be different for each timer, we expand dataframe as deep as the deepest callpath, and assing \"\" for empty calls."
   ]
  },
  {
   "cell_type": "code",
   "execution_count": 75,
   "metadata": {},
   "outputs": [],
   "source": [
    "node, context, thread = 0, 0, 0\n",
    "col_name = 'Exclusive'\n",
    "TOP_N = 10"
   ]
  },
  {
   "cell_type": "code",
   "execution_count": 76,
   "metadata": {},
   "outputs": [
    {
     "name": "stderr",
     "output_type": "stream",
     "text": [
      "/Users/parsabagheri/miniconda3/lib/python3.7/site-packages/ipykernel_launcher.py:10: DeprecationWarning:\n",
      "\n",
      "The default dtype for empty Series will be 'object' instead of 'float64' in a future version. Specify a dtype explicitly to silence this warning.\n",
      "\n",
      "/Users/parsabagheri/miniconda3/lib/python3.7/site-packages/ipykernel_launcher.py:20: DeprecationWarning:\n",
      "\n",
      "The default dtype for empty Series will be 'object' instead of 'float64' in a future version. Specify a dtype explicitly to silence this warning.\n",
      "\n"
     ]
    },
    {
     "data": {
      "text/html": [
       "<div>\n",
       "<style scoped>\n",
       "    .dataframe tbody tr th:only-of-type {\n",
       "        vertical-align: middle;\n",
       "    }\n",
       "\n",
       "    .dataframe tbody tr th {\n",
       "        vertical-align: top;\n",
       "    }\n",
       "\n",
       "    .dataframe thead th {\n",
       "        text-align: right;\n",
       "    }\n",
       "</style>\n",
       "<table border=\"1\" class=\"dataframe\">\n",
       "  <thead>\n",
       "    <tr style=\"text-align: right;\">\n",
       "      <th></th>\n",
       "      <th>Exclusive</th>\n",
       "      <th>0</th>\n",
       "      <th>1</th>\n",
       "      <th>2</th>\n",
       "    </tr>\n",
       "  </thead>\n",
       "  <tbody>\n",
       "    <tr>\n",
       "      <th>OpenMP_Sync_Region_Barrier EvalEOSForElems(Domain&amp;, double*, int, int*, int) [clone ._omp_fn.17] [{/home/nchaimov/LULESH/lulesh.cc} {2263, 0}]   =&gt; [CONTEXT] OpenMP_Sync_Region_Barrier EvalEOSForElems(Domain&amp;, double*, int, int*, int) [clone ._omp_fn.17] [{/home/nchaimov/LULESH/lulesh.cc} {2263, 0}]   =&gt; [SAMPLE] __kmp_barrier [{} {0}]</th>\n",
       "      <td>390817</td>\n",
       "      <td>OpenMP_Sync_Region_Barrier EvalEOSForElems(Dom...</td>\n",
       "      <td>[CONTEXT] OpenMP_Sync_Region_Barrier EvalEOSFo...</td>\n",
       "      <td>[SAMPLE] __kmp_barrier [{} {0}]</td>\n",
       "    </tr>\n",
       "    <tr>\n",
       "      <th>OpenMP_Implicit_Task  =&gt; [CONTEXT] OpenMP_Implicit_Task  =&gt; [SAMPLE] CalcPressureForElems(double*, double*, double*, double*, double*, double*, double, double, double, int, int*) [clone ._omp_fn.24] [{/home/nchaimov/LULESH/lulesh.cc} {2025}]</th>\n",
       "      <td>351733</td>\n",
       "      <td>OpenMP_Implicit_Task</td>\n",
       "      <td>[CONTEXT] OpenMP_Implicit_Task</td>\n",
       "      <td>[SAMPLE] CalcPressureForElems(double*, double*...</td>\n",
       "    </tr>\n",
       "    <tr>\n",
       "      <th>OpenMP_Sync_Region_Barrier CalcPressureForElems [{/home/nchaimov/LULESH/lulesh.cc} {2022, 0}]   =&gt; [CONTEXT] OpenMP_Sync_Region_Barrier CalcPressureForElems [{/home/nchaimov/LULESH/lulesh.cc} {2022, 0}]   =&gt; [SAMPLE] __kmp_join_barrier(int) [{} {0}]</th>\n",
       "      <td>325849</td>\n",
       "      <td>OpenMP_Sync_Region_Barrier CalcPressureForElem...</td>\n",
       "      <td>[CONTEXT] OpenMP_Sync_Region_Barrier CalcPress...</td>\n",
       "      <td>[SAMPLE] __kmp_join_barrier(int) [{} {0}]</td>\n",
       "    </tr>\n",
       "    <tr>\n",
       "      <th>.TAU application  =&gt; [CONTEXT] .TAU application  =&gt; [SAMPLE] __brk [{} {0}]</th>\n",
       "      <td>317313</td>\n",
       "      <td>.TAU application</td>\n",
       "      <td>[CONTEXT] .TAU application</td>\n",
       "      <td>[SAMPLE] __brk [{} {0}]</td>\n",
       "    </tr>\n",
       "    <tr>\n",
       "      <th>OpenMP_Sync_Region_Barrier CalcPressureForElems [{/home/nchaimov/LULESH/lulesh.cc} {2029, 0}]   =&gt; [CONTEXT] OpenMP_Sync_Region_Barrier CalcPressureForElems [{/home/nchaimov/LULESH/lulesh.cc} {2029, 0}]   =&gt; [SAMPLE] __kmp_join_barrier(int) [{} {0}]</th>\n",
       "      <td>279942</td>\n",
       "      <td>OpenMP_Sync_Region_Barrier CalcPressureForElem...</td>\n",
       "      <td>[CONTEXT] OpenMP_Sync_Region_Barrier CalcPress...</td>\n",
       "      <td>[SAMPLE] __kmp_join_barrier(int) [{} {0}]</td>\n",
       "    </tr>\n",
       "    <tr>\n",
       "      <th>OpenMP_Sync_Region_Barrier CalcHydroConstraintForElems(Domain&amp;, int, int*, double, double&amp;) [clone ._omp_fn.29] [{/home/nchaimov/LULESH/lulesh.cc} {2556, 0}]   =&gt; [CONTEXT] OpenMP_Sync_Region_Barrier CalcHydroConstraintForElems(Domain&amp;, int, int*, double, double&amp;) [clone ._omp_fn.29] [{/home/nchaimov/LULESH/lulesh.cc} {2556, 0}]   =&gt; [SAMPLE] __kmp_barrier [{} {0}]</th>\n",
       "      <td>247161</td>\n",
       "      <td>OpenMP_Sync_Region_Barrier CalcHydroConstraint...</td>\n",
       "      <td>[CONTEXT] OpenMP_Sync_Region_Barrier CalcHydro...</td>\n",
       "      <td>[SAMPLE] __kmp_barrier [{} {0}]</td>\n",
       "    </tr>\n",
       "    <tr>\n",
       "      <th>OpenMP_Sync_Region_Barrier CalcCourantConstraintForElems(Domain&amp;, int, int*, double, double&amp;) [clone ._omp_fn.28] [{/home/nchaimov/LULESH/lulesh.cc} {2496, 0}]   =&gt; [CONTEXT] OpenMP_Sync_Region_Barrier CalcCourantConstraintForElems(Domain&amp;, int, int*, double, double&amp;) [clone ._omp_fn.28] [{/home/nchaimov/LULESH/lulesh.cc} {2496, 0}]   =&gt; [SAMPLE] __kmp_barrier [{} {0}]</th>\n",
       "      <td>212987</td>\n",
       "      <td>OpenMP_Sync_Region_Barrier CalcCourantConstrai...</td>\n",
       "      <td>[CONTEXT] OpenMP_Sync_Region_Barrier CalcCoura...</td>\n",
       "      <td>[SAMPLE] __kmp_barrier [{} {0}]</td>\n",
       "    </tr>\n",
       "    <tr>\n",
       "      <th>OpenMP_Implicit_Task  =&gt; [CONTEXT] OpenMP_Implicit_Task  =&gt; [SAMPLE] CalcPressureForElems(double*, double*, double*, double*, double*, double*, double, double, double, int, int*) [clone ._omp_fn.24] [{/home/nchaimov/LULESH/lulesh.cc} {2026}]</th>\n",
       "      <td>208637</td>\n",
       "      <td>OpenMP_Implicit_Task</td>\n",
       "      <td>[CONTEXT] OpenMP_Implicit_Task</td>\n",
       "      <td>[SAMPLE] CalcPressureForElems(double*, double*...</td>\n",
       "    </tr>\n",
       "    <tr>\n",
       "      <th>.TAU application  =&gt; [CONTEXT] .TAU application  =&gt; [SAMPLE] __read_nocancel [{} {0}]</th>\n",
       "      <td>205056</td>\n",
       "      <td>.TAU application</td>\n",
       "      <td>[CONTEXT] .TAU application</td>\n",
       "      <td>[SAMPLE] __read_nocancel [{} {0}]</td>\n",
       "    </tr>\n",
       "    <tr>\n",
       "      <th>OpenMP_Implicit_Task  =&gt; [CONTEXT] OpenMP_Implicit_Task  =&gt; [SAMPLE] EvalEOSForElems(Domain&amp;, double*, int, int*, int) [clone ._omp_fn.17] [{/home/nchaimov/LULESH/lulesh.cc} {2249}]</th>\n",
       "      <td>196939</td>\n",
       "      <td>OpenMP_Implicit_Task</td>\n",
       "      <td>[CONTEXT] OpenMP_Implicit_Task</td>\n",
       "      <td>[SAMPLE] EvalEOSForElems(Domain&amp;, double*, int...</td>\n",
       "    </tr>\n",
       "    <tr>\n",
       "      <th>Others</th>\n",
       "      <td>9718671</td>\n",
       "      <td></td>\n",
       "      <td></td>\n",
       "      <td></td>\n",
       "    </tr>\n",
       "  </tbody>\n",
       "</table>\n",
       "</div>"
      ],
      "text/plain": [
       "                                                   Exclusive  \\\n",
       "OpenMP_Sync_Region_Barrier EvalEOSForElems(Doma...    390817   \n",
       "OpenMP_Implicit_Task  => [CONTEXT] OpenMP_Impli...    351733   \n",
       "OpenMP_Sync_Region_Barrier CalcPressureForElems...    325849   \n",
       ".TAU application  => [CONTEXT] .TAU application...    317313   \n",
       "OpenMP_Sync_Region_Barrier CalcPressureForElems...    279942   \n",
       "OpenMP_Sync_Region_Barrier CalcHydroConstraintF...    247161   \n",
       "OpenMP_Sync_Region_Barrier CalcCourantConstrain...    212987   \n",
       "OpenMP_Implicit_Task  => [CONTEXT] OpenMP_Impli...    208637   \n",
       ".TAU application  => [CONTEXT] .TAU application...    205056   \n",
       "OpenMP_Implicit_Task  => [CONTEXT] OpenMP_Impli...    196939   \n",
       "Others                                               9718671   \n",
       "\n",
       "                                                                                                    0  \\\n",
       "OpenMP_Sync_Region_Barrier EvalEOSForElems(Doma...  OpenMP_Sync_Region_Barrier EvalEOSForElems(Dom...   \n",
       "OpenMP_Implicit_Task  => [CONTEXT] OpenMP_Impli...                               OpenMP_Implicit_Task   \n",
       "OpenMP_Sync_Region_Barrier CalcPressureForElems...  OpenMP_Sync_Region_Barrier CalcPressureForElem...   \n",
       ".TAU application  => [CONTEXT] .TAU application...                                   .TAU application   \n",
       "OpenMP_Sync_Region_Barrier CalcPressureForElems...  OpenMP_Sync_Region_Barrier CalcPressureForElem...   \n",
       "OpenMP_Sync_Region_Barrier CalcHydroConstraintF...  OpenMP_Sync_Region_Barrier CalcHydroConstraint...   \n",
       "OpenMP_Sync_Region_Barrier CalcCourantConstrain...  OpenMP_Sync_Region_Barrier CalcCourantConstrai...   \n",
       "OpenMP_Implicit_Task  => [CONTEXT] OpenMP_Impli...                               OpenMP_Implicit_Task   \n",
       ".TAU application  => [CONTEXT] .TAU application...                                   .TAU application   \n",
       "OpenMP_Implicit_Task  => [CONTEXT] OpenMP_Impli...                               OpenMP_Implicit_Task   \n",
       "Others                                                                                                  \n",
       "\n",
       "                                                                                                    1  \\\n",
       "OpenMP_Sync_Region_Barrier EvalEOSForElems(Doma...  [CONTEXT] OpenMP_Sync_Region_Barrier EvalEOSFo...   \n",
       "OpenMP_Implicit_Task  => [CONTEXT] OpenMP_Impli...                     [CONTEXT] OpenMP_Implicit_Task   \n",
       "OpenMP_Sync_Region_Barrier CalcPressureForElems...  [CONTEXT] OpenMP_Sync_Region_Barrier CalcPress...   \n",
       ".TAU application  => [CONTEXT] .TAU application...                         [CONTEXT] .TAU application   \n",
       "OpenMP_Sync_Region_Barrier CalcPressureForElems...  [CONTEXT] OpenMP_Sync_Region_Barrier CalcPress...   \n",
       "OpenMP_Sync_Region_Barrier CalcHydroConstraintF...  [CONTEXT] OpenMP_Sync_Region_Barrier CalcHydro...   \n",
       "OpenMP_Sync_Region_Barrier CalcCourantConstrain...  [CONTEXT] OpenMP_Sync_Region_Barrier CalcCoura...   \n",
       "OpenMP_Implicit_Task  => [CONTEXT] OpenMP_Impli...                     [CONTEXT] OpenMP_Implicit_Task   \n",
       ".TAU application  => [CONTEXT] .TAU application...                         [CONTEXT] .TAU application   \n",
       "OpenMP_Implicit_Task  => [CONTEXT] OpenMP_Impli...                     [CONTEXT] OpenMP_Implicit_Task   \n",
       "Others                                                                                                  \n",
       "\n",
       "                                                                                                    2  \n",
       "OpenMP_Sync_Region_Barrier EvalEOSForElems(Doma...                    [SAMPLE] __kmp_barrier [{} {0}]  \n",
       "OpenMP_Implicit_Task  => [CONTEXT] OpenMP_Impli...  [SAMPLE] CalcPressureForElems(double*, double*...  \n",
       "OpenMP_Sync_Region_Barrier CalcPressureForElems...          [SAMPLE] __kmp_join_barrier(int) [{} {0}]  \n",
       ".TAU application  => [CONTEXT] .TAU application...                            [SAMPLE] __brk [{} {0}]  \n",
       "OpenMP_Sync_Region_Barrier CalcPressureForElems...          [SAMPLE] __kmp_join_barrier(int) [{} {0}]  \n",
       "OpenMP_Sync_Region_Barrier CalcHydroConstraintF...                    [SAMPLE] __kmp_barrier [{} {0}]  \n",
       "OpenMP_Sync_Region_Barrier CalcCourantConstrain...                    [SAMPLE] __kmp_barrier [{} {0}]  \n",
       "OpenMP_Implicit_Task  => [CONTEXT] OpenMP_Impli...  [SAMPLE] CalcPressureForElems(double*, double*...  \n",
       ".TAU application  => [CONTEXT] .TAU application...                  [SAMPLE] __read_nocancel [{} {0}]  \n",
       "OpenMP_Implicit_Task  => [CONTEXT] OpenMP_Impli...  [SAMPLE] EvalEOSForElems(Domain&, double*, int...  \n",
       "Others                                                                                                 "
      ]
     },
     "execution_count": 76,
     "metadata": {},
     "output_type": "execute_result"
    }
   ],
   "source": [
    "data = lulesh_data.interval_data()\n",
    "\n",
    "#keeping only the call-path names\n",
    "data = data.loc[data[\"Group\"].str.contains(\"TAU_CALLPATH\")]         \n",
    "data = data.loc[node, context, thread][[col_name]] \n",
    "sorted_data = data.sort_values(by=[col_name], ascending=False)\n",
    "\n",
    "# everything below the 'TOP_N'\n",
    "others = pd.DataFrame(sorted_data[TOP_N:].sum()).transpose()       \n",
    "truncated = pd.concat([sorted_data[:TOP_N], pd.Series(name='Others')], copy=False)\n",
    "\n",
    "# adding the index, which is the callpath, as a column\n",
    "truncated['Timer'] = truncated.index            \n",
    "\n",
    "# seperating the calls in the callpath, adding the seperated calls back to main df\n",
    "tmp = truncated['Timer'].str.split(\"  => \",expand=True) \n",
    "truncated[list(tmp.columns)] = tmp \n",
    "truncated = truncated.drop(columns=[\"Timer\"]) # we no longer need the callpath timer\n",
    "\n",
    "truncated = truncated.append(pd.Series(name='Others'))\n",
    "truncated = truncated.fillna(\"\")\n",
    "others_val = others[col_name].values[0]\n",
    "truncated.loc['Others', col_name] = others_val\n",
    "\n",
    "sunburst_data = truncated\n",
    "sunburst_data"
   ]
  },
  {
   "cell_type": "code",
   "execution_count": 77,
   "metadata": {},
   "outputs": [
    {
     "data": {
      "text/html": [
       "<div>\n",
       "<style scoped>\n",
       "    .dataframe tbody tr th:only-of-type {\n",
       "        vertical-align: middle;\n",
       "    }\n",
       "\n",
       "    .dataframe tbody tr th {\n",
       "        vertical-align: top;\n",
       "    }\n",
       "\n",
       "    .dataframe thead th {\n",
       "        text-align: right;\n",
       "    }\n",
       "</style>\n",
       "<table border=\"1\" class=\"dataframe\">\n",
       "  <thead>\n",
       "    <tr style=\"text-align: right;\">\n",
       "      <th></th>\n",
       "      <th>Exclusive</th>\n",
       "    </tr>\n",
       "    <tr>\n",
       "      <th>Timer</th>\n",
       "      <th></th>\n",
       "    </tr>\n",
       "  </thead>\n",
       "  <tbody>\n",
       "    <tr>\n",
       "      <th>OpenMP_Implicit_Task</th>\n",
       "      <td>7493651</td>\n",
       "    </tr>\n",
       "    <tr>\n",
       "      <th>OpenMP_Parallel_Region CalcPressureForElems [{/home/nchaimov/LULESH/lulesh.cc} {2022, 0}]</th>\n",
       "      <td>218060</td>\n",
       "    </tr>\n",
       "    <tr>\n",
       "      <th>OpenMP_Sync_Region_Barrier CalcPressureForElems [{/home/nchaimov/LULESH/lulesh.cc} {2022, 0}]</th>\n",
       "      <td>291080</td>\n",
       "    </tr>\n",
       "    <tr>\n",
       "      <th>OpenMP_Parallel_Region CalcPressureForElems [{/home/nchaimov/LULESH/lulesh.cc} {2029, 0}]</th>\n",
       "      <td>210603</td>\n",
       "    </tr>\n",
       "    <tr>\n",
       "      <th>OpenMP_Sync_Region_Barrier CalcPressureForElems [{/home/nchaimov/LULESH/lulesh.cc} {2029, 0}]</th>\n",
       "      <td>300433</td>\n",
       "    </tr>\n",
       "    <tr>\n",
       "      <th>...</th>\n",
       "      <td>...</td>\n",
       "    </tr>\n",
       "    <tr>\n",
       "      <th>[SAMPLE] CalcFBHourglassForceForElems(Domain&amp;, double*, double*, double*, double*, double*, double*, double*, double, int, int) [clone ._omp_fn.7] [{/home/nchaimov/LULESH/lulesh.cc} {833}]</th>\n",
       "      <td>2001</td>\n",
       "    </tr>\n",
       "    <tr>\n",
       "      <th>[SAMPLE] CalcLagrangeElements(Domain&amp;) [clone ._omp_fn.13] [{/home/nchaimov/LULESH/lulesh.cc} {1594}]</th>\n",
       "      <td>1000</td>\n",
       "    </tr>\n",
       "    <tr>\n",
       "      <th>[SAMPLE] CalcVelocityForNodes(Domain&amp;, double, double, int) [clone ._omp_fn.11] [{/home/nchaimov/LULESH/lulesh.cc} {1199}]</th>\n",
       "      <td>1001</td>\n",
       "    </tr>\n",
       "    <tr>\n",
       "      <th>[SAMPLE] Domain::nodeElemCount(int) [{/home/nchaimov/LULESH/lulesh.h} {369}]</th>\n",
       "      <td>2001</td>\n",
       "    </tr>\n",
       "    <tr>\n",
       "      <th>.TAU application</th>\n",
       "      <td>1396259</td>\n",
       "    </tr>\n",
       "  </tbody>\n",
       "</table>\n",
       "<p>647 rows × 1 columns</p>\n",
       "</div>"
      ],
      "text/plain": [
       "                                                    Exclusive\n",
       "Timer                                                        \n",
       "OpenMP_Implicit_Task                                  7493651\n",
       "OpenMP_Parallel_Region CalcPressureForElems [{/...     218060\n",
       "OpenMP_Sync_Region_Barrier CalcPressureForElems...     291080\n",
       "OpenMP_Parallel_Region CalcPressureForElems [{/...     210603\n",
       "OpenMP_Sync_Region_Barrier CalcPressureForElems...     300433\n",
       "...                                                       ...\n",
       "[SAMPLE] CalcFBHourglassForceForElems(Domain&, ...       2001\n",
       "[SAMPLE] CalcLagrangeElements(Domain&) [clone ....       1000\n",
       "[SAMPLE] CalcVelocityForNodes(Domain&, double, ...       1001\n",
       "[SAMPLE] Domain::nodeElemCount(int) [{/home/nch...       2001\n",
       ".TAU application                                      1396259\n",
       "\n",
       "[647 rows x 1 columns]"
      ]
     },
     "execution_count": 77,
     "metadata": {},
     "output_type": "execute_result"
    }
   ],
   "source": [
    "# we also keep track of each individual call(not in TAU_CALLPATH)\n",
    "timer_data = lulesh_data.interval_data().loc[node, context, thread].sort_values('Calls', ascending=False)\n",
    "timer_data = timer_data.loc[~timer_data[\"Group\"].str.contains(\"TAU_CALLPATH\")].loc[:,[col_name]]\n",
    "\n",
    "# some indices have trailing white spaces, we remove the white spaces\n",
    "timer_data.index = timer_data.index.map(str.strip)\n",
    "timer_data"
   ]
  },
  {
   "cell_type": "code",
   "execution_count": 78,
   "metadata": {},
   "outputs": [],
   "source": [
    "levels = []\n",
    "for i in sunburst_data.columns[1:]:\n",
    "    level = truncated.loc[:,i].values.tolist()\n",
    "    level = [l.strip() for l in level]\n",
    "    levels.append(level)"
   ]
  },
  {
   "cell_type": "code",
   "execution_count": 79,
   "metadata": {},
   "outputs": [],
   "source": [
    "def remove_white_space(level):\n",
    "    l = level.copy()\n",
    "    i = 0\n",
    "    while i in range(len(l)):\n",
    "        if l[i] == '':\n",
    "            l.pop(i)\n",
    "        else:\n",
    "            i += 1\n",
    "    return l\n",
    "\n",
    "for i in range(len(levels)):\n",
    "    levels[i] = remove_white_space(levels[i])"
   ]
  },
  {
   "cell_type": "markdown",
   "metadata": {},
   "source": [
    "'go.Sunburst', the plotly module that we're using, expects 2 lists of parents and labels. These lists have to have the same length, labels list has to contain every label that we're going to show in out sunburst chart, and parents list contains the label of the parent of each label. If a label doesn't have a parent, then we need to assign a ''(empty string) as it's parent.  \n",
    "for example:  \n",
    "labels = ['a', 'b', 'c', 'd']  \n",
    "parents = ['', 'a', 'a', 'b']  \n",
    "here a is the root, and has children b and c; and b has d as it's child"
   ]
  },
  {
   "cell_type": "code",
   "execution_count": 80,
   "metadata": {},
   "outputs": [],
   "source": [
    "def make_parents_and_labels(args):\n",
    "    parents = []\n",
    "    labels = []\n",
    "    argc = len(args)\n",
    "    for i in range(argc):\n",
    "        level = args[i]\n",
    "        for j in range(len(level)):\n",
    "            if i == 0: # first level (root), no parent\n",
    "                parents.append('')\n",
    "            \n",
    "            else:\n",
    "                parent = args[i-1]\n",
    "                parents.append(parent[j])\n",
    "                \n",
    "            labels.append(level[j])\n",
    "                \n",
    "    return parents, labels\n",
    "\n",
    "parents, labels = make_parents_and_labels(levels)"
   ]
  },
  {
   "cell_type": "markdown",
   "metadata": {},
   "source": [
    "Plotly doesn't expect duplicates, if we are giving it duplicates, we have to also give each duplicate an id. \n",
    "Plotly is a little finicky with these ids. Empirically I have found that the ids have to have the same name as the labels, but the duplicate labels, have to have a unique extension of sorts to the original name of the label for their ids.  For example if in our lables list we have [\"OpenMP_Implicit_Task\", \"OpenMP_Implicit_Task\"], their ids need to be in this form [\"OpenMP_Implicit_Task\", \"OpenMP_Implicit_Task - < unique-extension >\"]"
   ]
  },
  {
   "cell_type": "code",
   "execution_count": 81,
   "metadata": {},
   "outputs": [],
   "source": [
    "def find_dups(l):\n",
    "    m = {}\n",
    "    ids = []\n",
    "    for i in l:\n",
    "        if i in m:\n",
    "            m[i] += 1\n",
    "            ids.append('{} - {}th'.format(i, m[i]))\n",
    "        else:\n",
    "            if i != \"\":\n",
    "                m[i] = 1\n",
    "            ids.append(i)\n",
    "    return ids\n",
    "\n",
    "ids = []\n",
    "for level in levels:\n",
    "    ids += level       # initially we give the ids the same name as labels\n",
    "    \n",
    "ids = find_dups(ids)   # then we assign unique id to each duplicate"
   ]
  },
  {
   "cell_type": "code",
   "execution_count": 82,
   "metadata": {},
   "outputs": [],
   "source": [
    "values = []\n",
    "for i in labels:\n",
    "    if i in timer_data.index:\n",
    "        values.append(timer_data.loc[i, col_name])\n",
    "    else:\n",
    "        print(\"no such index {}\".format(i))"
   ]
  },
  {
   "cell_type": "markdown",
   "metadata": {},
   "source": [
    "Now appending the \"Others\" value."
   ]
  },
  {
   "cell_type": "code",
   "execution_count": 83,
   "metadata": {},
   "outputs": [],
   "source": [
    "def add_others(ids, labels, values, parents):\n",
    "    def copy(ids, labels, values, parents):\n",
    "        return (ids.copy(), labels.copy(), values.copy(), parents.copy())\n",
    "    \n",
    "    ids, labels, values, parents = copy(ids, labels, values, parents)\n",
    "    ids.append('Others'), \n",
    "    labels.append('Others'), \n",
    "    values.append(sunburst_data.loc['Others', col_name]), \n",
    "    parents.append('')\n",
    "    return ids, labels, values, parents\n",
    "\n",
    "ids, labels, values, parents = add_others(ids, labels, values, parents)"
   ]
  },
  {
   "cell_type": "markdown",
   "metadata": {},
   "source": [
    "Finally, before drawing the chart, we need to make sure the length of these lists are all the same."
   ]
  },
  {
   "cell_type": "code",
   "execution_count": 84,
   "metadata": {},
   "outputs": [],
   "source": [
    "assert(len(values) == len(ids) == len(labels) == len(parents))"
   ]
  },
  {
   "cell_type": "code",
   "execution_count": 85,
   "metadata": {},
   "outputs": [
    {
     "data": {
      "application/vnd.plotly.v1+json": {
       "config": {
        "plotlyServerURL": "https://plot.ly"
       },
       "data": [
        {
         "ids": [
          "OpenMP_Sync_Region_Barrier EvalEOSForElems(Domain&, double*, int, int*, int) [clone ._omp_fn.17] [{/home/nchaimov/LULESH/lulesh.cc} {2263, 0}]",
          "OpenMP_Implicit_Task",
          "OpenMP_Sync_Region_Barrier CalcPressureForElems [{/home/nchaimov/LULESH/lulesh.cc} {2022, 0}]",
          ".TAU application",
          "OpenMP_Sync_Region_Barrier CalcPressureForElems [{/home/nchaimov/LULESH/lulesh.cc} {2029, 0}]",
          "OpenMP_Sync_Region_Barrier CalcHydroConstraintForElems(Domain&, int, int*, double, double&) [clone ._omp_fn.29] [{/home/nchaimov/LULESH/lulesh.cc} {2556, 0}]",
          "OpenMP_Sync_Region_Barrier CalcCourantConstraintForElems(Domain&, int, int*, double, double&) [clone ._omp_fn.28] [{/home/nchaimov/LULESH/lulesh.cc} {2496, 0}]",
          "OpenMP_Implicit_Task - 2th",
          ".TAU application - 2th",
          "OpenMP_Implicit_Task - 3th",
          "[CONTEXT] OpenMP_Sync_Region_Barrier EvalEOSForElems(Domain&, double*, int, int*, int) [clone ._omp_fn.17] [{/home/nchaimov/LULESH/lulesh.cc} {2263, 0}]",
          "[CONTEXT] OpenMP_Implicit_Task",
          "[CONTEXT] OpenMP_Sync_Region_Barrier CalcPressureForElems [{/home/nchaimov/LULESH/lulesh.cc} {2022, 0}]",
          "[CONTEXT] .TAU application",
          "[CONTEXT] OpenMP_Sync_Region_Barrier CalcPressureForElems [{/home/nchaimov/LULESH/lulesh.cc} {2029, 0}]",
          "[CONTEXT] OpenMP_Sync_Region_Barrier CalcHydroConstraintForElems(Domain&, int, int*, double, double&) [clone ._omp_fn.29] [{/home/nchaimov/LULESH/lulesh.cc} {2556, 0}]",
          "[CONTEXT] OpenMP_Sync_Region_Barrier CalcCourantConstraintForElems(Domain&, int, int*, double, double&) [clone ._omp_fn.28] [{/home/nchaimov/LULESH/lulesh.cc} {2496, 0}]",
          "[CONTEXT] OpenMP_Implicit_Task - 2th",
          "[CONTEXT] .TAU application - 2th",
          "[CONTEXT] OpenMP_Implicit_Task - 3th",
          "[SAMPLE] __kmp_barrier [{} {0}]",
          "[SAMPLE] CalcPressureForElems(double*, double*, double*, double*, double*, double*, double, double, double, int, int*) [clone ._omp_fn.24] [{/home/nchaimov/LULESH/lulesh.cc} {2025}]",
          "[SAMPLE] __kmp_join_barrier(int) [{} {0}]",
          "[SAMPLE] __brk [{} {0}]",
          "[SAMPLE] __kmp_join_barrier(int) [{} {0}] - 2th",
          "[SAMPLE] __kmp_barrier [{} {0}] - 2th",
          "[SAMPLE] __kmp_barrier [{} {0}] - 3th",
          "[SAMPLE] CalcPressureForElems(double*, double*, double*, double*, double*, double*, double, double, double, int, int*) [clone ._omp_fn.24] [{/home/nchaimov/LULESH/lulesh.cc} {2026}]",
          "[SAMPLE] __read_nocancel [{} {0}]",
          "[SAMPLE] EvalEOSForElems(Domain&, double*, int, int*, int) [clone ._omp_fn.17] [{/home/nchaimov/LULESH/lulesh.cc} {2249}]",
          "Others"
         ],
         "labels": [
          "OpenMP_Sync_Region_Barrier EvalEOSForElems(Domain&, double*, int, int*, int) [clone ._omp_fn.17] [{/home/nchaimov/LULESH/lulesh.cc} {2263, 0}]",
          "OpenMP_Implicit_Task",
          "OpenMP_Sync_Region_Barrier CalcPressureForElems [{/home/nchaimov/LULESH/lulesh.cc} {2022, 0}]",
          ".TAU application",
          "OpenMP_Sync_Region_Barrier CalcPressureForElems [{/home/nchaimov/LULESH/lulesh.cc} {2029, 0}]",
          "OpenMP_Sync_Region_Barrier CalcHydroConstraintForElems(Domain&, int, int*, double, double&) [clone ._omp_fn.29] [{/home/nchaimov/LULESH/lulesh.cc} {2556, 0}]",
          "OpenMP_Sync_Region_Barrier CalcCourantConstraintForElems(Domain&, int, int*, double, double&) [clone ._omp_fn.28] [{/home/nchaimov/LULESH/lulesh.cc} {2496, 0}]",
          "OpenMP_Implicit_Task",
          ".TAU application",
          "OpenMP_Implicit_Task",
          "[CONTEXT] OpenMP_Sync_Region_Barrier EvalEOSForElems(Domain&, double*, int, int*, int) [clone ._omp_fn.17] [{/home/nchaimov/LULESH/lulesh.cc} {2263, 0}]",
          "[CONTEXT] OpenMP_Implicit_Task",
          "[CONTEXT] OpenMP_Sync_Region_Barrier CalcPressureForElems [{/home/nchaimov/LULESH/lulesh.cc} {2022, 0}]",
          "[CONTEXT] .TAU application",
          "[CONTEXT] OpenMP_Sync_Region_Barrier CalcPressureForElems [{/home/nchaimov/LULESH/lulesh.cc} {2029, 0}]",
          "[CONTEXT] OpenMP_Sync_Region_Barrier CalcHydroConstraintForElems(Domain&, int, int*, double, double&) [clone ._omp_fn.29] [{/home/nchaimov/LULESH/lulesh.cc} {2556, 0}]",
          "[CONTEXT] OpenMP_Sync_Region_Barrier CalcCourantConstraintForElems(Domain&, int, int*, double, double&) [clone ._omp_fn.28] [{/home/nchaimov/LULESH/lulesh.cc} {2496, 0}]",
          "[CONTEXT] OpenMP_Implicit_Task",
          "[CONTEXT] .TAU application",
          "[CONTEXT] OpenMP_Implicit_Task",
          "[SAMPLE] __kmp_barrier [{} {0}]",
          "[SAMPLE] CalcPressureForElems(double*, double*, double*, double*, double*, double*, double, double, double, int, int*) [clone ._omp_fn.24] [{/home/nchaimov/LULESH/lulesh.cc} {2025}]",
          "[SAMPLE] __kmp_join_barrier(int) [{} {0}]",
          "[SAMPLE] __brk [{} {0}]",
          "[SAMPLE] __kmp_join_barrier(int) [{} {0}]",
          "[SAMPLE] __kmp_barrier [{} {0}]",
          "[SAMPLE] __kmp_barrier [{} {0}]",
          "[SAMPLE] CalcPressureForElems(double*, double*, double*, double*, double*, double*, double, double, double, int, int*) [clone ._omp_fn.24] [{/home/nchaimov/LULESH/lulesh.cc} {2026}]",
          "[SAMPLE] __read_nocancel [{} {0}]",
          "[SAMPLE] EvalEOSForElems(Domain&, double*, int, int*, int) [clone ._omp_fn.17] [{/home/nchaimov/LULESH/lulesh.cc} {2249}]",
          "Others"
         ],
         "level": "OpenMP_Implicit_Task",
         "parents": [
          "",
          "",
          "",
          "",
          "",
          "",
          "",
          "",
          "",
          "",
          "OpenMP_Sync_Region_Barrier EvalEOSForElems(Domain&, double*, int, int*, int) [clone ._omp_fn.17] [{/home/nchaimov/LULESH/lulesh.cc} {2263, 0}]",
          "OpenMP_Implicit_Task",
          "OpenMP_Sync_Region_Barrier CalcPressureForElems [{/home/nchaimov/LULESH/lulesh.cc} {2022, 0}]",
          ".TAU application",
          "OpenMP_Sync_Region_Barrier CalcPressureForElems [{/home/nchaimov/LULESH/lulesh.cc} {2029, 0}]",
          "OpenMP_Sync_Region_Barrier CalcHydroConstraintForElems(Domain&, int, int*, double, double&) [clone ._omp_fn.29] [{/home/nchaimov/LULESH/lulesh.cc} {2556, 0}]",
          "OpenMP_Sync_Region_Barrier CalcCourantConstraintForElems(Domain&, int, int*, double, double&) [clone ._omp_fn.28] [{/home/nchaimov/LULESH/lulesh.cc} {2496, 0}]",
          "OpenMP_Implicit_Task",
          ".TAU application",
          "OpenMP_Implicit_Task",
          "[CONTEXT] OpenMP_Sync_Region_Barrier EvalEOSForElems(Domain&, double*, int, int*, int) [clone ._omp_fn.17] [{/home/nchaimov/LULESH/lulesh.cc} {2263, 0}]",
          "[CONTEXT] OpenMP_Implicit_Task",
          "[CONTEXT] OpenMP_Sync_Region_Barrier CalcPressureForElems [{/home/nchaimov/LULESH/lulesh.cc} {2022, 0}]",
          "[CONTEXT] .TAU application",
          "[CONTEXT] OpenMP_Sync_Region_Barrier CalcPressureForElems [{/home/nchaimov/LULESH/lulesh.cc} {2029, 0}]",
          "[CONTEXT] OpenMP_Sync_Region_Barrier CalcHydroConstraintForElems(Domain&, int, int*, double, double&) [clone ._omp_fn.29] [{/home/nchaimov/LULESH/lulesh.cc} {2556, 0}]",
          "[CONTEXT] OpenMP_Sync_Region_Barrier CalcCourantConstraintForElems(Domain&, int, int*, double, double&) [clone ._omp_fn.28] [{/home/nchaimov/LULESH/lulesh.cc} {2496, 0}]",
          "[CONTEXT] OpenMP_Implicit_Task",
          "[CONTEXT] .TAU application",
          "[CONTEXT] OpenMP_Implicit_Task",
          ""
         ],
         "type": "sunburst",
         "values": [
          503149,
          7493651,
          291080,
          1396259,
          300433,
          247060,
          225720,
          7493651,
          1396259,
          7493651,
          0,
          0,
          0,
          0,
          0,
          0,
          0,
          0,
          0,
          0,
          872236,
          351733,
          1541796,
          317313,
          1541796,
          872236,
          872236,
          208637,
          205056,
          196939,
          9718671
         ]
        }
       ],
       "layout": {
        "autosize": true,
        "margin": {
         "b": 0,
         "l": 0,
         "r": 0,
         "t": 0
        },
        "template": {
         "data": {
          "bar": [
           {
            "error_x": {
             "color": "#2a3f5f"
            },
            "error_y": {
             "color": "#2a3f5f"
            },
            "marker": {
             "line": {
              "color": "#E5ECF6",
              "width": 0.5
             }
            },
            "type": "bar"
           }
          ],
          "barpolar": [
           {
            "marker": {
             "line": {
              "color": "#E5ECF6",
              "width": 0.5
             }
            },
            "type": "barpolar"
           }
          ],
          "carpet": [
           {
            "aaxis": {
             "endlinecolor": "#2a3f5f",
             "gridcolor": "white",
             "linecolor": "white",
             "minorgridcolor": "white",
             "startlinecolor": "#2a3f5f"
            },
            "baxis": {
             "endlinecolor": "#2a3f5f",
             "gridcolor": "white",
             "linecolor": "white",
             "minorgridcolor": "white",
             "startlinecolor": "#2a3f5f"
            },
            "type": "carpet"
           }
          ],
          "choropleth": [
           {
            "colorbar": {
             "outlinewidth": 0,
             "ticks": ""
            },
            "type": "choropleth"
           }
          ],
          "contour": [
           {
            "colorbar": {
             "outlinewidth": 0,
             "ticks": ""
            },
            "colorscale": [
             [
              0,
              "#0d0887"
             ],
             [
              0.1111111111111111,
              "#46039f"
             ],
             [
              0.2222222222222222,
              "#7201a8"
             ],
             [
              0.3333333333333333,
              "#9c179e"
             ],
             [
              0.4444444444444444,
              "#bd3786"
             ],
             [
              0.5555555555555556,
              "#d8576b"
             ],
             [
              0.6666666666666666,
              "#ed7953"
             ],
             [
              0.7777777777777778,
              "#fb9f3a"
             ],
             [
              0.8888888888888888,
              "#fdca26"
             ],
             [
              1,
              "#f0f921"
             ]
            ],
            "type": "contour"
           }
          ],
          "contourcarpet": [
           {
            "colorbar": {
             "outlinewidth": 0,
             "ticks": ""
            },
            "type": "contourcarpet"
           }
          ],
          "heatmap": [
           {
            "colorbar": {
             "outlinewidth": 0,
             "ticks": ""
            },
            "colorscale": [
             [
              0,
              "#0d0887"
             ],
             [
              0.1111111111111111,
              "#46039f"
             ],
             [
              0.2222222222222222,
              "#7201a8"
             ],
             [
              0.3333333333333333,
              "#9c179e"
             ],
             [
              0.4444444444444444,
              "#bd3786"
             ],
             [
              0.5555555555555556,
              "#d8576b"
             ],
             [
              0.6666666666666666,
              "#ed7953"
             ],
             [
              0.7777777777777778,
              "#fb9f3a"
             ],
             [
              0.8888888888888888,
              "#fdca26"
             ],
             [
              1,
              "#f0f921"
             ]
            ],
            "type": "heatmap"
           }
          ],
          "heatmapgl": [
           {
            "colorbar": {
             "outlinewidth": 0,
             "ticks": ""
            },
            "colorscale": [
             [
              0,
              "#0d0887"
             ],
             [
              0.1111111111111111,
              "#46039f"
             ],
             [
              0.2222222222222222,
              "#7201a8"
             ],
             [
              0.3333333333333333,
              "#9c179e"
             ],
             [
              0.4444444444444444,
              "#bd3786"
             ],
             [
              0.5555555555555556,
              "#d8576b"
             ],
             [
              0.6666666666666666,
              "#ed7953"
             ],
             [
              0.7777777777777778,
              "#fb9f3a"
             ],
             [
              0.8888888888888888,
              "#fdca26"
             ],
             [
              1,
              "#f0f921"
             ]
            ],
            "type": "heatmapgl"
           }
          ],
          "histogram": [
           {
            "marker": {
             "colorbar": {
              "outlinewidth": 0,
              "ticks": ""
             }
            },
            "type": "histogram"
           }
          ],
          "histogram2d": [
           {
            "colorbar": {
             "outlinewidth": 0,
             "ticks": ""
            },
            "colorscale": [
             [
              0,
              "#0d0887"
             ],
             [
              0.1111111111111111,
              "#46039f"
             ],
             [
              0.2222222222222222,
              "#7201a8"
             ],
             [
              0.3333333333333333,
              "#9c179e"
             ],
             [
              0.4444444444444444,
              "#bd3786"
             ],
             [
              0.5555555555555556,
              "#d8576b"
             ],
             [
              0.6666666666666666,
              "#ed7953"
             ],
             [
              0.7777777777777778,
              "#fb9f3a"
             ],
             [
              0.8888888888888888,
              "#fdca26"
             ],
             [
              1,
              "#f0f921"
             ]
            ],
            "type": "histogram2d"
           }
          ],
          "histogram2dcontour": [
           {
            "colorbar": {
             "outlinewidth": 0,
             "ticks": ""
            },
            "colorscale": [
             [
              0,
              "#0d0887"
             ],
             [
              0.1111111111111111,
              "#46039f"
             ],
             [
              0.2222222222222222,
              "#7201a8"
             ],
             [
              0.3333333333333333,
              "#9c179e"
             ],
             [
              0.4444444444444444,
              "#bd3786"
             ],
             [
              0.5555555555555556,
              "#d8576b"
             ],
             [
              0.6666666666666666,
              "#ed7953"
             ],
             [
              0.7777777777777778,
              "#fb9f3a"
             ],
             [
              0.8888888888888888,
              "#fdca26"
             ],
             [
              1,
              "#f0f921"
             ]
            ],
            "type": "histogram2dcontour"
           }
          ],
          "mesh3d": [
           {
            "colorbar": {
             "outlinewidth": 0,
             "ticks": ""
            },
            "type": "mesh3d"
           }
          ],
          "parcoords": [
           {
            "line": {
             "colorbar": {
              "outlinewidth": 0,
              "ticks": ""
             }
            },
            "type": "parcoords"
           }
          ],
          "pie": [
           {
            "automargin": true,
            "type": "pie"
           }
          ],
          "scatter": [
           {
            "marker": {
             "colorbar": {
              "outlinewidth": 0,
              "ticks": ""
             }
            },
            "type": "scatter"
           }
          ],
          "scatter3d": [
           {
            "line": {
             "colorbar": {
              "outlinewidth": 0,
              "ticks": ""
             }
            },
            "marker": {
             "colorbar": {
              "outlinewidth": 0,
              "ticks": ""
             }
            },
            "type": "scatter3d"
           }
          ],
          "scattercarpet": [
           {
            "marker": {
             "colorbar": {
              "outlinewidth": 0,
              "ticks": ""
             }
            },
            "type": "scattercarpet"
           }
          ],
          "scattergeo": [
           {
            "marker": {
             "colorbar": {
              "outlinewidth": 0,
              "ticks": ""
             }
            },
            "type": "scattergeo"
           }
          ],
          "scattergl": [
           {
            "marker": {
             "colorbar": {
              "outlinewidth": 0,
              "ticks": ""
             }
            },
            "type": "scattergl"
           }
          ],
          "scattermapbox": [
           {
            "marker": {
             "colorbar": {
              "outlinewidth": 0,
              "ticks": ""
             }
            },
            "type": "scattermapbox"
           }
          ],
          "scatterpolar": [
           {
            "marker": {
             "colorbar": {
              "outlinewidth": 0,
              "ticks": ""
             }
            },
            "type": "scatterpolar"
           }
          ],
          "scatterpolargl": [
           {
            "marker": {
             "colorbar": {
              "outlinewidth": 0,
              "ticks": ""
             }
            },
            "type": "scatterpolargl"
           }
          ],
          "scatterternary": [
           {
            "marker": {
             "colorbar": {
              "outlinewidth": 0,
              "ticks": ""
             }
            },
            "type": "scatterternary"
           }
          ],
          "surface": [
           {
            "colorbar": {
             "outlinewidth": 0,
             "ticks": ""
            },
            "colorscale": [
             [
              0,
              "#0d0887"
             ],
             [
              0.1111111111111111,
              "#46039f"
             ],
             [
              0.2222222222222222,
              "#7201a8"
             ],
             [
              0.3333333333333333,
              "#9c179e"
             ],
             [
              0.4444444444444444,
              "#bd3786"
             ],
             [
              0.5555555555555556,
              "#d8576b"
             ],
             [
              0.6666666666666666,
              "#ed7953"
             ],
             [
              0.7777777777777778,
              "#fb9f3a"
             ],
             [
              0.8888888888888888,
              "#fdca26"
             ],
             [
              1,
              "#f0f921"
             ]
            ],
            "type": "surface"
           }
          ],
          "table": [
           {
            "cells": {
             "fill": {
              "color": "#EBF0F8"
             },
             "line": {
              "color": "white"
             }
            },
            "header": {
             "fill": {
              "color": "#C8D4E3"
             },
             "line": {
              "color": "white"
             }
            },
            "type": "table"
           }
          ]
         },
         "layout": {
          "annotationdefaults": {
           "arrowcolor": "#2a3f5f",
           "arrowhead": 0,
           "arrowwidth": 1
          },
          "coloraxis": {
           "colorbar": {
            "outlinewidth": 0,
            "ticks": ""
           }
          },
          "colorscale": {
           "diverging": [
            [
             0,
             "#8e0152"
            ],
            [
             0.1,
             "#c51b7d"
            ],
            [
             0.2,
             "#de77ae"
            ],
            [
             0.3,
             "#f1b6da"
            ],
            [
             0.4,
             "#fde0ef"
            ],
            [
             0.5,
             "#f7f7f7"
            ],
            [
             0.6,
             "#e6f5d0"
            ],
            [
             0.7,
             "#b8e186"
            ],
            [
             0.8,
             "#7fbc41"
            ],
            [
             0.9,
             "#4d9221"
            ],
            [
             1,
             "#276419"
            ]
           ],
           "sequential": [
            [
             0,
             "#0d0887"
            ],
            [
             0.1111111111111111,
             "#46039f"
            ],
            [
             0.2222222222222222,
             "#7201a8"
            ],
            [
             0.3333333333333333,
             "#9c179e"
            ],
            [
             0.4444444444444444,
             "#bd3786"
            ],
            [
             0.5555555555555556,
             "#d8576b"
            ],
            [
             0.6666666666666666,
             "#ed7953"
            ],
            [
             0.7777777777777778,
             "#fb9f3a"
            ],
            [
             0.8888888888888888,
             "#fdca26"
            ],
            [
             1,
             "#f0f921"
            ]
           ],
           "sequentialminus": [
            [
             0,
             "#0d0887"
            ],
            [
             0.1111111111111111,
             "#46039f"
            ],
            [
             0.2222222222222222,
             "#7201a8"
            ],
            [
             0.3333333333333333,
             "#9c179e"
            ],
            [
             0.4444444444444444,
             "#bd3786"
            ],
            [
             0.5555555555555556,
             "#d8576b"
            ],
            [
             0.6666666666666666,
             "#ed7953"
            ],
            [
             0.7777777777777778,
             "#fb9f3a"
            ],
            [
             0.8888888888888888,
             "#fdca26"
            ],
            [
             1,
             "#f0f921"
            ]
           ]
          },
          "colorway": [
           "#636efa",
           "#EF553B",
           "#00cc96",
           "#ab63fa",
           "#FFA15A",
           "#19d3f3",
           "#FF6692",
           "#B6E880",
           "#FF97FF",
           "#FECB52"
          ],
          "font": {
           "color": "#2a3f5f"
          },
          "geo": {
           "bgcolor": "white",
           "lakecolor": "white",
           "landcolor": "#E5ECF6",
           "showlakes": true,
           "showland": true,
           "subunitcolor": "white"
          },
          "hoverlabel": {
           "align": "left"
          },
          "hovermode": "closest",
          "mapbox": {
           "style": "light"
          },
          "paper_bgcolor": "white",
          "plot_bgcolor": "#E5ECF6",
          "polar": {
           "angularaxis": {
            "gridcolor": "white",
            "linecolor": "white",
            "ticks": ""
           },
           "bgcolor": "#E5ECF6",
           "radialaxis": {
            "gridcolor": "white",
            "linecolor": "white",
            "ticks": ""
           }
          },
          "scene": {
           "xaxis": {
            "backgroundcolor": "#E5ECF6",
            "gridcolor": "white",
            "gridwidth": 2,
            "linecolor": "white",
            "showbackground": true,
            "ticks": "",
            "zerolinecolor": "white"
           },
           "yaxis": {
            "backgroundcolor": "#E5ECF6",
            "gridcolor": "white",
            "gridwidth": 2,
            "linecolor": "white",
            "showbackground": true,
            "ticks": "",
            "zerolinecolor": "white"
           },
           "zaxis": {
            "backgroundcolor": "#E5ECF6",
            "gridcolor": "white",
            "gridwidth": 2,
            "linecolor": "white",
            "showbackground": true,
            "ticks": "",
            "zerolinecolor": "white"
           }
          },
          "shapedefaults": {
           "line": {
            "color": "#2a3f5f"
           }
          },
          "ternary": {
           "aaxis": {
            "gridcolor": "white",
            "linecolor": "white",
            "ticks": ""
           },
           "baxis": {
            "gridcolor": "white",
            "linecolor": "white",
            "ticks": ""
           },
           "bgcolor": "#E5ECF6",
           "caxis": {
            "gridcolor": "white",
            "linecolor": "white",
            "ticks": ""
           }
          },
          "title": {
           "x": 0.05
          },
          "xaxis": {
           "automargin": true,
           "gridcolor": "white",
           "linecolor": "white",
           "ticks": "",
           "title": {
            "standoff": 15
           },
           "zerolinecolor": "white",
           "zerolinewidth": 2
          },
          "yaxis": {
           "automargin": true,
           "gridcolor": "white",
           "linecolor": "white",
           "ticks": "",
           "title": {
            "standoff": 15
           },
           "zerolinecolor": "white",
           "zerolinewidth": 2
          }
         }
        }
       }
      },
      "image/png": "[encoded data removed]",
      "text/html": [
       "<div>\n",
       "        \n",
       "        \n",
       "            <div id=\"16118ca5-d923-4163-a2db-f8a0005d31a9\" class=\"plotly-graph-div\" style=\"height:525px; width:100%;\"></div>\n",
       "            <script type=\"text/javascript\">\n",
       "                require([\"plotly\"], function(Plotly) {\n",
       "                    window.PLOTLYENV=window.PLOTLYENV || {};\n",
       "                    \n",
       "                if (document.getElementById(\"16118ca5-d923-4163-a2db-f8a0005d31a9\")) {\n",
       "                    Plotly.newPlot(\n",
       "                        '16118ca5-d923-4163-a2db-f8a0005d31a9',\n",
       "                        [{\"ids\": [\"OpenMP_Sync_Region_Barrier EvalEOSForElems(Domain&, double*, int, int*, int) [clone ._omp_fn.17] [{/home/nchaimov/LULESH/lulesh.cc} {2263, 0}]\", \"OpenMP_Implicit_Task\", \"OpenMP_Sync_Region_Barrier CalcPressureForElems [{/home/nchaimov/LULESH/lulesh.cc} {2022, 0}]\", \".TAU application\", \"OpenMP_Sync_Region_Barrier CalcPressureForElems [{/home/nchaimov/LULESH/lulesh.cc} {2029, 0}]\", \"OpenMP_Sync_Region_Barrier CalcHydroConstraintForElems(Domain&, int, int*, double, double&) [clone ._omp_fn.29] [{/home/nchaimov/LULESH/lulesh.cc} {2556, 0}]\", \"OpenMP_Sync_Region_Barrier CalcCourantConstraintForElems(Domain&, int, int*, double, double&) [clone ._omp_fn.28] [{/home/nchaimov/LULESH/lulesh.cc} {2496, 0}]\", \"OpenMP_Implicit_Task - 2th\", \".TAU application - 2th\", \"OpenMP_Implicit_Task - 3th\", \"[CONTEXT] OpenMP_Sync_Region_Barrier EvalEOSForElems(Domain&, double*, int, int*, int) [clone ._omp_fn.17] [{/home/nchaimov/LULESH/lulesh.cc} {2263, 0}]\", \"[CONTEXT] OpenMP_Implicit_Task\", \"[CONTEXT] OpenMP_Sync_Region_Barrier CalcPressureForElems [{/home/nchaimov/LULESH/lulesh.cc} {2022, 0}]\", \"[CONTEXT] .TAU application\", \"[CONTEXT] OpenMP_Sync_Region_Barrier CalcPressureForElems [{/home/nchaimov/LULESH/lulesh.cc} {2029, 0}]\", \"[CONTEXT] OpenMP_Sync_Region_Barrier CalcHydroConstraintForElems(Domain&, int, int*, double, double&) [clone ._omp_fn.29] [{/home/nchaimov/LULESH/lulesh.cc} {2556, 0}]\", \"[CONTEXT] OpenMP_Sync_Region_Barrier CalcCourantConstraintForElems(Domain&, int, int*, double, double&) [clone ._omp_fn.28] [{/home/nchaimov/LULESH/lulesh.cc} {2496, 0}]\", \"[CONTEXT] OpenMP_Implicit_Task - 2th\", \"[CONTEXT] .TAU application - 2th\", \"[CONTEXT] OpenMP_Implicit_Task - 3th\", \"[SAMPLE] __kmp_barrier [{} {0}]\", \"[SAMPLE] CalcPressureForElems(double*, double*, double*, double*, double*, double*, double, double, double, int, int*) [clone ._omp_fn.24] [{/home/nchaimov/LULESH/lulesh.cc} {2025}]\", \"[SAMPLE] __kmp_join_barrier(int) [{} {0}]\", \"[SAMPLE] __brk [{} {0}]\", \"[SAMPLE] __kmp_join_barrier(int) [{} {0}] - 2th\", \"[SAMPLE] __kmp_barrier [{} {0}] - 2th\", \"[SAMPLE] __kmp_barrier [{} {0}] - 3th\", \"[SAMPLE] CalcPressureForElems(double*, double*, double*, double*, double*, double*, double, double, double, int, int*) [clone ._omp_fn.24] [{/home/nchaimov/LULESH/lulesh.cc} {2026}]\", \"[SAMPLE] __read_nocancel [{} {0}]\", \"[SAMPLE] EvalEOSForElems(Domain&, double*, int, int*, int) [clone ._omp_fn.17] [{/home/nchaimov/LULESH/lulesh.cc} {2249}]\", \"Others\"], \"labels\": [\"OpenMP_Sync_Region_Barrier EvalEOSForElems(Domain&, double*, int, int*, int) [clone ._omp_fn.17] [{/home/nchaimov/LULESH/lulesh.cc} {2263, 0}]\", \"OpenMP_Implicit_Task\", \"OpenMP_Sync_Region_Barrier CalcPressureForElems [{/home/nchaimov/LULESH/lulesh.cc} {2022, 0}]\", \".TAU application\", \"OpenMP_Sync_Region_Barrier CalcPressureForElems [{/home/nchaimov/LULESH/lulesh.cc} {2029, 0}]\", \"OpenMP_Sync_Region_Barrier CalcHydroConstraintForElems(Domain&, int, int*, double, double&) [clone ._omp_fn.29] [{/home/nchaimov/LULESH/lulesh.cc} {2556, 0}]\", \"OpenMP_Sync_Region_Barrier CalcCourantConstraintForElems(Domain&, int, int*, double, double&) [clone ._omp_fn.28] [{/home/nchaimov/LULESH/lulesh.cc} {2496, 0}]\", \"OpenMP_Implicit_Task\", \".TAU application\", \"OpenMP_Implicit_Task\", \"[CONTEXT] OpenMP_Sync_Region_Barrier EvalEOSForElems(Domain&, double*, int, int*, int) [clone ._omp_fn.17] [{/home/nchaimov/LULESH/lulesh.cc} {2263, 0}]\", \"[CONTEXT] OpenMP_Implicit_Task\", \"[CONTEXT] OpenMP_Sync_Region_Barrier CalcPressureForElems [{/home/nchaimov/LULESH/lulesh.cc} {2022, 0}]\", \"[CONTEXT] .TAU application\", \"[CONTEXT] OpenMP_Sync_Region_Barrier CalcPressureForElems [{/home/nchaimov/LULESH/lulesh.cc} {2029, 0}]\", \"[CONTEXT] OpenMP_Sync_Region_Barrier CalcHydroConstraintForElems(Domain&, int, int*, double, double&) [clone ._omp_fn.29] [{/home/nchaimov/LULESH/lulesh.cc} {2556, 0}]\", \"[CONTEXT] OpenMP_Sync_Region_Barrier CalcCourantConstraintForElems(Domain&, int, int*, double, double&) [clone ._omp_fn.28] [{/home/nchaimov/LULESH/lulesh.cc} {2496, 0}]\", \"[CONTEXT] OpenMP_Implicit_Task\", \"[CONTEXT] .TAU application\", \"[CONTEXT] OpenMP_Implicit_Task\", \"[SAMPLE] __kmp_barrier [{} {0}]\", \"[SAMPLE] CalcPressureForElems(double*, double*, double*, double*, double*, double*, double, double, double, int, int*) [clone ._omp_fn.24] [{/home/nchaimov/LULESH/lulesh.cc} {2025}]\", \"[SAMPLE] __kmp_join_barrier(int) [{} {0}]\", \"[SAMPLE] __brk [{} {0}]\", \"[SAMPLE] __kmp_join_barrier(int) [{} {0}]\", \"[SAMPLE] __kmp_barrier [{} {0}]\", \"[SAMPLE] __kmp_barrier [{} {0}]\", \"[SAMPLE] CalcPressureForElems(double*, double*, double*, double*, double*, double*, double, double, double, int, int*) [clone ._omp_fn.24] [{/home/nchaimov/LULESH/lulesh.cc} {2026}]\", \"[SAMPLE] __read_nocancel [{} {0}]\", \"[SAMPLE] EvalEOSForElems(Domain&, double*, int, int*, int) [clone ._omp_fn.17] [{/home/nchaimov/LULESH/lulesh.cc} {2249}]\", \"Others\"], \"parents\": [\"\", \"\", \"\", \"\", \"\", \"\", \"\", \"\", \"\", \"\", \"OpenMP_Sync_Region_Barrier EvalEOSForElems(Domain&, double*, int, int*, int) [clone ._omp_fn.17] [{/home/nchaimov/LULESH/lulesh.cc} {2263, 0}]\", \"OpenMP_Implicit_Task\", \"OpenMP_Sync_Region_Barrier CalcPressureForElems [{/home/nchaimov/LULESH/lulesh.cc} {2022, 0}]\", \".TAU application\", \"OpenMP_Sync_Region_Barrier CalcPressureForElems [{/home/nchaimov/LULESH/lulesh.cc} {2029, 0}]\", \"OpenMP_Sync_Region_Barrier CalcHydroConstraintForElems(Domain&, int, int*, double, double&) [clone ._omp_fn.29] [{/home/nchaimov/LULESH/lulesh.cc} {2556, 0}]\", \"OpenMP_Sync_Region_Barrier CalcCourantConstraintForElems(Domain&, int, int*, double, double&) [clone ._omp_fn.28] [{/home/nchaimov/LULESH/lulesh.cc} {2496, 0}]\", \"OpenMP_Implicit_Task\", \".TAU application\", \"OpenMP_Implicit_Task\", \"[CONTEXT] OpenMP_Sync_Region_Barrier EvalEOSForElems(Domain&, double*, int, int*, int) [clone ._omp_fn.17] [{/home/nchaimov/LULESH/lulesh.cc} {2263, 0}]\", \"[CONTEXT] OpenMP_Implicit_Task\", \"[CONTEXT] OpenMP_Sync_Region_Barrier CalcPressureForElems [{/home/nchaimov/LULESH/lulesh.cc} {2022, 0}]\", \"[CONTEXT] .TAU application\", \"[CONTEXT] OpenMP_Sync_Region_Barrier CalcPressureForElems [{/home/nchaimov/LULESH/lulesh.cc} {2029, 0}]\", \"[CONTEXT] OpenMP_Sync_Region_Barrier CalcHydroConstraintForElems(Domain&, int, int*, double, double&) [clone ._omp_fn.29] [{/home/nchaimov/LULESH/lulesh.cc} {2556, 0}]\", \"[CONTEXT] OpenMP_Sync_Region_Barrier CalcCourantConstraintForElems(Domain&, int, int*, double, double&) [clone ._omp_fn.28] [{/home/nchaimov/LULESH/lulesh.cc} {2496, 0}]\", \"[CONTEXT] OpenMP_Implicit_Task\", \"[CONTEXT] .TAU application\", \"[CONTEXT] OpenMP_Implicit_Task\", \"\"], \"type\": \"sunburst\", \"values\": [503149, 7493651, 291080, 1396259, 300433, 247060, 225720, 7493651, 1396259, 7493651, 0, 0, 0, 0, 0, 0, 0, 0, 0, 0, 872236, 351733, 1541796, 317313, 1541796, 872236, 872236, 208637, 205056, 196939, 9718671]}],\n",
       "                        {\"margin\": {\"b\": 0, \"l\": 0, \"r\": 0, \"t\": 0}, \"template\": {\"data\": {\"bar\": [{\"error_x\": {\"color\": \"#2a3f5f\"}, \"error_y\": {\"color\": \"#2a3f5f\"}, \"marker\": {\"line\": {\"color\": \"#E5ECF6\", \"width\": 0.5}}, \"type\": \"bar\"}], \"barpolar\": [{\"marker\": {\"line\": {\"color\": \"#E5ECF6\", \"width\": 0.5}}, \"type\": \"barpolar\"}], \"carpet\": [{\"aaxis\": {\"endlinecolor\": \"#2a3f5f\", \"gridcolor\": \"white\", \"linecolor\": \"white\", \"minorgridcolor\": \"white\", \"startlinecolor\": \"#2a3f5f\"}, \"baxis\": {\"endlinecolor\": \"#2a3f5f\", \"gridcolor\": \"white\", \"linecolor\": \"white\", \"minorgridcolor\": \"white\", \"startlinecolor\": \"#2a3f5f\"}, \"type\": \"carpet\"}], \"choropleth\": [{\"colorbar\": {\"outlinewidth\": 0, \"ticks\": \"\"}, \"type\": \"choropleth\"}], \"contour\": [{\"colorbar\": {\"outlinewidth\": 0, \"ticks\": \"\"}, \"colorscale\": [[0.0, \"#0d0887\"], [0.1111111111111111, \"#46039f\"], [0.2222222222222222, \"#7201a8\"], [0.3333333333333333, \"#9c179e\"], [0.4444444444444444, \"#bd3786\"], [0.5555555555555556, \"#d8576b\"], [0.6666666666666666, \"#ed7953\"], [0.7777777777777778, \"#fb9f3a\"], [0.8888888888888888, \"#fdca26\"], [1.0, \"#f0f921\"]], \"type\": \"contour\"}], \"contourcarpet\": [{\"colorbar\": {\"outlinewidth\": 0, \"ticks\": \"\"}, \"type\": \"contourcarpet\"}], \"heatmap\": [{\"colorbar\": {\"outlinewidth\": 0, \"ticks\": \"\"}, \"colorscale\": [[0.0, \"#0d0887\"], [0.1111111111111111, \"#46039f\"], [0.2222222222222222, \"#7201a8\"], [0.3333333333333333, \"#9c179e\"], [0.4444444444444444, \"#bd3786\"], [0.5555555555555556, \"#d8576b\"], [0.6666666666666666, \"#ed7953\"], [0.7777777777777778, \"#fb9f3a\"], [0.8888888888888888, \"#fdca26\"], [1.0, \"#f0f921\"]], \"type\": \"heatmap\"}], \"heatmapgl\": [{\"colorbar\": {\"outlinewidth\": 0, \"ticks\": \"\"}, \"colorscale\": [[0.0, \"#0d0887\"], [0.1111111111111111, \"#46039f\"], [0.2222222222222222, \"#7201a8\"], [0.3333333333333333, \"#9c179e\"], [0.4444444444444444, \"#bd3786\"], [0.5555555555555556, \"#d8576b\"], [0.6666666666666666, \"#ed7953\"], [0.7777777777777778, \"#fb9f3a\"], [0.8888888888888888, \"#fdca26\"], [1.0, \"#f0f921\"]], \"type\": \"heatmapgl\"}], \"histogram\": [{\"marker\": {\"colorbar\": {\"outlinewidth\": 0, \"ticks\": \"\"}}, \"type\": \"histogram\"}], \"histogram2d\": [{\"colorbar\": {\"outlinewidth\": 0, \"ticks\": \"\"}, \"colorscale\": [[0.0, \"#0d0887\"], [0.1111111111111111, \"#46039f\"], [0.2222222222222222, \"#7201a8\"], [0.3333333333333333, \"#9c179e\"], [0.4444444444444444, \"#bd3786\"], [0.5555555555555556, \"#d8576b\"], [0.6666666666666666, \"#ed7953\"], [0.7777777777777778, \"#fb9f3a\"], [0.8888888888888888, \"#fdca26\"], [1.0, \"#f0f921\"]], \"type\": \"histogram2d\"}], \"histogram2dcontour\": [{\"colorbar\": {\"outlinewidth\": 0, \"ticks\": \"\"}, \"colorscale\": [[0.0, \"#0d0887\"], [0.1111111111111111, \"#46039f\"], [0.2222222222222222, \"#7201a8\"], [0.3333333333333333, \"#9c179e\"], [0.4444444444444444, \"#bd3786\"], [0.5555555555555556, \"#d8576b\"], [0.6666666666666666, \"#ed7953\"], [0.7777777777777778, \"#fb9f3a\"], [0.8888888888888888, \"#fdca26\"], [1.0, \"#f0f921\"]], \"type\": \"histogram2dcontour\"}], \"mesh3d\": [{\"colorbar\": {\"outlinewidth\": 0, \"ticks\": \"\"}, \"type\": \"mesh3d\"}], \"parcoords\": [{\"line\": {\"colorbar\": {\"outlinewidth\": 0, \"ticks\": \"\"}}, \"type\": \"parcoords\"}], \"pie\": [{\"automargin\": true, \"type\": \"pie\"}], \"scatter\": [{\"marker\": {\"colorbar\": {\"outlinewidth\": 0, \"ticks\": \"\"}}, \"type\": \"scatter\"}], \"scatter3d\": [{\"line\": {\"colorbar\": {\"outlinewidth\": 0, \"ticks\": \"\"}}, \"marker\": {\"colorbar\": {\"outlinewidth\": 0, \"ticks\": \"\"}}, \"type\": \"scatter3d\"}], \"scattercarpet\": [{\"marker\": {\"colorbar\": {\"outlinewidth\": 0, \"ticks\": \"\"}}, \"type\": \"scattercarpet\"}], \"scattergeo\": [{\"marker\": {\"colorbar\": {\"outlinewidth\": 0, \"ticks\": \"\"}}, \"type\": \"scattergeo\"}], \"scattergl\": [{\"marker\": {\"colorbar\": {\"outlinewidth\": 0, \"ticks\": \"\"}}, \"type\": \"scattergl\"}], \"scattermapbox\": [{\"marker\": {\"colorbar\": {\"outlinewidth\": 0, \"ticks\": \"\"}}, \"type\": \"scattermapbox\"}], \"scatterpolar\": [{\"marker\": {\"colorbar\": {\"outlinewidth\": 0, \"ticks\": \"\"}}, \"type\": \"scatterpolar\"}], \"scatterpolargl\": [{\"marker\": {\"colorbar\": {\"outlinewidth\": 0, \"ticks\": \"\"}}, \"type\": \"scatterpolargl\"}], \"scatterternary\": [{\"marker\": {\"colorbar\": {\"outlinewidth\": 0, \"ticks\": \"\"}}, \"type\": \"scatterternary\"}], \"surface\": [{\"colorbar\": {\"outlinewidth\": 0, \"ticks\": \"\"}, \"colorscale\": [[0.0, \"#0d0887\"], [0.1111111111111111, \"#46039f\"], [0.2222222222222222, \"#7201a8\"], [0.3333333333333333, \"#9c179e\"], [0.4444444444444444, \"#bd3786\"], [0.5555555555555556, \"#d8576b\"], [0.6666666666666666, \"#ed7953\"], [0.7777777777777778, \"#fb9f3a\"], [0.8888888888888888, \"#fdca26\"], [1.0, \"#f0f921\"]], \"type\": \"surface\"}], \"table\": [{\"cells\": {\"fill\": {\"color\": \"#EBF0F8\"}, \"line\": {\"color\": \"white\"}}, \"header\": {\"fill\": {\"color\": \"#C8D4E3\"}, \"line\": {\"color\": \"white\"}}, \"type\": \"table\"}]}, \"layout\": {\"annotationdefaults\": {\"arrowcolor\": \"#2a3f5f\", \"arrowhead\": 0, \"arrowwidth\": 1}, \"coloraxis\": {\"colorbar\": {\"outlinewidth\": 0, \"ticks\": \"\"}}, \"colorscale\": {\"diverging\": [[0, \"#8e0152\"], [0.1, \"#c51b7d\"], [0.2, \"#de77ae\"], [0.3, \"#f1b6da\"], [0.4, \"#fde0ef\"], [0.5, \"#f7f7f7\"], [0.6, \"#e6f5d0\"], [0.7, \"#b8e186\"], [0.8, \"#7fbc41\"], [0.9, \"#4d9221\"], [1, \"#276419\"]], \"sequential\": [[0.0, \"#0d0887\"], [0.1111111111111111, \"#46039f\"], [0.2222222222222222, \"#7201a8\"], [0.3333333333333333, \"#9c179e\"], [0.4444444444444444, \"#bd3786\"], [0.5555555555555556, \"#d8576b\"], [0.6666666666666666, \"#ed7953\"], [0.7777777777777778, \"#fb9f3a\"], [0.8888888888888888, \"#fdca26\"], [1.0, \"#f0f921\"]], \"sequentialminus\": [[0.0, \"#0d0887\"], [0.1111111111111111, \"#46039f\"], [0.2222222222222222, \"#7201a8\"], [0.3333333333333333, \"#9c179e\"], [0.4444444444444444, \"#bd3786\"], [0.5555555555555556, \"#d8576b\"], [0.6666666666666666, \"#ed7953\"], [0.7777777777777778, \"#fb9f3a\"], [0.8888888888888888, \"#fdca26\"], [1.0, \"#f0f921\"]]}, \"colorway\": [\"#636efa\", \"#EF553B\", \"#00cc96\", \"#ab63fa\", \"#FFA15A\", \"#19d3f3\", \"#FF6692\", \"#B6E880\", \"#FF97FF\", \"#FECB52\"], \"font\": {\"color\": \"#2a3f5f\"}, \"geo\": {\"bgcolor\": \"white\", \"lakecolor\": \"white\", \"landcolor\": \"#E5ECF6\", \"showlakes\": true, \"showland\": true, \"subunitcolor\": \"white\"}, \"hoverlabel\": {\"align\": \"left\"}, \"hovermode\": \"closest\", \"mapbox\": {\"style\": \"light\"}, \"paper_bgcolor\": \"white\", \"plot_bgcolor\": \"#E5ECF6\", \"polar\": {\"angularaxis\": {\"gridcolor\": \"white\", \"linecolor\": \"white\", \"ticks\": \"\"}, \"bgcolor\": \"#E5ECF6\", \"radialaxis\": {\"gridcolor\": \"white\", \"linecolor\": \"white\", \"ticks\": \"\"}}, \"scene\": {\"xaxis\": {\"backgroundcolor\": \"#E5ECF6\", \"gridcolor\": \"white\", \"gridwidth\": 2, \"linecolor\": \"white\", \"showbackground\": true, \"ticks\": \"\", \"zerolinecolor\": \"white\"}, \"yaxis\": {\"backgroundcolor\": \"#E5ECF6\", \"gridcolor\": \"white\", \"gridwidth\": 2, \"linecolor\": \"white\", \"showbackground\": true, \"ticks\": \"\", \"zerolinecolor\": \"white\"}, \"zaxis\": {\"backgroundcolor\": \"#E5ECF6\", \"gridcolor\": \"white\", \"gridwidth\": 2, \"linecolor\": \"white\", \"showbackground\": true, \"ticks\": \"\", \"zerolinecolor\": \"white\"}}, \"shapedefaults\": {\"line\": {\"color\": \"#2a3f5f\"}}, \"ternary\": {\"aaxis\": {\"gridcolor\": \"white\", \"linecolor\": \"white\", \"ticks\": \"\"}, \"baxis\": {\"gridcolor\": \"white\", \"linecolor\": \"white\", \"ticks\": \"\"}, \"bgcolor\": \"#E5ECF6\", \"caxis\": {\"gridcolor\": \"white\", \"linecolor\": \"white\", \"ticks\": \"\"}}, \"title\": {\"x\": 0.05}, \"xaxis\": {\"automargin\": true, \"gridcolor\": \"white\", \"linecolor\": \"white\", \"ticks\": \"\", \"title\": {\"standoff\": 15}, \"zerolinecolor\": \"white\", \"zerolinewidth\": 2}, \"yaxis\": {\"automargin\": true, \"gridcolor\": \"white\", \"linecolor\": \"white\", \"ticks\": \"\", \"title\": {\"standoff\": 15}, \"zerolinecolor\": \"white\", \"zerolinewidth\": 2}}}},\n",
       "                        {\"responsive\": true}\n",
       "                    ).then(function(){\n",
       "                            \n",
       "var gd = document.getElementById('16118ca5-d923-4163-a2db-f8a0005d31a9');\n",
       "var x = new MutationObserver(function (mutations, observer) {{\n",
       "        var display = window.getComputedStyle(gd).display;\n",
       "        if (!display || display === 'none') {{\n",
       "            console.log([gd, 'removed!']);\n",
       "            Plotly.purge(gd);\n",
       "            observer.disconnect();\n",
       "        }}\n",
       "}});\n",
       "\n",
       "// Listen for the removal of the full notebook cells\n",
       "var notebookContainer = gd.closest('#notebook-container');\n",
       "if (notebookContainer) {{\n",
       "    x.observe(notebookContainer, {childList: true});\n",
       "}}\n",
       "\n",
       "// Listen for the clearing of the current output cell\n",
       "var outputEl = gd.closest('.output');\n",
       "if (outputEl) {{\n",
       "    x.observe(outputEl, {childList: true});\n",
       "}}\n",
       "\n",
       "                        })\n",
       "                };\n",
       "                });\n",
       "            </script>\n",
       "        </div>"
      ]
     },
     "metadata": {},
     "output_type": "display_data"
    }
   ],
   "source": [
    "import plotly.graph_objects as go\n",
    "\n",
    "fig =go.Figure(go.Sunburst(\n",
    "    ids=ids,\n",
    "    labels=labels,\n",
    "    parents=parents,\n",
    "    values=values,\n",
    "))\n",
    "fig.update_layout(margin = dict(t=0, l=0, r=0, b=0))\n",
    "\n",
    "fig.show()"
   ]
  }
 ],
 "metadata": {
  "kernelspec": {
   "display_name": "Python 3",
   "language": "python",
   "name": "python3"
  },
  "language_info": {
   "codemirror_mode": {
    "name": "ipython",
    "version": 3
   },
   "file_extension": ".py",
   "mimetype": "text/x-python",
   "name": "python",
   "nbconvert_exporter": "python",
   "pygments_lexer": "ipython3",
   "version": "3.7.7"
  }
 },
 "nbformat": 4,
 "nbformat_minor": 4
}
